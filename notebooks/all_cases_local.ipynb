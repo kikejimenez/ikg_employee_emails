{
 "cells": [
  {
   "cell_type": "code",
   "execution_count": 162,
   "metadata": {
    "colab": {
     "base_uri": "https://localhost:8080/",
     "height": 34
    },
    "colab_type": "code",
    "id": "6pYcJ_e057K9",
    "outputId": "dbfb8ab9-4044-4a6c-febc-35ed9aefde97"
   },
   "outputs": [
    {
     "name": "stdout",
     "output_type": "stream",
     "text": [
      "Note: you may need to restart the kernel to use updated packages.\n"
     ]
    }
   ],
   "source": [
    "pip install -r ../requirements.txt > /dev/null"
   ]
  },
  {
   "cell_type": "code",
   "execution_count": 163,
   "metadata": {
    "colab": {},
    "colab_type": "code",
    "id": "-rMs2k2y57LE"
   },
   "outputs": [
    {
     "name": "stdout",
     "output_type": "stream",
     "text": [
      "Note: you may need to restart the kernel to use updated packages.\n"
     ]
    }
   ],
   "source": [
    "pip install job-offer-classifier --upgrade > /dev/null"
   ]
  },
  {
   "cell_type": "code",
   "execution_count": 164,
   "metadata": {
    "colab": {
     "base_uri": "https://localhost:8080/",
     "height": 52
    },
    "colab_type": "code",
    "id": "x9z0hdC357LJ",
    "outputId": "6c070c94-028a-4823-e62f-0b019ba48399"
   },
   "outputs": [
    {
     "name": "stdout",
     "output_type": "stream",
     "text": [
      "The autoreload extension is already loaded. To reload it, use:\n",
      "  %reload_ext autoreload\n"
     ]
    }
   ],
   "source": [
    "%load_ext autoreload\n",
    "%autoreload 2"
   ]
  },
  {
   "cell_type": "code",
   "execution_count": 165,
   "metadata": {
    "colab": {},
    "colab_type": "code",
    "id": "xJL3iSoh57LN"
   },
   "outputs": [],
   "source": [
    "# default "
   ]
  },
  {
   "cell_type": "code",
   "execution_count": 166,
   "metadata": {
    "colab": {},
    "colab_type": "code",
    "id": "TlGbmvs857LR"
   },
   "outputs": [],
   "source": [
    "from os import path,listdir\n",
    "from shutil import rmtree\n",
    "import pandas as pd\n",
    "import numpy as np\n",
    "import job_offer_classifier\n",
    "from job_offer_classifier.pipeline_classifier import Pipeline\n",
    "from job_offer_classifier.validations import KFoldPipe\n",
    "from job_offer_classifier.pipeline_classifier import plot_confusion_matrix"
   ]
  },
  {
   "cell_type": "code",
   "execution_count": 167,
   "metadata": {
    "colab": {
     "base_uri": "https://localhost:8080/",
     "height": 34
    },
    "colab_type": "code",
    "id": "4y3eHzAo57LV",
    "outputId": "0055c299-27f4-4ea7-9483-526a45091248"
   },
   "outputs": [
    {
     "data": {
      "text/plain": [
       "'0.0.5'"
      ]
     },
     "execution_count": 167,
     "metadata": {},
     "output_type": "execute_result"
    }
   ],
   "source": [
    "job_offer_classifier.__version__"
   ]
  },
  {
   "cell_type": "code",
   "execution_count": 168,
   "metadata": {
    "colab": {},
    "colab_type": "code",
    "id": "yiD15wCL57La"
   },
   "outputs": [],
   "source": [
    "# Shutdown TF info logging\n",
    "import tensorflow as tf\n",
    "tf.compat.v1.logging.set_verbosity(tf.compat.v1.logging.ERROR)"
   ]
  },
  {
   "cell_type": "markdown",
   "metadata": {
    "colab_type": "text",
    "id": "2NTBo-2457Lf"
   },
   "source": [
    "## Balance the dataset"
   ]
  },
  {
   "cell_type": "code",
   "execution_count": 169,
   "metadata": {
    "colab": {},
    "colab_type": "code",
    "id": "mS-7DtLt6KTH"
   },
   "outputs": [],
   "source": [
    "intekglobal_data = '../data/interim/intekglobal_employee/emails.csv'\n",
    "sibatel_web_data = '../data/raw/sibatel_and_webpage.csv'\n",
    "processed_data_file = '../data/processed/sitabel_web_intekglobal/emails.csv'\n",
    "models_dir = '/models/'\n",
    "estimator_dir = path.join(models_dir,'estimator')"
   ]
  },
  {
   "cell_type": "code",
   "execution_count": 170,
   "metadata": {
    "colab": {
     "base_uri": "https://localhost:8080/",
     "height": 34
    },
    "colab_type": "code",
    "id": "2BKfCrWG-aFO",
    "outputId": "234f3402-dcd0-4b4e-84b6-9b7c4c4a5bf7"
   },
   "outputs": [
    {
     "data": {
      "text/plain": [
       "True"
      ]
     },
     "execution_count": 170,
     "metadata": {},
     "output_type": "execute_result"
    }
   ],
   "source": [
    "path.isdir(models_dir)"
   ]
  },
  {
   "cell_type": "markdown",
   "metadata": {
    "colab_type": "text",
    "id": "KUmUBbA-57Lh"
   },
   "source": [
    "Cibatel+webpage"
   ]
  },
  {
   "cell_type": "code",
   "execution_count": 171,
   "metadata": {
    "colab": {},
    "colab_type": "code",
    "id": "6Zs26VCw57Li"
   },
   "outputs": [],
   "source": [
    "df = pd.read_csv(sibatel_web_data)\n",
    "nb_cases = min([min(df.sentiment.value_counts().values),50])\n",
    "df_pos = df[df.sentiment == 1].sample(nb_cases)\n",
    "df_neg = df[df.sentiment == 0].sample(nb_cases)\n",
    "\n",
    "df_sibatel_web = pd.concat([df_pos,df_neg]).sample(frac = 1)"
   ]
  },
  {
   "cell_type": "markdown",
   "metadata": {
    "colab_type": "text",
    "id": "KJULxg6E57Ln"
   },
   "source": [
    "Intekglobal"
   ]
  },
  {
   "cell_type": "code",
   "execution_count": 184,
   "metadata": {
    "colab": {},
    "colab_type": "code",
    "id": "e_mnrb-d57Lo"
   },
   "outputs": [],
   "source": [
    "df = pd.read_csv(intekglobal_data)\n",
    "df = df[(df.sentiment == 'positive') | (df.sentiment == 'negative')]\n",
    "df.sentiment = df.sentiment.apply(lambda s: int(s == 'positive'))\n",
    "df_intekglobal = df\n",
    "del df"
   ]
  },
  {
   "cell_type": "markdown",
   "metadata": {
    "colab_type": "text",
    "id": "Sr_F8JZk57Lr"
   },
   "source": [
    "All"
   ]
  },
  {
   "cell_type": "code",
   "execution_count": 173,
   "metadata": {
    "colab": {},
    "colab_type": "code",
    "id": "lD63y95b57Lw"
   },
   "outputs": [],
   "source": [
    "\n",
    "df = pd.concat([df_sibatel_web,df_intekglobal.drop('mocker',axis=1)]).sample(frac=1)\n",
    "df.to_csv(processed_data_file)"
   ]
  },
  {
   "cell_type": "code",
   "execution_count": 174,
   "metadata": {
    "colab": {
     "base_uri": "https://localhost:8080/",
     "height": 70
    },
    "colab_type": "code",
    "id": "7aJx_4s-57L3",
    "outputId": "9546d893-eb3e-46a3-fb96-605d39775194"
   },
   "outputs": [
    {
     "data": {
      "text/plain": [
       "1    109\n",
       "0     88\n",
       "Name: sentiment, dtype: int64"
      ]
     },
     "execution_count": 174,
     "metadata": {},
     "output_type": "execute_result"
    }
   ],
   "source": [
    "df.sentiment.value_counts()"
   ]
  },
  {
   "cell_type": "code",
   "execution_count": 186,
   "metadata": {
    "colab": {},
    "colab_type": "code",
    "id": "RoM-y5P157L8"
   },
   "outputs": [],
   "source": [
    "kfp = KFoldPipe(n_splits = 4,src_file=processed_data_file)\n",
    "kfp.train_steps = 2000"
   ]
  },
  {
   "cell_type": "code",
   "execution_count": null,
   "metadata": {
    "colab": {},
    "colab_type": "code",
    "id": "TK7Szxz557L_"
   },
   "outputs": [],
   "source": [
    "kfp.k_fold_validation()"
   ]
  },
  {
   "cell_type": "code",
   "execution_count": null,
   "metadata": {
    "colab": {
     "base_uri": "https://localhost:8080/",
     "height": 34
    },
    "colab_type": "code",
    "id": "u7AJuzIV57MH",
    "outputId": "4e15c3ef-f404-4bd2-e19d-495057d8a124"
   },
   "outputs": [],
   "source": [
    "kfp.best_seed"
   ]
  },
  {
   "cell_type": "code",
   "execution_count": 178,
   "metadata": {
    "colab": {},
    "colab_type": "code",
    "id": "hzTXqQMW57ML"
   },
   "outputs": [],
   "source": [
    "kfp.random_state = kfp.best_seed\n",
    "kfp.pipeline()"
   ]
  },
  {
   "cell_type": "code",
   "execution_count": 179,
   "metadata": {
    "colab": {},
    "colab_type": "code",
    "id": "Fx_F__-457MT"
   },
   "outputs": [],
   "source": [
    "rmtree(estimator_dir,ignore_errors=True)\n",
    "kfp.export_estimator(estimator_dir)"
   ]
  },
  {
   "cell_type": "code",
   "execution_count": 180,
   "metadata": {
    "colab": {},
    "colab_type": "code",
    "id": "F1T7ypWn57MW"
   },
   "outputs": [],
   "source": [
    "kfp = KFoldPipe(n_splits =1,src_file=processed_data_file,estimator_dir=estimator_dir)\n",
    "kfp.load_estimator()\n",
    "kfp.input_fns()"
   ]
  },
  {
   "cell_type": "code",
   "execution_count": 181,
   "metadata": {
    "colab": {
     "base_uri": "https://localhost:8080/",
     "height": 294
    },
    "colab_type": "code",
    "id": "egYT8wBB57Ma",
    "outputId": "24965743-a357-48cd-a4d1-4fde40b125cf"
   },
   "outputs": [
    {
     "data": {
      "image/png": "[encoded data removed]",
      "text/plain": [
       "<Figure size 432x288 with 2 Axes>"
      ]
     },
     "metadata": {
      "needs_background": "light"
     },
     "output_type": "display_data"
    }
   ],
   "source": [
    "kfp.plot_confusion_matrix('train')"
   ]
  },
  {
   "cell_type": "code",
   "execution_count": 182,
   "metadata": {
    "colab": {
     "base_uri": "https://localhost:8080/",
     "height": 294
    },
    "colab_type": "code",
    "id": "jFECM5Xg57Md",
    "outputId": "113fee09-6b23-456e-b840-39a59784596b"
   },
   "outputs": [
    {
     "data": {
      "image/png": "[encoded data removed]",
      "text/plain": [
       "<Figure size 432x288 with 2 Axes>"
      ]
     },
     "metadata": {
      "needs_background": "light"
     },
     "output_type": "display_data"
    }
   ],
   "source": [
    "kfp.plot_confusion_matrix('test')"
   ]
  },
  {
   "cell_type": "code",
   "execution_count": 185,
   "metadata": {},
   "outputs": [
    {
     "data": {
      "text/plain": [
       "{'accuracy': 0.89873415,\n",
       " 'accuracy_baseline': 0.556962,\n",
       " 'auc': 0.96396106,\n",
       " 'auc_precision_recall': 0.9706205,\n",
       " 'average_loss': 0.2579377,\n",
       " 'label/mean': 0.556962,\n",
       " 'loss': 0.2579377,\n",
       " 'precision': 0.86,\n",
       " 'prediction/mean': 0.5620924,\n",
       " 'recall': 0.97727275,\n",
       " 'global_step': 2500,\n",
       " 'f1_score': 0.9148936346139558}"
      ]
     },
     "execution_count": 185,
     "metadata": {},
     "output_type": "execute_result"
    }
   ],
   "source": [
    "kfp.evaluate()\n",
    "kfp.evaluation['test']"
   ]
  },
  {
   "cell_type": "code",
   "execution_count": 183,
   "metadata": {
    "colab": {
     "base_uri": "https://localhost:8080/",
     "height": 1000
    },
    "colab_type": "code",
    "id": "N70VhFYB57Mg",
    "outputId": "cb915e20-3813-4901-86e4-fc330d923ae6"
   },
   "outputs": [
    {
     "name": "stdout",
     "output_type": "stream",
     "text": [
      "191\n",
      "Greetings,\n",
      "\n",
      "I saw the description for the job you sent me and I think it could be\n",
      "a good change for me. It's a bit different from my usual roles but\n",
      "I'm certainly up to the challenge. \n",
      "\n",
      "Regards.\n",
      "Expected: 1\n",
      "Predicted: 1\n",
      "129\n",
      "dear mr dk singh,\n",
      "i am forwarding my resume, as desired.hope to hear from you soon.\n",
      "Expected: 1\n",
      "Predicted: 1\n",
      "21\n",
      "I am a graduate of CICESE in the area of ​​telecommunications and digital signal processing, I am looking for a job, if you have any attached CV vacancy.\n",
      "Expected: 1\n",
      "Predicted: 1\n",
      "12\n",
      "Hello,\n",
      "\n",
      "Regarding the job position, I would be interested in interviewing for this role \n",
      "as it matches my profile and I believe my strengths can be put to good use.\n",
      "\n",
      "Regards.\n",
      "Expected: 1\n",
      "Predicted: 1\n",
      "186\n",
      "thank you very much for offering me the opportunity to work at Norris, Wilson and Kelley as Clinical embryologist.\n",
      "after much deliberation, i will not be accepting the position, as it isn’t the right fit for my long-term career goals.\n",
      "i sincerely appreciate the offer and give you my best wishes in finding a suitable candidate for the position.\n",
      "i wish you and the company well in all future endeavours.\n",
      "Expected: 0\n",
      "Predicted: 0\n"
     ]
    }
   ],
   "source": [
    "df_ex = kfp.dfs['test'].sample(5)\n",
    "df_ex['prediction'] = kfp.predict(df_ex)\n",
    "\n",
    "for k, r in df_ex.iterrows():\n",
    "    print(k, sep='\\n')\n",
    "    print(\n",
    "        r.payload.strip(),\n",
    "        f'Expected: {r.sentiment}',\n",
    "        f'Predicted: {r.prediction}',\n",
    "        sep='\\n'\n",
    "    )"
   ]
  },
  {
   "cell_type": "markdown",
   "metadata": {
    "colab_type": "text",
    "id": "tFDGC76B57Mj"
   },
   "source": [
    "The dataset consists of mock emails by the Intekglobal employees. "
   ]
  },
  {
   "cell_type": "markdown",
   "metadata": {
    "colab_type": "text",
    "id": "rRSKpCQ357Mk"
   },
   "source": [
    "Convert 'positive' and 'negative' values to 1 and 0 values, respectively."
   ]
  },
  {
   "cell_type": "code",
   "execution_count": null,
   "metadata": {
    "colab": {},
    "colab_type": "code",
    "id": "hwC7Z7fP-o-x"
   },
   "outputs": [],
   "source": []
  }
 ],
 "metadata": {
  "colab": {
   "name": "all_cases.ipynb",
   "provenance": []
  },
  "kernelspec": {
   "display_name": "Python 3",
   "language": "python",
   "name": "python3"
  },
  "language_info": {
   "codemirror_mode": {
    "name": "ipython",
    "version": 3
   },
   "file_extension": ".py",
   "mimetype": "text/x-python",
   "name": "python",
   "nbconvert_exporter": "python",
   "pygments_lexer": "ipython3",
   "version": "3.7.6"
  }
 },
 "nbformat": 4,
 "nbformat_minor": 4
}
