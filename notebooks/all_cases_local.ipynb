{
 "cells": [
  {
   "cell_type": "code",
   "execution_count": 19,
   "metadata": {
    "colab": {
     "base_uri": "https://localhost:8080/",
     "height": 34
    },
    "colab_type": "code",
    "id": "6pYcJ_e057K9",
    "outputId": "dbfb8ab9-4044-4a6c-febc-35ed9aefde97"
   },
   "outputs": [
    {
     "name": "stdout",
     "output_type": "stream",
     "text": [
      "Note: you may need to restart the kernel to use updated packages.\n"
     ]
    }
   ],
   "source": [
    "pip install -r ../requirements.txt > /dev/null"
   ]
  },
  {
   "cell_type": "code",
   "execution_count": 20,
   "metadata": {
    "colab": {},
    "colab_type": "code",
    "id": "-rMs2k2y57LE"
   },
   "outputs": [
    {
     "name": "stdout",
     "output_type": "stream",
     "text": [
      "Note: you may need to restart the kernel to use updated packages.\n"
     ]
    }
   ],
   "source": [
    "pip install job-offer-classifier --upgrade > /dev/null"
   ]
  },
  {
   "cell_type": "code",
   "execution_count": 21,
   "metadata": {
    "colab": {
     "base_uri": "https://localhost:8080/",
     "height": 52
    },
    "colab_type": "code",
    "id": "x9z0hdC357LJ",
    "outputId": "6c070c94-028a-4823-e62f-0b019ba48399"
   },
   "outputs": [
    {
     "name": "stdout",
     "output_type": "stream",
     "text": [
      "The autoreload extension is already loaded. To reload it, use:\n",
      "  %reload_ext autoreload\n"
     ]
    }
   ],
   "source": [
    "%load_ext autoreload\n",
    "%autoreload 2"
   ]
  },
  {
   "cell_type": "code",
   "execution_count": 22,
   "metadata": {
    "colab": {},
    "colab_type": "code",
    "id": "xJL3iSoh57LN"
   },
   "outputs": [],
   "source": [
    "# default "
   ]
  },
  {
   "cell_type": "code",
   "execution_count": 23,
   "metadata": {
    "colab": {},
    "colab_type": "code",
    "id": "TlGbmvs857LR"
   },
   "outputs": [],
   "source": [
    "from os import path,listdir\n",
    "from shutil import rmtree\n",
    "import pandas as pd\n",
    "import numpy as np\n",
    "import job_offer_classifier\n",
    "from job_offer_classifier.pipeline_classifier import Pipeline\n",
    "from job_offer_classifier.validations import KFoldPipe\n",
    "from job_offer_classifier.pipeline_classifier import plot_confusion_matrix"
   ]
  },
  {
   "cell_type": "code",
   "execution_count": 24,
   "metadata": {
    "colab": {
     "base_uri": "https://localhost:8080/",
     "height": 34
    },
    "colab_type": "code",
    "id": "4y3eHzAo57LV",
    "outputId": "0055c299-27f4-4ea7-9483-526a45091248"
   },
   "outputs": [
    {
     "data": {
      "text/plain": [
       "'0.0.5'"
      ]
     },
     "execution_count": 24,
     "metadata": {},
     "output_type": "execute_result"
    }
   ],
   "source": [
    "job_offer_classifier.__version__"
   ]
  },
  {
   "cell_type": "code",
   "execution_count": 25,
   "metadata": {
    "colab": {},
    "colab_type": "code",
    "id": "yiD15wCL57La"
   },
   "outputs": [],
   "source": [
    "# Shutdown TF info logging\n",
    "import tensorflow as tf\n",
    "tf.compat.v1.logging.set_verbosity(tf.compat.v1.logging.ERROR)"
   ]
  },
  {
   "cell_type": "markdown",
   "metadata": {
    "colab_type": "text",
    "id": "2NTBo-2457Lf"
   },
   "source": [
    "## Balance the dataset"
   ]
  },
  {
   "cell_type": "code",
   "execution_count": 26,
   "metadata": {
    "colab": {},
    "colab_type": "code",
    "id": "mS-7DtLt6KTH"
   },
   "outputs": [],
   "source": [
    "intekglobal_data = '../data/interim/intekglobal_employee/emails.csv'\n",
    "sibatel_web_data = '../data/raw/sibatel_and_webpage.csv'\n",
    "processed_data_file = '../data/processed/annotated_emails.csv'\n",
    "models_dir = '/models/'\n",
    "estimator_dir = path.join(models_dir,'estimator')"
   ]
  },
  {
   "cell_type": "code",
   "execution_count": 27,
   "metadata": {
    "colab": {
     "base_uri": "https://localhost:8080/",
     "height": 34
    },
    "colab_type": "code",
    "id": "2BKfCrWG-aFO",
    "outputId": "234f3402-dcd0-4b4e-84b6-9b7c4c4a5bf7"
   },
   "outputs": [
    {
     "data": {
      "text/plain": [
       "True"
      ]
     },
     "execution_count": 27,
     "metadata": {},
     "output_type": "execute_result"
    }
   ],
   "source": [
    "path.isdir(models_dir)"
   ]
  },
  {
   "cell_type": "markdown",
   "metadata": {
    "colab_type": "text",
    "id": "KUmUBbA-57Lh"
   },
   "source": [
    "Cibatel+webpage"
   ]
  },
  {
   "cell_type": "code",
   "execution_count": 29,
   "metadata": {
    "colab": {},
    "colab_type": "code",
    "id": "6Zs26VCw57Li"
   },
   "outputs": [],
   "source": [
    "df = pd.read_csv(sibatel_web_data)\n",
    "nb_cases = min([min(df.sentiment.value_counts().values),50])\n",
    "df_pos = df[df.sentiment == 1].sample(nb_cases)\n",
    "df_neg = df[df.sentiment == 0].sample(nb_cases)\n",
    "\n",
    "df_sibatel_web = pd.concat([df_pos,df_neg]).sample(frac = 1)\n",
    "df_sibatel_web['mocker'] = 'Enrique'"
   ]
  },
  {
   "cell_type": "markdown",
   "metadata": {
    "colab_type": "text",
    "id": "KJULxg6E57Ln"
   },
   "source": [
    "Intekglobal"
   ]
  },
  {
   "cell_type": "code",
   "execution_count": 30,
   "metadata": {
    "colab": {},
    "colab_type": "code",
    "id": "e_mnrb-d57Lo"
   },
   "outputs": [],
   "source": [
    "df = pd.read_csv(intekglobal_data)\n",
    "df = df[(df.sentiment == 'positive') | (df.sentiment == 'negative')]\n",
    "df.sentiment = df.sentiment.apply(lambda s: int(s == 'positive'))\n",
    "\n",
    "df_intekglobal = df\n",
    "del df"
   ]
  },
  {
   "cell_type": "markdown",
   "metadata": {
    "colab_type": "text",
    "id": "Sr_F8JZk57Lr"
   },
   "source": [
    "All"
   ]
  },
  {
   "cell_type": "code",
   "execution_count": 31,
   "metadata": {
    "colab": {},
    "colab_type": "code",
    "id": "lD63y95b57Lw"
   },
   "outputs": [],
   "source": [
    "\n",
    "df = pd.concat([df_sibatel_web,df_intekglobal]).sample(frac=1)\n",
    "df.to_csv(processed_data_file)"
   ]
  },
  {
   "cell_type": "code",
   "execution_count": 32,
   "metadata": {
    "colab": {
     "base_uri": "https://localhost:8080/",
     "height": 70
    },
    "colab_type": "code",
    "id": "7aJx_4s-57L3",
    "outputId": "9546d893-eb3e-46a3-fb96-605d39775194"
   },
   "outputs": [
    {
     "data": {
      "text/plain": [
       "1    109\n",
       "0     88\n",
       "Name: sentiment, dtype: int64"
      ]
     },
     "execution_count": 32,
     "metadata": {},
     "output_type": "execute_result"
    }
   ],
   "source": [
    "df.sentiment.value_counts()"
   ]
  },
  {
   "cell_type": "code",
   "execution_count": 34,
   "metadata": {
    "colab": {},
    "colab_type": "code",
    "id": "RoM-y5P157L8"
   },
   "outputs": [],
   "source": [
    "kfp = KFoldPipe(n_splits = 4,src_file=processed_data_file)\n",
    "kfp.train_steps = 2000"
   ]
  },
  {
   "cell_type": "code",
   "execution_count": 35,
   "metadata": {
    "colab": {},
    "colab_type": "code",
    "id": "TK7Szxz557L_"
   },
   "outputs": [],
   "source": [
    "kfp.k_fold_validation()"
   ]
  },
  {
   "cell_type": "code",
   "execution_count": 36,
   "metadata": {
    "colab": {
     "base_uri": "https://localhost:8080/",
     "height": 34
    },
    "colab_type": "code",
    "id": "u7AJuzIV57MH",
    "outputId": "4e15c3ef-f404-4bd2-e19d-495057d8a124"
   },
   "outputs": [
    {
     "data": {
      "text/plain": [
       "3532643550"
      ]
     },
     "execution_count": 36,
     "metadata": {},
     "output_type": "execute_result"
    }
   ],
   "source": [
    "kfp.best_seed"
   ]
  },
  {
   "cell_type": "code",
   "execution_count": 37,
   "metadata": {
    "colab": {},
    "colab_type": "code",
    "id": "hzTXqQMW57ML"
   },
   "outputs": [],
   "source": [
    "kfp.random_state = kfp.best_seed\n",
    "kfp.pipeline()"
   ]
  },
  {
   "cell_type": "code",
   "execution_count": 38,
   "metadata": {
    "colab": {},
    "colab_type": "code",
    "id": "Fx_F__-457MT"
   },
   "outputs": [],
   "source": [
    "rmtree(estimator_dir,ignore_errors=True)\n",
    "kfp.export_estimator(estimator_dir)"
   ]
  },
  {
   "cell_type": "code",
   "execution_count": 39,
   "metadata": {
    "colab": {},
    "colab_type": "code",
    "id": "F1T7ypWn57MW"
   },
   "outputs": [],
   "source": [
    "kfp = KFoldPipe(n_splits =1,src_file=processed_data_file,estimator_dir=estimator_dir)\n",
    "kfp.load_estimator()\n",
    "kfp.input_fns()"
   ]
  },
  {
   "cell_type": "code",
   "execution_count": 40,
   "metadata": {
    "colab": {
     "base_uri": "https://localhost:8080/",
     "height": 294
    },
    "colab_type": "code",
    "id": "egYT8wBB57Ma",
    "outputId": "24965743-a357-48cd-a4d1-4fde40b125cf"
   },
   "outputs": [
    {
     "data": {
      "image/png": "[encoded data removed]",
      "text/plain": [
       "<Figure size 432x288 with 2 Axes>"
      ]
     },
     "metadata": {
      "needs_background": "light"
     },
     "output_type": "display_data"
    }
   ],
   "source": [
    "kfp.plot_confusion_matrix('train')"
   ]
  },
  {
   "cell_type": "code",
   "execution_count": 41,
   "metadata": {
    "colab": {
     "base_uri": "https://localhost:8080/",
     "height": 294
    },
    "colab_type": "code",
    "id": "jFECM5Xg57Md",
    "outputId": "113fee09-6b23-456e-b840-39a59784596b"
   },
   "outputs": [
    {
     "data": {
      "image/png": "[encoded data removed]",
      "text/plain": [
       "<Figure size 432x288 with 2 Axes>"
      ]
     },
     "metadata": {
      "needs_background": "light"
     },
     "output_type": "display_data"
    }
   ],
   "source": [
    "kfp.plot_confusion_matrix('test')"
   ]
  },
  {
   "cell_type": "code",
   "execution_count": 42,
   "metadata": {},
   "outputs": [
    {
     "data": {
      "text/plain": [
       "{'accuracy': 0.98734176,\n",
       " 'accuracy_baseline': 0.556962,\n",
       " 'auc': 0.9993506,\n",
       " 'auc_precision_recall': 0.99948925,\n",
       " 'average_loss': 0.043225896,\n",
       " 'label/mean': 0.556962,\n",
       " 'loss': 0.043225896,\n",
       " 'precision': 1.0,\n",
       " 'prediction/mean': 0.5500214,\n",
       " 'recall': 0.97727275,\n",
       " 'global_step': 10000,\n",
       " 'f1_score': 0.9885057582142078}"
      ]
     },
     "execution_count": 42,
     "metadata": {},
     "output_type": "execute_result"
    }
   ],
   "source": [
    "kfp.evaluate()\n",
    "kfp.evaluation['test']"
   ]
  },
  {
   "cell_type": "code",
   "execution_count": 43,
   "metadata": {
    "colab": {
     "base_uri": "https://localhost:8080/",
     "height": 1000
    },
    "colab_type": "code",
    "id": "N70VhFYB57Mg",
    "outputId": "cb915e20-3813-4901-86e4-fc330d923ae6"
   },
   "outputs": [
    {
     "name": "stdout",
     "output_type": "stream",
     "text": [
      "89\n",
      "Dear Joe,\n",
      "\n",
      "Thank you for offering me the position of Web Developer. I will take the job offer. I am willing to contribute to the company's growing ambitions.\n",
      "\n",
      "As we discuss previously, I agree with the monthly income of $ 9,500 and all the benefits after 2 months. Additionally, I need assistance with relocation as we both agreed.\n",
      "\n",
      "Please, feel free to contact me if I need to send further documentation. I look forward to meeting you and the team on July 6, 2021.\n",
      "\n",
      "Best regards,\n",
      "Salvatore Falconi\n",
      "Expected: 1\n",
      "Predicted: 1\n",
      "119\n",
      "i hope you’re doing well.\n",
      "unfortunately, i have decided to pursue another opportunity rather than accepting this offer.\n",
      "i appreciate the time you and your team spent meeting with me and putting together this offer, and i wish you luck in finding\n",
      "the right person for the job.\n",
      "Expected: 0\n",
      "Predicted: 0\n",
      "7\n",
      "I'm going to have to pass up the offer, they increased my salary\n",
      "Expected: 0\n",
      "Predicted: 0\n",
      "9\n",
      "thank you so much for considering me for the position of Primary school teacher.\n",
      "after careful\n",
      "consideration, i’ve decided to pursue a position with another company that’s more in\n",
      "line with my current career path and personal goals.\n",
      "it was a true pleasure to learn more about the excellent work you do at Aguilar, Richardson and Harris.\n",
      "i appreciate the time and consideration you gave my application and wish you success\n",
      "in your efforts to find the perfect candidate.\n",
      "i look forward to hearing from you in the future.\n",
      "if there are any questions you have\n",
      "for me, please let me know.\n",
      "Expected: 0\n",
      "Predicted: 0\n",
      "178\n",
      "following our recent conversation, i wanted to thank you for offering me the position of sales assistant with your\n",
      "company.\n",
      "i was very impressed by the company and your team.\n",
      "however, it is with regret that i have made the difficult decision to decline the offer.\n",
      "unfortunately, after further discussion with my prospective manager, i feel that the role doesn’t offer the progression\n",
      "opportunities i am looking for.\n",
      "thank you again for this opportunity and i wish you all the best in the future.\n",
      "i am afraid that after further consideration, i have decided to decline the offer.\n",
      "although i was very keen on this role, i have since been offered another job which is a closer fit to my career aspirations.\n",
      "thank you again for this opportunity and i wish you all the best in the future.\n",
      "Expected: 0\n",
      "Predicted: 0\n"
     ]
    }
   ],
   "source": [
    "df_ex = kfp.dfs['test'].sample(5)\n",
    "df_ex['prediction'] = kfp.predict(df_ex)\n",
    "\n",
    "for k, r in df_ex.iterrows():\n",
    "    print(k, sep='\\n')\n",
    "    print(\n",
    "        r.payload.strip(),\n",
    "        f'Expected: {r.sentiment}',\n",
    "        f'Predicted: {r.prediction}',\n",
    "        sep='\\n'\n",
    "    )"
   ]
  },
  {
   "cell_type": "markdown",
   "metadata": {
    "colab_type": "text",
    "id": "tFDGC76B57Mj"
   },
   "source": [
    "The dataset consists of mock emails by the Intekglobal employees. "
   ]
  },
  {
   "cell_type": "markdown",
   "metadata": {
    "colab_type": "text",
    "id": "rRSKpCQ357Mk"
   },
   "source": [
    "Convert 'positive' and 'negative' values to 1 and 0 values, respectively."
   ]
  },
  {
   "cell_type": "code",
   "execution_count": null,
   "metadata": {
    "colab": {},
    "colab_type": "code",
    "id": "hwC7Z7fP-o-x"
   },
   "outputs": [],
   "source": []
  }
 ],
 "metadata": {
  "colab": {
   "name": "all_cases.ipynb",
   "provenance": []
  },
  "kernelspec": {
   "display_name": "Python 3",
   "language": "python",
   "name": "python3"
  },
  "language_info": {
   "codemirror_mode": {
    "name": "ipython",
    "version": 3
   },
   "file_extension": ".py",
   "mimetype": "text/x-python",
   "name": "python",
   "nbconvert_exporter": "python",
   "pygments_lexer": "ipython3",
   "version": "3.7.6"
  }
 },
 "nbformat": 4,
 "nbformat_minor": 4
}
