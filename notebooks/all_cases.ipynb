{
  "nbformat": 4,
  "nbformat_minor": 0,
  "metadata": {
    "kernelspec": {
      "display_name": "Python 3",
      "language": "python",
      "name": "python3"
    },
    "language_info": {
      "codemirror_mode": {
        "name": "ipython",
        "version": 3
      },
      "file_extension": ".py",
      "mimetype": "text/x-python",
      "name": "python",
      "nbconvert_exporter": "python",
      "pygments_lexer": "ipython3",
      "version": "3.7.6"
    },
    "colab": {
      "name": "all_cases.ipynb",
      "provenance": []
    }
  },
  "cells": [
    {
      "cell_type": "code",
      "metadata": {
        "id": "6pYcJ_e057K9",
        "colab_type": "code",
        "colab": {
          "base_uri": "https://localhost:8080/",
          "height": 34
        },
        "outputId": "dbfb8ab9-4044-4a6c-febc-35ed9aefde97"
      },
      "source": [
        "pip install -r ../requirements.txt > /dev/null"
      ],
      "execution_count": 79,
      "outputs": [
        {
          "output_type": "stream",
          "text": [
            "\u001b[31mERROR: Could not open requirements file: [Errno 2] No such file or directory: '../requirements.txt'\u001b[0m\n"
          ],
          "name": "stdout"
        }
      ]
    },
    {
      "cell_type": "code",
      "metadata": {
        "id": "-rMs2k2y57LE",
        "colab_type": "code",
        "colab": {}
      },
      "source": [
        "pip install job-offer-classifier --upgrade > /dev/null"
      ],
      "execution_count": 0,
      "outputs": []
    },
    {
      "cell_type": "code",
      "metadata": {
        "id": "x9z0hdC357LJ",
        "colab_type": "code",
        "colab": {
          "base_uri": "https://localhost:8080/",
          "height": 52
        },
        "outputId": "6c070c94-028a-4823-e62f-0b019ba48399"
      },
      "source": [
        "%load_ext autoreload\n",
        "%autoreload 2"
      ],
      "execution_count": 81,
      "outputs": [
        {
          "output_type": "stream",
          "text": [
            "The autoreload extension is already loaded. To reload it, use:\n",
            "  %reload_ext autoreload\n"
          ],
          "name": "stdout"
        }
      ]
    },
    {
      "cell_type": "code",
      "metadata": {
        "id": "xJL3iSoh57LN",
        "colab_type": "code",
        "colab": {}
      },
      "source": [
        "# default "
      ],
      "execution_count": 0,
      "outputs": []
    },
    {
      "cell_type": "code",
      "metadata": {
        "id": "TlGbmvs857LR",
        "colab_type": "code",
        "colab": {}
      },
      "source": [
        "from os import path,listdir\n",
        "from shutil import rmtree\n",
        "import pandas as pd\n",
        "import numpy as np\n",
        "import job_offer_classifier\n",
        "from job_offer_classifier.pipeline_classifier import Pipeline\n",
        "from job_offer_classifier.validations import KFoldPipe\n",
        "from job_offer_classifier.pipeline_classifier import plot_confusion_matrix"
      ],
      "execution_count": 0,
      "outputs": []
    },
    {
      "cell_type": "code",
      "metadata": {
        "id": "4y3eHzAo57LV",
        "colab_type": "code",
        "colab": {
          "base_uri": "https://localhost:8080/",
          "height": 34
        },
        "outputId": "0055c299-27f4-4ea7-9483-526a45091248"
      },
      "source": [
        "job_offer_classifier.__version__"
      ],
      "execution_count": 84,
      "outputs": [
        {
          "output_type": "execute_result",
          "data": {
            "text/plain": [
              "'0.0.5'"
            ]
          },
          "metadata": {
            "tags": []
          },
          "execution_count": 84
        }
      ]
    },
    {
      "cell_type": "code",
      "metadata": {
        "id": "yiD15wCL57La",
        "colab_type": "code",
        "colab": {}
      },
      "source": [
        "# Shutdown TF info logging\n",
        "import tensorflow as tf\n",
        "tf.compat.v1.logging.set_verbosity(tf.compat.v1.logging.ERROR)"
      ],
      "execution_count": 0,
      "outputs": []
    },
    {
      "cell_type": "markdown",
      "metadata": {
        "id": "2NTBo-2457Lf",
        "colab_type": "text"
      },
      "source": [
        "## Balance the dataset"
      ]
    },
    {
      "cell_type": "code",
      "metadata": {
        "id": "mS-7DtLt6KTH",
        "colab_type": "code",
        "colab": {}
      },
      "source": [
        "intekglobal_data = 'https://raw.githubusercontent.com/kikejimenez/ikg_employee_emails/master/data/interim/intekglobal_employee/emails.csv'\n",
        "sibatel_web_data = 'https://raw.githubusercontent.com/kikejimenez/ikg_employee_emails/master/data/raw/sibatel_and_webpage.csv'\n",
        "processed_data_file = './sibatel_web_intekglobal_emails/emails.csv'\n",
        "models_dir = './sibatel_web_intekglobal_emails/estimator/'"
      ],
      "execution_count": 0,
      "outputs": []
    },
    {
      "cell_type": "code",
      "metadata": {
        "id": "2BKfCrWG-aFO",
        "colab_type": "code",
        "colab": {
          "base_uri": "https://localhost:8080/",
          "height": 34
        },
        "outputId": "234f3402-dcd0-4b4e-84b6-9b7c4c4a5bf7"
      },
      "source": [
        "path.isdir('sibatel_web_intekglobal_emails')"
      ],
      "execution_count": 96,
      "outputs": [
        {
          "output_type": "execute_result",
          "data": {
            "text/plain": [
              "True"
            ]
          },
          "metadata": {
            "tags": []
          },
          "execution_count": 96
        }
      ]
    },
    {
      "cell_type": "markdown",
      "metadata": {
        "id": "KUmUBbA-57Lh",
        "colab_type": "text"
      },
      "source": [
        "Cibatel+webpage"
      ]
    },
    {
      "cell_type": "code",
      "metadata": {
        "id": "6Zs26VCw57Li",
        "colab_type": "code",
        "colab": {}
      },
      "source": [
        "df = pd.read_csv(sibatel_web_data)\n",
        "nb_cases = min([min(df.sentiment.value_counts().values),50])\n",
        "df_pos = df[df.sentiment == 1].sample(nb_cases)\n",
        "df_neg = df[df.sentiment == 0].sample(nb_cases)\n",
        "\n",
        "df_sibatel_web = pd.concat([df_pos,df_neg]).sample(frac = 1)"
      ],
      "execution_count": 0,
      "outputs": []
    },
    {
      "cell_type": "markdown",
      "metadata": {
        "id": "KJULxg6E57Ln",
        "colab_type": "text"
      },
      "source": [
        "Intekglobal"
      ]
    },
    {
      "cell_type": "code",
      "metadata": {
        "id": "e_mnrb-d57Lo",
        "colab_type": "code",
        "colab": {}
      },
      "source": [
        "df = pd.read_csv(intekglobal_data)\n",
        "df = df[(df.sentiment == 'positive') | (df.sentiment == 'negative')]\n",
        "df.sentiment = df.sentiment.apply(lambda s: int(s == 'positive'))\n",
        "df_intekglobal = df\n",
        "del df"
      ],
      "execution_count": 0,
      "outputs": []
    },
    {
      "cell_type": "markdown",
      "metadata": {
        "id": "Sr_F8JZk57Lr",
        "colab_type": "text"
      },
      "source": [
        "All"
      ]
    },
    {
      "cell_type": "code",
      "metadata": {
        "id": "lD63y95b57Lw",
        "colab_type": "code",
        "colab": {}
      },
      "source": [
        "df = pd.concat([df_sibatel_web,df_intekglobal.drop('mocker',axis=1)]).sample(frac=1)\n",
        "df.to_csv(processed_data_file)"
      ],
      "execution_count": 0,
      "outputs": []
    },
    {
      "cell_type": "code",
      "metadata": {
        "id": "7aJx_4s-57L3",
        "colab_type": "code",
        "colab": {
          "base_uri": "https://localhost:8080/",
          "height": 70
        },
        "outputId": "9546d893-eb3e-46a3-fb96-605d39775194"
      },
      "source": [
        "df.sentiment.value_counts()"
      ],
      "execution_count": 100,
      "outputs": [
        {
          "output_type": "execute_result",
          "data": {
            "text/plain": [
              "1    94\n",
              "0    80\n",
              "Name: sentiment, dtype: int64"
            ]
          },
          "metadata": {
            "tags": []
          },
          "execution_count": 100
        }
      ]
    },
    {
      "cell_type": "code",
      "metadata": {
        "id": "RoM-y5P157L8",
        "colab_type": "code",
        "colab": {}
      },
      "source": [
        "kfp = KFoldPipe(n_splits = 4,src_file=processed_data_file)\n",
        "kfp.train_steps = 1000"
      ],
      "execution_count": 0,
      "outputs": []
    },
    {
      "cell_type": "code",
      "metadata": {
        "id": "TK7Szxz557L_",
        "colab_type": "code",
        "colab": {}
      },
      "source": [
        "kfp.k_fold_validation()"
      ],
      "execution_count": 0,
      "outputs": []
    },
    {
      "cell_type": "code",
      "metadata": {
        "id": "u7AJuzIV57MH",
        "colab_type": "code",
        "colab": {
          "base_uri": "https://localhost:8080/",
          "height": 34
        },
        "outputId": "4e15c3ef-f404-4bd2-e19d-495057d8a124"
      },
      "source": [
        "kfp.best_seed"
      ],
      "execution_count": 103,
      "outputs": [
        {
          "output_type": "execute_result",
          "data": {
            "text/plain": [
              "2489714844"
            ]
          },
          "metadata": {
            "tags": []
          },
          "execution_count": 103
        }
      ]
    },
    {
      "cell_type": "code",
      "metadata": {
        "id": "hzTXqQMW57ML",
        "colab_type": "code",
        "colab": {}
      },
      "source": [
        "kfp.random_state = kfp.best_seed\n",
        "kfp.pipeline()"
      ],
      "execution_count": 0,
      "outputs": []
    },
    {
      "cell_type": "code",
      "metadata": {
        "id": "TAGWU8Qe57MO",
        "colab_type": "code",
        "colab": {}
      },
      "source": [
        ""
      ],
      "execution_count": 0,
      "outputs": []
    },
    {
      "cell_type": "code",
      "metadata": {
        "id": "Fx_F__-457MT",
        "colab_type": "code",
        "colab": {}
      },
      "source": [
        "rmtree(models_dir,ignore_errors=True)\n",
        "kfp.export_estimator(models_dir)"
      ],
      "execution_count": 0,
      "outputs": []
    },
    {
      "cell_type": "code",
      "metadata": {
        "id": "F1T7ypWn57MW",
        "colab_type": "code",
        "colab": {}
      },
      "source": [
        "kfp = KFoldPipe(n_splits =1,src_file=processed_data_file,estimator_dir=models_dir)\n",
        "kfp.load_estimator()\n",
        "kfp.input_fns()"
      ],
      "execution_count": 0,
      "outputs": []
    },
    {
      "cell_type": "code",
      "metadata": {
        "id": "egYT8wBB57Ma",
        "colab_type": "code",
        "colab": {
          "base_uri": "https://localhost:8080/",
          "height": 294
        },
        "outputId": "24965743-a357-48cd-a4d1-4fde40b125cf"
      },
      "source": [
        "kfp.plot_confusion_matrix('train')"
      ],
      "execution_count": 107,
      "outputs": [
        {
          "output_type": "display_data",
          "data": {
            "image/png": "[encoded data removed]",
            "text/plain": [
              "<Figure size 432x288 with 2 Axes>"
            ]
          },
          "metadata": {
            "tags": [],
            "needs_background": "light"
          }
        }
      ]
    },
    {
      "cell_type": "code",
      "metadata": {
        "id": "jFECM5Xg57Md",
        "colab_type": "code",
        "colab": {
          "base_uri": "https://localhost:8080/",
          "height": 294
        },
        "outputId": "113fee09-6b23-456e-b840-39a59784596b"
      },
      "source": [
        "kfp.plot_confusion_matrix('test')"
      ],
      "execution_count": 108,
      "outputs": [
        {
          "output_type": "display_data",
          "data": {
            "image/png": "[encoded data removed]",
            "text/plain": [
              "<Figure size 432x288 with 2 Axes>"
            ]
          },
          "metadata": {
            "tags": [],
            "needs_background": "light"
          }
        }
      ]
    },
    {
      "cell_type": "code",
      "metadata": {
        "id": "N70VhFYB57Mg",
        "colab_type": "code",
        "colab": {
          "base_uri": "https://localhost:8080/",
          "height": 1000
        },
        "outputId": "cb915e20-3813-4901-86e4-fc330d923ae6"
      },
      "source": [
        "df_ex = kfp.dfs['test'].sample(5)\n",
        "df_ex['prediction'] = kfp.predict(df_ex)\n",
        "\n",
        "for k, r in df_ex.iterrows():\n",
        "    print(k, sep='\\n')\n",
        "    print(\n",
        "        r.payload.strip(),\n",
        "        f'Expected: {r.sentiment}',\n",
        "        f'Predicted: {r.prediction}',\n",
        "        sep='\\n'\n",
        "    )"
      ],
      "execution_count": 109,
      "outputs": [
        {
          "output_type": "stream",
          "text": [
            "65\n",
            "I have just enrolled in a Ph.D. program and can not apply for this job.\n",
            "I will be glad to work with you in the future and look forward to meeting with you on another occasion.\n",
            "\n",
            "\n",
            "Gabriela Romero\n",
            "Expected: 0\n",
            "Predicted: 0\n",
            "169\n",
            "i am delighted to formally accept the\n",
            "offer, and i am very much looking forward to joining the team.\n",
            "as discussed, my starting salary will be $7820, rising to $7820\n",
            "following a successful probationary period of 3 months.\n",
            "i can confirm that my starting date of employment will be May 01, 1974.\n",
            "if there is any additional\n",
            "information you need prior to this date, please let me know.\n",
            "once again, thank you very much for the opportunity, and i look forward to working with you.\n",
            "Expected: 1\n",
            "Predicted: 1\n",
            "82\n",
            "Good day,\n",
            "\n",
            "\n",
            "I would like to talk about this \n",
            "offer below that I saw in EmpleoNuevo page.\n",
            "Please find my resume attached.\n",
            "Ai, Machine Learning / Web Developing Position\n",
            "\n",
            "I appreciate your attention to this email.\n",
            "\n",
            "Thank you in advance!\n",
            "Angeles Bayardo\n",
            "Expected: 1\n",
            "Predicted: 1\n",
            "86\n",
            "Good day\n",
            "I am writing for the vacant\n",
            "They are having published currently\n",
            " I live in Queretaro with\n",
            " Masters in Artificial Intelligence,\n",
            " which I performed at the University\n",
            "Autónoma de Querétaro.\n",
            "I am open to any contact\n",
            " if they so wish. I attach my CV.\n",
            "Best regards\n",
            "Expected: 1\n",
            "Predicted: 1\n",
            "92\n",
            "thank you for your offer for the position of assistant project coordinator at Snyder, Wade and Curry.\n",
            "while i believe firmly that Snyder, Wade and Curry provides an exciting and challenging\n",
            "opportunities, i have had another offer which i believe more closely aligns with my current\n",
            "career goals and interests.\n",
            "after much consideration, i have decided that i must decline your\n",
            "offer.\n",
            "thank you for all the courtesy and hospitality extended to me by your office.\n",
            "i appreciate your\n",
            "interest in me, and i enjoyed learning more about your organization.\n",
            "Expected: 0\n",
            "Predicted: 0\n"
          ],
          "name": "stdout"
        }
      ]
    },
    {
      "cell_type": "markdown",
      "metadata": {
        "id": "tFDGC76B57Mj",
        "colab_type": "text"
      },
      "source": [
        "The dataset consists of mock emails by the Intekglobal employees. "
      ]
    },
    {
      "cell_type": "markdown",
      "metadata": {
        "id": "rRSKpCQ357Mk",
        "colab_type": "text"
      },
      "source": [
        "Convert 'positive' and 'negative' values to 1 and 0 values, respectively."
      ]
    },
    {
      "cell_type": "code",
      "metadata": {
        "id": "hwC7Z7fP-o-x",
        "colab_type": "code",
        "colab": {}
      },
      "source": [
        ""
      ],
      "execution_count": 0,
      "outputs": []
    }
  ]
}