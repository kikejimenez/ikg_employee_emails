{
 "cells": [
  {
   "cell_type": "code",
   "execution_count": 11,
   "metadata": {},
   "outputs": [
    {
     "name": "stdout",
     "output_type": "stream",
     "text": [
      "The autoreload extension is already loaded. To reload it, use:\n",
      "  %reload_ext autoreload\n"
     ]
    }
   ],
   "source": [
    "%load_ext autoreload\n",
    "%autoreload 2"
   ]
  },
  {
   "cell_type": "code",
   "execution_count": 12,
   "metadata": {},
   "outputs": [],
   "source": [
    "# default "
   ]
  },
  {
   "cell_type": "code",
   "execution_count": 13,
   "metadata": {},
   "outputs": [],
   "source": [
    "from os import path,listdir\n",
    "from shutil import rmtree\n",
    "import pandas as pd\n",
    "import numpy as np"
   ]
  },
  {
   "cell_type": "markdown",
   "metadata": {},
   "source": [
    "job_offer_classifier.__version__"
   ]
  },
  {
   "cell_type": "code",
   "execution_count": 14,
   "metadata": {},
   "outputs": [],
   "source": [
    "# Shutdown TF info logging\n",
    "#import tensorflow as tf\n",
    "#tf.compat.v1.logging.set_verbosity(tf.compat.v1.logging.ERROR)"
   ]
  },
  {
   "cell_type": "markdown",
   "metadata": {},
   "source": [
    "## Preprocess the Mocks"
   ]
  },
  {
   "cell_type": "code",
   "execution_count": 15,
   "metadata": {},
   "outputs": [],
   "source": [
    "data_dir = '../data/raw/intekglobal_employee/'"
   ]
  },
  {
   "cell_type": "markdown",
   "metadata": {},
   "source": [
    "### Ivan"
   ]
  },
  {
   "cell_type": "code",
   "execution_count": 16,
   "metadata": {},
   "outputs": [],
   "source": [
    "IVAN_DIR = path.join(data_dir, 'ivan')\n",
    "assert path.isdir(IVAN_DIR)"
   ]
  },
  {
   "cell_type": "code",
   "execution_count": 17,
   "metadata": {},
   "outputs": [],
   "source": [
    "gen_rows = lambda direc, sentiment: (\n",
    "    {\n",
    "        'payload': open(path.join(direc, file)).read(),\n",
    "        'sentiment': sentiment,\n",
    "        'mocker': 'Ivan'\n",
    "    } for file in listdir(direc) if file[0] != '.'\n",
    ")\n",
    "\n",
    "df_iv = pd.concat(\n",
    "    pd.DataFrame(gen_rows(path.join(IVAN_DIR, sent), sent))\n",
    "    for sent in ('negative', 'positive', 'neutral')\n",
    ").sample(frac=1.0)"
   ]
  },
  {
   "cell_type": "code",
   "execution_count": 18,
   "metadata": {},
   "outputs": [
    {
     "data": {
      "text/plain": [
       "(30, 3)"
      ]
     },
     "execution_count": 18,
     "metadata": {},
     "output_type": "execute_result"
    }
   ],
   "source": [
    "df_iv.shape"
   ]
  },
  {
   "cell_type": "code",
   "execution_count": 19,
   "metadata": {},
   "outputs": [
    {
     "name": "stdout",
     "output_type": "stream",
     "text": [
      "8\n",
      "**********\n",
      "Good Morning,\n",
      "\n",
      "Sorry for the late response but I've been very busy lately. I would\n",
      "certainly like to be considered for the job.\n",
      "8\n",
      "**********\n",
      "Greetings,\n",
      "\n",
      "The job seems to fit my profile but compared to my current\n",
      "employment it looks like more of the same for me. I'm not interested\n",
      "in a lateral move but if anything should come up in the future be\n",
      "sure to keep me in mind.\n",
      "6\n",
      "**********\n",
      "Hello,\n",
      "\n",
      "The job position looks great but it seems that the contract if only for a few months.\n",
      "Would it be possible to get an extension or a permanent contract after the time ends?\n",
      "\n",
      "regards.\n",
      "1\n",
      "**********\n",
      "Hello,\n",
      "\n",
      "I'm not interested in this position but if you have any openings for a more senior role \n",
      "I would definitely like to hear about it. \n",
      "5\n",
      "**********\n",
      "Hi,\n",
      "\n",
      "I've read the job position and it looks interesting but I have a few doubts. \n",
      "Does this position allow for remote work?\n",
      "Will there be a lot of travel?\n",
      "Does it provide certification courses?\n",
      "\n",
      "I would love to get an answer to these question.\n"
     ]
    }
   ],
   "source": [
    "for k,a in df_iv.sample(5).payload.iteritems():\n",
    "    print(k,a,sep='\\n'+10*'*'+'\\n')"
   ]
  },
  {
   "cell_type": "code",
   "execution_count": 20,
   "metadata": {},
   "outputs": [
    {
     "name": "stdout",
     "output_type": "stream",
     "text": [
      "Greetings,\n",
      "\n",
      "The job position would be great for me if only I could choose my own work location.\n",
      "Due to personal reasons I currently cannot be away too ofter or for too long. \n",
      "\n",
      "Does the job offer remote work options?\n",
      "Is it possible to take sick days/personal days?\n",
      "\n",
      "Regards\n",
      "\n",
      "Sentiment: neutral\n"
     ]
    }
   ],
   "source": [
    "ex = df_iv.sample().iloc[0]\n",
    "print(ex.payload.strip(), ex.sentiment, sep='\\n\\nSentiment: ')"
   ]
  },
  {
   "cell_type": "markdown",
   "metadata": {},
   "source": [
    "### Sol"
   ]
  },
  {
   "cell_type": "code",
   "execution_count": 21,
   "metadata": {},
   "outputs": [],
   "source": [
    "SOL_DIR = path.join(data_dir,'sol')\n",
    "assert path.isdir(SOL_DIR)"
   ]
  },
  {
   "cell_type": "code",
   "execution_count": 22,
   "metadata": {},
   "outputs": [],
   "source": [
    "sep_rule = {'negative': 109 * '-', 'neutral': 109 * '-', 'positive': 109 * '-'}\n",
    "gen_rows = lambda sentiment: (\n",
    "    {\n",
    "        'payload': text,\n",
    "        'sentiment': sentiment,\n",
    "        'mocker': 'Sol'\n",
    "    } for text in open(path.join(SOL_DIR, sentiment + '.txt')).read().\n",
    "    split(sep_rule[sentiment])\n",
    ")\n",
    "\n",
    "df_so = pd.concat(\n",
    "    pd.DataFrame(gen_rows(sent))\n",
    "    for sent in ('neutral', 'negative', 'positive')\n",
    ").sample(frac=1.0)"
   ]
  },
  {
   "cell_type": "code",
   "execution_count": 23,
   "metadata": {},
   "outputs": [
    {
     "data": {
      "text/plain": [
       "(30, 3)"
      ]
     },
     "execution_count": 23,
     "metadata": {},
     "output_type": "execute_result"
    }
   ],
   "source": [
    "df_so.shape"
   ]
  },
  {
   "cell_type": "code",
   "execution_count": 24,
   "metadata": {},
   "outputs": [
    {
     "name": "stdout",
     "output_type": "stream",
     "text": [
      "3\n",
      "**********\n",
      " \n",
      "\n",
      " I am not interested, please stop sending emails or will be forced to act against you legally.\n",
      "\n",
      "\n",
      "0\n",
      "**********\n",
      "\n",
      "I would like to know more about the process of application and the job activities this job requires.\n",
      "\n",
      "\n",
      "2\n",
      "**********\n",
      " \n",
      "\n",
      "I have to decline since my work visa has expired.\n",
      "\n",
      "9\n",
      "**********\n",
      " \n",
      "Hi,\n",
      "Thank you for your email.\n",
      "I have already accepted a job offer from Company X.\n",
      "Best,\n",
      "L.\n",
      "1\n",
      "**********\n",
      " \n",
      "\n",
      "Thank you for your email.\n",
      "should I qualify for this job, I'll be glad to schedule an interview.\n",
      "\n",
      "Marry S.\n",
      "\n",
      "\n"
     ]
    }
   ],
   "source": [
    "for k,a in df_so.sample(5).payload.iteritems():\n",
    "    print(k,a,sep='\\n'+10*'*'+'\\n')"
   ]
  },
  {
   "cell_type": "markdown",
   "metadata": {},
   "source": [
    "### Salvador"
   ]
  },
  {
   "cell_type": "code",
   "execution_count": 97,
   "metadata": {},
   "outputs": [],
   "source": [
    "SALVADOR_FILE = path.join(data_dir,'salvador.txt')\n",
    "assert path.isfile(SALVADOR_FILE)"
   ]
  },
  {
   "cell_type": "code",
   "execution_count": 98,
   "metadata": {},
   "outputs": [],
   "source": [
    "label_map = {\n",
    "    'considering': 'neutral',\n",
    "    'acceptance': 'positive',\n",
    "    'decline': 'negative'\n",
    "}\n",
    "\n",
    "\n",
    "def proc_text(text):\n",
    "    init = text.lower().find('label:')\n",
    "    end = text[init:].find('\\n')\n",
    "    return [(text[end+2:].strip(), text[init + len('label:'):end+2].strip())]\n",
    "\n",
    "gen_rows = lambda: (\n",
    "    {\n",
    "        'payload': payload,\n",
    "        'sentiment': label_map[label.lower()],\n",
    "        'mocker': 'Salvador'\n",
    "    } for text in open(SALVADOR_FILE).read().split(32 * '-')\n",
    "    for payload,label in proc_text(text)\n",
    ")\n",
    "\n",
    "df_sa = pd.DataFrame(gen_rows()).sample(frac=1.0)"
   ]
  },
  {
   "cell_type": "code",
   "execution_count": 99,
   "metadata": {},
   "outputs": [
    {
     "data": {
      "text/plain": [
       "(12, 3)"
      ]
     },
     "execution_count": 99,
     "metadata": {},
     "output_type": "execute_result"
    }
   ],
   "source": [
    "df_sa.shape"
   ]
  },
  {
   "cell_type": "code",
   "execution_count": 100,
   "metadata": {},
   "outputs": [
    {
     "name": "stdout",
     "output_type": "stream",
     "text": [
      "1\n",
      "**********\n",
      "Dear Ing. Smith,  \n",
      "\n",
      "I thank you for drawing my attention to the Front-end developer position at your company. I considered this as a great opportunity and hereby I confirm my acceptance of the position.\n",
      "\n",
      "As mentioned during the interviews, I still have a contract to meet that closes the next month. I am joining the company on March 4, 2020. Therefore, I would ask you for the relocation aids your company provides before the starting date.\n",
      "\n",
      "Please, let me know if I need to take further action during this time.\n",
      "\n",
      "Best regards!\n",
      "Daniel Baumtree\n",
      "4\n",
      "**********\n",
      "Dear Mrs. Nadia Kalenski,  \n",
      "\n",
      "Thank you for offering me WebStat's software developer role. I am honored to be considered for the opportunity and feel I would be an asset to the company.\n",
      "\n",
      "I am particularly considering the position’s details and would like some more days to make a decision. I can provide a final answer by Thursday morning. \n",
      "\n",
      "Thank you, \n",
      "Laura Schmidt\n",
      "9\n",
      "**********\n",
      "Dear Dr. Eva Braun,\n",
      "\n",
      "Thank you for your offer of the position of Technical Specialist for the Witten Solutions Company. I am positively impressed with the depth of knowledge of your development team and believe that my experience will contribute to maximizing the profitability of the department.\n",
      "\n",
      "I would like to talk with you regarding the salary and benefits you have offered before I could make a final decision. I feel that with the skills, experience, and contacts in the industry that I would bring to Witten, further discussion of my compensation would be appropriate.\n",
      "\n",
      "Sincerely,\n",
      "Adolf Gitler\n",
      "11\n",
      "**********\n",
      "Dear Joe,\n",
      "\n",
      "Thank you for offering me the position of Web Developer. I will take the job offer. I am willing to contribute to the company's growing ambitions.\n",
      "\n",
      "As we discuss previously, I agree with the monthly income of $ 9,500 and all the benefits after 2 months. Additionally, I need assistance with relocation as we both agreed.\n",
      "\n",
      "Please, feel free to contact me if I need to send further documentation. I look forward to meeting you and the team on July 6, 2021.\n",
      "\n",
      "Best regards,\n",
      "Salvatore Falconi\n",
      "0\n",
      "**********\n",
      "Dear Dr. Prof. Weismann,  \n",
      "\n",
      "I would like to thank you for extending me the soft professor teaching position at the Mathematical Analysis department at Technical University Wien. I am pleased to officially accept the offer and begin working with the team.\n",
      "\n",
      "As discussed, I agreed with the teaching hours scheduled for the coming semesters and the research activities I will conduct. I will send all documentation to begin the hiring procedure.\n",
      "\n",
      "Please let me know if there is anything I can provide before my start date on January 23, 2019. \n",
      "\n",
      "Thanks again!\n",
      "Dra. Sarah Martinez\n"
     ]
    }
   ],
   "source": [
    "for k,a in df_sa.sample(5).payload.iteritems():\n",
    "    print(k,a,sep='\\n'+10*'*'+'\\n')"
   ]
  },
  {
   "cell_type": "code",
   "execution_count": 101,
   "metadata": {},
   "outputs": [
    {
     "name": "stdout",
     "output_type": "stream",
     "text": [
      "Dear Ing. Smith,  \n",
      "\n",
      "I thank you for drawing my attention to the Front-end developer position at your company. I considered this as a great opportunity and hereby I confirm my acceptance of the position.\n",
      "\n",
      "As mentioned during the interviews, I still have a contract to meet that closes the next month. I am joining the company on March 4, 2020. Therefore, I would ask you for the relocation aids your company provides before the starting date.\n",
      "\n",
      "Please, let me know if I need to take further action during this time.\n",
      "\n",
      "Best regards!\n",
      "Daniel Baumtree\n",
      "\n",
      "Sentiment: positive\n"
     ]
    }
   ],
   "source": [
    "ex = df_sa.sample().iloc[0]\n",
    "print(ex.payload.strip(), ex.sentiment, sep='\\n\\nSentiment: ')"
   ]
  },
  {
   "cell_type": "markdown",
   "metadata": {},
   "source": [
    "### Samantha"
   ]
  },
  {
   "cell_type": "code",
   "execution_count": 102,
   "metadata": {},
   "outputs": [],
   "source": [
    "SAM_DIR = path.join(data_dir, 'samantha')\n",
    "assert path.isdir(SAM_DIR)"
   ]
  },
  {
   "cell_type": "code",
   "execution_count": 90,
   "metadata": {},
   "outputs": [],
   "source": [
    "gen_rows = lambda direc, sentiment: (\n",
    "    {\n",
    "        'payload': open(path.join(direc, file)).read(),\n",
    "        'sentiment': sentiment,\n",
    "        'mocker': 'sam'\n",
    "    } for file in listdir(direc) if file[0] != '.'\n",
    ")\n",
    "\n",
    "df_sm = pd.concat(\n",
    "    pd.DataFrame(gen_rows(path.join(SAM_DIR, sent), sent))\n",
    "    for sent in ('negative', 'positive', 'neutral')\n",
    ").sample(frac=1.0)"
   ]
  },
  {
   "cell_type": "code",
   "execution_count": 91,
   "metadata": {},
   "outputs": [],
   "source": [
    "!pip install googletrans > /dev/null\n",
    "!pip install pycld3 > /dev/null"
   ]
  },
  {
   "cell_type": "code",
   "execution_count": 92,
   "metadata": {},
   "outputs": [],
   "source": [
    "import cld3\n",
    "from googletrans import Translator\n",
    "translator = Translator()\n",
    "translate = lambda contents: translator.translate(contents,src='es',dest='en')"
   ]
  },
  {
   "cell_type": "code",
   "execution_count": 93,
   "metadata": {},
   "outputs": [],
   "source": [
    "df_sm['english'] = df_sm.payload.apply(\n",
    "    lambda p: cld3.get_language(p)[0] == 'en'\n",
    ")\n",
    "df_sm.payload = df_sm.apply(\n",
    "    lambda r: r.payload if r.english else translate(r.payload).text, axis=1\n",
    ")\n",
    "del df_sm['english']"
   ]
  },
  {
   "cell_type": "code",
   "execution_count": 94,
   "metadata": {},
   "outputs": [
    {
     "data": {
      "text/plain": [
       "Index(['payload', 'sentiment', 'mocker'], dtype='object')"
      ]
     },
     "execution_count": 94,
     "metadata": {},
     "output_type": "execute_result"
    }
   ],
   "source": [
    "df_sm.columns"
   ]
  },
  {
   "cell_type": "code",
   "execution_count": 104,
   "metadata": {},
   "outputs": [
    {
     "name": "stdout",
     "output_type": "stream",
     "text": [
      "8\n",
      "**********\n",
      "Goodnight,\n",
      "\n",
      "My name is Franz Lake, and write because\n",
      "I am interested in the vacancy\n",
      "employment as AI, Machine Learning / Web Developer.\n",
      "I attached my CV in both English and\n",
      "Spanish to this email.\n",
      "\n",
      "Thank you.\n",
      "\n",
      "Regards.\n",
      "14\n",
      "**********\n",
      "Good afternoon\n",
      "\n",
      "\n",
      "I am writing to you because I'm interested in the \n",
      "selection proces of the published vacancy;\n",
      "I consider that I have the necessary capacities to develop an \n",
      "eficient work for you.\n",
      "I would like to have more information about employment.\n",
      "  I have a completed master's degree, I did my thesis defense satisfactorily,\n",
      "  but I'm not done with the titling process.\n",
      "  I am available to give more information as required.\n",
      "\n",
      "\n",
      "I appreciate your attention and send you a greeting.\n",
      "0\n",
      "**********\n",
      "Dear Samantha Medina, \n",
      "\n",
      "Hoping you are well, please find attached my resume,\n",
      "  I'm at your service.\n",
      "Best regards.\n",
      "Quetzalcoatl Ornelas García.\n",
      "5\n",
      "**********\n",
      "Helo, find attached my resume,\n",
      "\n",
      " \n",
      "Regards,\n",
      "3\n",
      "**********\n",
      "good morning\n",
      "\n",
      "I would like to know the details\n",
      "of the job position as well as the process\n",
      "to apply for it,\n",
      "I am in my last semester of doctorate\n",
      "in science with a focus on applied physics\n",
      "in photonics, I attach my cv in English for more details,\n",
      "any questions or comments you have, just let me know.\n",
      "Thanks in advance for your attention and time.\n",
      "\n",
      "Cheers\n"
     ]
    }
   ],
   "source": [
    "for k,a in df_sm.sample(5).payload.iteritems():\n",
    "    print(k,a,sep='\\n'+10*'*'+'\\n')"
   ]
  },
  {
   "cell_type": "markdown",
   "metadata": {},
   "source": [
    "### Join Mocks"
   ]
  },
  {
   "cell_type": "code",
   "execution_count": 105,
   "metadata": {},
   "outputs": [],
   "source": [
    "df = pd.concat([df_iv,df_so,df_sa,df_sm],ignore_index=True)"
   ]
  },
  {
   "cell_type": "code",
   "execution_count": 106,
   "metadata": {},
   "outputs": [
    {
     "data": {
      "text/plain": [
       "(113, 3)"
      ]
     },
     "execution_count": 106,
     "metadata": {},
     "output_type": "execute_result"
    }
   ],
   "source": [
    "df.shape"
   ]
  },
  {
   "cell_type": "code",
   "execution_count": 108,
   "metadata": {},
   "outputs": [
    {
     "data": {
      "text/html": [
       "<div>\n",
       "<style scoped>\n",
       "    .dataframe tbody tr th:only-of-type {\n",
       "        vertical-align: middle;\n",
       "    }\n",
       "\n",
       "    .dataframe tbody tr th {\n",
       "        vertical-align: top;\n",
       "    }\n",
       "\n",
       "    .dataframe thead th {\n",
       "        text-align: right;\n",
       "    }\n",
       "</style>\n",
       "<table border=\"1\" class=\"dataframe\">\n",
       "  <thead>\n",
       "    <tr style=\"text-align: right;\">\n",
       "      <th></th>\n",
       "      <th>payload</th>\n",
       "      <th>sentiment</th>\n",
       "      <th>mocker</th>\n",
       "    </tr>\n",
       "  </thead>\n",
       "  <tbody>\n",
       "    <tr>\n",
       "      <th>76</th>\n",
       "      <td>Good afternoon, I hope you are very well.\\n\\nT...</td>\n",
       "      <td>neutral</td>\n",
       "      <td>sam</td>\n",
       "    </tr>\n",
       "    <tr>\n",
       "      <th>23</th>\n",
       "      <td>Hello, hope you are well.\\n\\nThe position you ...</td>\n",
       "      <td>positive</td>\n",
       "      <td>Ivan</td>\n",
       "    </tr>\n",
       "  </tbody>\n",
       "</table>\n",
       "</div>"
      ],
      "text/plain": [
       "                                              payload sentiment mocker\n",
       "76  Good afternoon, I hope you are very well.\\n\\nT...   neutral    sam\n",
       "23  Hello, hope you are well.\\n\\nThe position you ...  positive   Ivan"
      ]
     },
     "execution_count": 108,
     "metadata": {},
     "output_type": "execute_result"
    }
   ],
   "source": [
    "df.sample(2)"
   ]
  },
  {
   "cell_type": "markdown",
   "metadata": {},
   "source": [
    "Convert 'positive' and 'negative' values to 1 and 0 values, respectively."
   ]
  },
  {
   "cell_type": "code",
   "execution_count": 110,
   "metadata": {},
   "outputs": [],
   "source": [
    "#df.sentiment = df.sentiment.apply(lambda s: int(s=='positive'))\n",
    "df.to_csv('../data/interim/intekglobal_employee/emails.csv', index=False)"
   ]
  },
  {
   "cell_type": "markdown",
   "metadata": {},
   "source": [
    "Save dataframe in a file the positive and the negative cases, and the neutral case in another file"
   ]
  },
  {
   "cell_type": "code",
   "execution_count": 109,
   "metadata": {},
   "outputs": [
    {
     "name": "stdout",
     "output_type": "stream",
     "text": [
      "I got experience in maintenance\n",
      "working USA.i can keep a conversation\n",
      "in English and give engineering solutions.\n",
      "hope you can have a position for me.\n",
      "thank you for advance \n",
      "\n",
      "Sincerely\n",
      "MR.GONZALEZ.\n",
      "\n",
      "Sentiment:\n",
      "neutral\n"
     ]
    }
   ],
   "source": [
    "ex = df.sample().iloc[0]\n",
    "print(ex.payload)\n",
    "print(f'Sentiment:\\n{ex.sentiment}')"
   ]
  }
 ],
 "metadata": {
  "kernelspec": {
   "display_name": "Python 3",
   "language": "python",
   "name": "python3"
  },
  "language_info": {
   "codemirror_mode": {
    "name": "ipython",
    "version": 3
   },
   "file_extension": ".py",
   "mimetype": "text/x-python",
   "name": "python",
   "nbconvert_exporter": "python",
   "pygments_lexer": "ipython3",
   "version": "3.7.6"
  }
 },
 "nbformat": 4,
 "nbformat_minor": 4
}
