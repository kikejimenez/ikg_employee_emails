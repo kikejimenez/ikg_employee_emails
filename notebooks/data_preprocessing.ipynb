{
 "cells": [
  {
   "cell_type": "code",
   "execution_count": 83,
   "metadata": {},
   "outputs": [
    {
     "name": "stdout",
     "output_type": "stream",
     "text": [
      "The autoreload extension is already loaded. To reload it, use:\n",
      "  %reload_ext autoreload\n"
     ]
    }
   ],
   "source": [
    "%load_ext autoreload\n",
    "%autoreload 2"
   ]
  },
  {
   "cell_type": "code",
   "execution_count": 84,
   "metadata": {},
   "outputs": [],
   "source": [
    "# default "
   ]
  },
  {
   "cell_type": "code",
   "execution_count": 85,
   "metadata": {},
   "outputs": [],
   "source": [
    "from os import path,listdir\n",
    "from shutil import rmtree\n",
    "import pandas as pd\n",
    "import numpy as np"
   ]
  },
  {
   "cell_type": "markdown",
   "metadata": {},
   "source": [
    "job_offer_classifier.__version__"
   ]
  },
  {
   "cell_type": "code",
   "execution_count": 86,
   "metadata": {},
   "outputs": [],
   "source": [
    "# Shutdown TF info logging\n",
    "#import tensorflow as tf\n",
    "#tf.compat.v1.logging.set_verbosity(tf.compat.v1.logging.ERROR)"
   ]
  },
  {
   "cell_type": "markdown",
   "metadata": {},
   "source": [
    "## Preprocess the Mocks"
   ]
  },
  {
   "cell_type": "code",
   "execution_count": 87,
   "metadata": {},
   "outputs": [],
   "source": [
    "data_dir = '../data/raw/intekglobal_employee/'"
   ]
  },
  {
   "cell_type": "markdown",
   "metadata": {},
   "source": [
    "### Ivan"
   ]
  },
  {
   "cell_type": "code",
   "execution_count": 88,
   "metadata": {},
   "outputs": [],
   "source": [
    "IVAN_DIR = path.join(data_dir, 'ivan')\n",
    "assert path.isdir(IVAN_DIR)"
   ]
  },
  {
   "cell_type": "code",
   "execution_count": 89,
   "metadata": {},
   "outputs": [],
   "source": [
    "gen_rows = lambda direc, sentiment: (\n",
    "    {\n",
    "        'payload': open(path.join(direc, file)).read(),\n",
    "        'sentiment': sentiment,\n",
    "        'mocker': 'Ivan'\n",
    "    } for file in listdir(direc) if file[0] != '.'\n",
    ")\n",
    "\n",
    "df_iv = pd.concat(\n",
    "    pd.DataFrame(gen_rows(path.join(IVAN_DIR, sent), sent))\n",
    "    for sent in ('negative', 'positive', 'neutral')\n",
    ").sample(frac=1.0)"
   ]
  },
  {
   "cell_type": "code",
   "execution_count": 90,
   "metadata": {},
   "outputs": [
    {
     "data": {
      "text/plain": [
       "(30, 3)"
      ]
     },
     "execution_count": 90,
     "metadata": {},
     "output_type": "execute_result"
    }
   ],
   "source": [
    "df_iv.shape"
   ]
  },
  {
   "cell_type": "code",
   "execution_count": 91,
   "metadata": {},
   "outputs": [
    {
     "name": "stdout",
     "output_type": "stream",
     "text": [
      "6\n",
      "**********\n",
      "Hello,\n",
      "\n",
      "I read the description and I really liked it. Please consider me\n",
      "for an interview at your soonest convenience. \n",
      "4\n",
      "**********\n",
      "Greetings, \n",
      "\n",
      "I've read through the job description and find that\n",
      "it matches my profile perfectly. I would love to try to\n",
      "interview for it if it is still available. I would also\n",
      "be interested in any other such positions should I not be chosen\n",
      "but something comes up in the future.\n",
      "\n",
      "Regards.\n",
      "1\n",
      "**********\n",
      "Hi!\n",
      "\n",
      "I am interested and would love to follow up on the offer.\n",
      "7\n",
      "**********\n",
      "hello,\n",
      "\n",
      "The job description you sent seems interesting. If the offer still stands\n",
      "I would like to interview for it.\n",
      "2\n",
      "**********\n",
      "Hello,\n",
      "\n",
      "The job requirements do fit my profile but I'm not that sure I\n",
      "would like to make the change. My current job is about the same\n",
      "and I was more interested in changing my field to Machine Learning\n",
      "rather than staying were I am. If you have any positions related to\n",
      "this I would love to be considered. My profile has been updated\n",
      "with the skills I've been acquiring to make this move.\n",
      "\n",
      "I hope I can hear from you again if something else opens up. \n"
     ]
    }
   ],
   "source": [
    "for k,a in df_iv.sample(5).payload.iteritems():\n",
    "    print(k,a,sep='\\n'+10*'*'+'\\n')"
   ]
  },
  {
   "cell_type": "code",
   "execution_count": 92,
   "metadata": {},
   "outputs": [
    {
     "name": "stdout",
     "output_type": "stream",
     "text": [
      "Hello,\n",
      "\n",
      "I'm not interested in this position but if you have any openings for a more senior role \n",
      "I would definitely like to hear about it.\n",
      "\n",
      "Sentiment: negative\n"
     ]
    }
   ],
   "source": [
    "ex = df_iv.sample().iloc[0]\n",
    "print(ex.payload.strip(), ex.sentiment, sep='\\n\\nSentiment: ')"
   ]
  },
  {
   "cell_type": "markdown",
   "metadata": {},
   "source": [
    "### Sol"
   ]
  },
  {
   "cell_type": "code",
   "execution_count": 93,
   "metadata": {},
   "outputs": [],
   "source": [
    "SOL_DIR = path.join(data_dir,'sol')\n",
    "assert path.isdir(SOL_DIR)"
   ]
  },
  {
   "cell_type": "code",
   "execution_count": 94,
   "metadata": {},
   "outputs": [],
   "source": [
    "sep_rule = {'negative': 109 * '-', 'neutral': 109 * '-', 'positive': 109 * '-'}\n",
    "gen_rows = lambda sentiment: (\n",
    "    {\n",
    "        'payload': text,\n",
    "        'sentiment': sentiment,\n",
    "        'mocker': 'Sol'\n",
    "    } for text in open(path.join(SOL_DIR, sentiment + '.txt')).read().\n",
    "    split(sep_rule[sentiment])\n",
    ")\n",
    "\n",
    "df_so = pd.concat(\n",
    "    pd.DataFrame(gen_rows(sent))\n",
    "    for sent in ('neutral', 'negative', 'positive')\n",
    ").sample(frac=1.0)"
   ]
  },
  {
   "cell_type": "code",
   "execution_count": 95,
   "metadata": {},
   "outputs": [
    {
     "data": {
      "text/plain": [
       "(30, 3)"
      ]
     },
     "execution_count": 95,
     "metadata": {},
     "output_type": "execute_result"
    }
   ],
   "source": [
    "df_so.shape"
   ]
  },
  {
   "cell_type": "code",
   "execution_count": 96,
   "metadata": {},
   "outputs": [
    {
     "name": "stdout",
     "output_type": "stream",
     "text": [
      "1\n",
      "**********\n",
      " \n",
      "\n",
      "I am available for working only from home, if the job position is flexible with this I am happy to be considered for an interview.\n",
      "\n",
      "Mrs, House\n",
      "\n",
      "\n",
      "6\n",
      "**********\n",
      " \n",
      "\n",
      "to whom it may concern,\n",
      "\n",
      "I am interested and would like to get an interview for this job as soon as possible. BU first I want to know more about the benefits the job offers. \n",
      "\n",
      "Mr. P\n",
      "\n",
      "\n",
      "5\n",
      "**********\n",
      " \n",
      "\n",
      "I am interested in this job position and would like to be considered for an interview.\n",
      "Thank you,\n",
      "Y.\n",
      "\n",
      "6\n",
      "**********\n",
      " \n",
      "\n",
      "To whom it might concern,\n",
      "\n",
      "I hope this email finds you well.\n",
      "I appreciate your e-mail, I am very interested in this job position and would like to make myself available for a future interview.\n",
      "\n",
      "With vest regards,\n",
      "Mr. Polite\n",
      "\n",
      "\n",
      "5\n",
      "**********\n",
      " \n",
      "\n",
      "Hi Wendy,\n",
      "\n",
      "I am not interested in this position since it is not compatible with my professional profile, but it could also enhance my set of skills, is there any prior training in this job?\n",
      "\n",
      "Best wishes,\n",
      "\n",
      "Mario\n",
      "\n",
      "\n"
     ]
    }
   ],
   "source": [
    "for k,a in df_so.sample(5).payload.iteritems():\n",
    "    print(k,a,sep='\\n'+10*'*'+'\\n')"
   ]
  },
  {
   "cell_type": "markdown",
   "metadata": {},
   "source": [
    "### Salvador"
   ]
  },
  {
   "cell_type": "code",
   "execution_count": 97,
   "metadata": {},
   "outputs": [],
   "source": [
    "SALVADOR_FILE = path.join(data_dir,'salvador.txt')\n",
    "assert path.isfile(SALVADOR_FILE)"
   ]
  },
  {
   "cell_type": "code",
   "execution_count": 98,
   "metadata": {},
   "outputs": [],
   "source": [
    "label_map = {\n",
    "    'considering': 'neutral',\n",
    "    'acceptance': 'positive',\n",
    "    'decline': 'negative'\n",
    "}\n",
    "\n",
    "\n",
    "def proc_text(text):\n",
    "    init = text.lower().find('label:')\n",
    "    end = text[init:].find('\\n')\n",
    "    return [(text[end+2:].strip(), text[init + len('label:'):end+2].strip())]\n",
    "\n",
    "gen_rows = lambda: (\n",
    "    {\n",
    "        'payload': payload,\n",
    "        'sentiment': label_map[label.lower()],\n",
    "        'mocker': 'Salvador'\n",
    "    } for text in open(SALVADOR_FILE).read().split(32 * '-')\n",
    "    for payload,label in proc_text(text)\n",
    ")\n",
    "\n",
    "df_sa = pd.DataFrame(gen_rows()).sample(frac=1.0)"
   ]
  },
  {
   "cell_type": "code",
   "execution_count": 99,
   "metadata": {},
   "outputs": [
    {
     "data": {
      "text/plain": [
       "(12, 3)"
      ]
     },
     "execution_count": 99,
     "metadata": {},
     "output_type": "execute_result"
    }
   ],
   "source": [
    "df_sa.shape"
   ]
  },
  {
   "cell_type": "code",
   "execution_count": 100,
   "metadata": {},
   "outputs": [
    {
     "name": "stdout",
     "output_type": "stream",
     "text": [
      "6\n",
      "**********\n",
      "Dear Randy Johnson:\n",
      "\n",
      "I very much appreciate your consideration for the DevOps Engineer with Zalando. After further thought, I have decided to withdraw my application for the position.\n",
      "\n",
      "It was a pleasure meeting you. I appreciate the time you spent discussing the opportunity with me, as well as the information you shared on the job and the company.\n",
      "\n",
      "Thank you for your time and consideration. I wish you success in finding the perfect candidate to fill this position.\n",
      "\n",
      "Best regards,\n",
      "David Ortiz\n",
      "1\n",
      "**********\n",
      "Dear Ing. Smith,  \n",
      "\n",
      "I thank you for drawing my attention to the Front-end developer position at your company. I considered this as a great opportunity and hereby I confirm my acceptance of the position.\n",
      "\n",
      "As mentioned during the interviews, I still have a contract to meet that closes the next month. I am joining the company on March 4, 2020. Therefore, I would ask you for the relocation aids your company provides before the starting date.\n",
      "\n",
      "Please, let me know if I need to take further action during this time.\n",
      "\n",
      "Best regards!\n",
      "Daniel Baumtree\n",
      "5\n",
      "**********\n",
      "Dear Dr. Kobain,\n",
      " \n",
      "Thank you so much for offering me the position Software Engineer at Data Verde company. I am enthusiastic about the possibility of working with your team.\n",
      "\n",
      "I noticed the signing salary is lower than what we previously discussed Are you available for a phone call in the coming days to discuss?  \n",
      "\n",
      "Thanks again,\n",
      "Mickey Mantle\n",
      "8\n",
      "**********\n",
      "Dear Mrs. Robinson:\n",
      " \n",
      "Thank you for meeting with me last week to discuss the role of the marketing department. I enjoyed our conversation and was so intrigued by the projects that are in the works at Ku-bot company. \n",
      "\n",
      "I am writing today to withdraw myself from consideration for the position, however, since I was offered a role at another company and accepted the job offer. \n",
      "\n",
      "Thank you again for your time and consideration. \n",
      "Best,\n",
      "Joe Black\n",
      "3\n",
      "**********\n",
      "Dear Mrs. Cecilia Cole,\n",
      "\n",
      "I was amazed to get your phone call yesterday. I am writing to formally accept your employment offer for the Social Media Manager position at Cloudy Company. Thank you for the opportunity.\n",
      "\n",
      "As we agreed, my starting salary will be $52,800 per year with two weeks of paid time off. I understand that health and dental benefits will be available after ninety days of employment.\n",
      "\n",
      "If there’s anything you need from me prior to that start date, or any documents I should bring on my first day, just let me know. I’m eager to dig in and get started on November 6, 2017.\n",
      "Thanks again,\n",
      "\n",
      "Paul LeMahiue\n"
     ]
    }
   ],
   "source": [
    "for k,a in df_sa.sample(5).payload.iteritems():\n",
    "    print(k,a,sep='\\n'+10*'*'+'\\n')"
   ]
  },
  {
   "cell_type": "code",
   "execution_count": 101,
   "metadata": {},
   "outputs": [
    {
     "name": "stdout",
     "output_type": "stream",
     "text": [
      "Dear Mrs. Nadia Kalenski,  \n",
      "\n",
      "Thank you for offering me WebStat's software developer role. I am honored to be considered for the opportunity and feel I would be an asset to the company.\n",
      "\n",
      "I am particularly considering the position’s details and would like some more days to make a decision. I can provide a final answer by Thursday morning. \n",
      "\n",
      "Thank you, \n",
      "Laura Schmidt\n",
      "\n",
      "Sentiment: neutral\n"
     ]
    }
   ],
   "source": [
    "ex = df_sa.sample().iloc[0]\n",
    "print(ex.payload.strip(), ex.sentiment, sep='\\n\\nSentiment: ')"
   ]
  },
  {
   "cell_type": "markdown",
   "metadata": {},
   "source": [
    "### Samantha"
   ]
  },
  {
   "cell_type": "code",
   "execution_count": 102,
   "metadata": {},
   "outputs": [],
   "source": [
    "SAM_DIR = path.join(data_dir, 'samantha')\n",
    "assert path.isdir(SAM_DIR)"
   ]
  },
  {
   "cell_type": "code",
   "execution_count": 103,
   "metadata": {},
   "outputs": [],
   "source": [
    "gen_rows = lambda direc, sentiment: (\n",
    "    {\n",
    "        'payload': open(path.join(direc, file)).read(),\n",
    "        'sentiment': sentiment,\n",
    "        'mocker': 'sam'\n",
    "    } for file in listdir(direc) if file[0] != '.'\n",
    ")\n",
    "\n",
    "df_sm = pd.concat(\n",
    "    pd.DataFrame(gen_rows(path.join(SAM_DIR, sent), sent))\n",
    "    for sent in ('negative', 'positive', 'neutral')\n",
    ").sample(frac=1.0)"
   ]
  },
  {
   "cell_type": "code",
   "execution_count": 104,
   "metadata": {},
   "outputs": [],
   "source": [
    "!pip install googletrans > /dev/null\n",
    "!pip install pycld3 > /dev/null"
   ]
  },
  {
   "cell_type": "code",
   "execution_count": 105,
   "metadata": {},
   "outputs": [],
   "source": [
    "import cld3\n",
    "from googletrans import Translator\n",
    "translator = Translator()\n",
    "translate = lambda contents: translator.translate(contents,src='es',dest='en')"
   ]
  },
  {
   "cell_type": "code",
   "execution_count": 106,
   "metadata": {},
   "outputs": [
    {
     "data": {
      "text/plain": [
       "True     40\n",
       "False     1\n",
       "Name: english, dtype: int64"
      ]
     },
     "execution_count": 106,
     "metadata": {},
     "output_type": "execute_result"
    }
   ],
   "source": [
    "df_sm['english'] = df_sm.payload.apply(\n",
    "    lambda p: cld3.get_language(p)[0] == 'en'\n",
    ")\n",
    "df_sm.english.value_counts()"
   ]
  },
  {
   "cell_type": "code",
   "execution_count": 107,
   "metadata": {},
   "outputs": [],
   "source": [
    "df_sm.payload = df_sm.apply(\n",
    "    lambda r: r.payload if r.english else translate(r.payload).text, axis=1\n",
    ")\n",
    "del df_sm['english']"
   ]
  },
  {
   "cell_type": "code",
   "execution_count": 108,
   "metadata": {},
   "outputs": [
    {
     "data": {
      "text/plain": [
       "Index(['payload', 'sentiment', 'mocker'], dtype='object')"
      ]
     },
     "execution_count": 108,
     "metadata": {},
     "output_type": "execute_result"
    }
   ],
   "source": [
    "df_sm.columns "
   ]
  },
  {
   "cell_type": "code",
   "execution_count": 109,
   "metadata": {},
   "outputs": [
    {
     "name": "stdout",
     "output_type": "stream",
     "text": [
      "11\n",
      "**********\n",
      "Hello,\n",
      "\n",
      "My name is Auraham Camacho.\n",
      "  I contact you regarding\n",
      "to the developer position\n",
      "  in machine learning described in\n",
      "\n",
      "  [one].Find attached my CVU.\n",
      "\n",
      "Awaiting your comments.\n",
      "\n",
      "Regards.\n",
      "3\n",
      "**********\n",
      "Hello Samantha:\n",
      "\n",
      "Wishing you are having a great day\n",
      "despite these days of quarantine.\n",
      "I was wondering if there was any news\n",
      "  about the diagnostic examination and / or the\n",
      "  opportunities to be part of your team.\n",
      "\n",
      "Thank you very much and sorry for the inconvenience.\n",
      "\n",
      "Cheers,\n",
      "Guillermo\n",
      "1\n",
      "**********\n",
      "Good afternoon.\n",
      " \n",
      "I saw your job position\n",
      "  in Indeed and please find my resume\n",
      "attached,\n",
      "I am very interested in the position.\n",
      "\n",
      " \n",
      "Regards.\n",
      "10\n",
      "**********\n",
      "Good afternoon,\n",
      "\n",
      "See the attached CV below\n",
      "for the offer published in\n",
      "https://www.computrabajo.com.mx/empresas/ofertas-de-trabajo-de-intekglobal-BAFDBAB90287CA83/oferta-de-trabajo-de-fisicomatematico-con-maestria-bilingue-en-estados-unidos-3F85D6E6F762871361373E686DC\n",
      "\n",
      "Cheers\n",
      "Magdiel A. F.\n",
      "15\n",
      "**********\n",
      "Good Morning:\n",
      "\n",
      "My name is David Vargas Flores,\n",
      " I am interested in applying for the\n",
      "Software Developer position\n",
      " I currently work in a private security company\n",
      "where we develop projects for the C5i around\n",
      " of the continent.\n",
      "\n",
      " I did my previous job at CIATEQ,\n",
      " a public research center where\n",
      " carry out special projects from the stage\n",
      " from research to product manufacturing\n",
      " for various national and international clients.\n",
      "\n",
      " On the other hand, I have experience\n",
      " working on projects with technologies\n",
      " vehicles in Germany,\n",
      " specifically developing the\n",
      " obstacle detection system\n",
      " for autonomous vehicles and a system\n",
      " of road assistance using V2X and OBDII.\n",
      " Where I collaborated with Dr. Raúl Rojas \n",
      " backed in the lab from Autonomous University Systems\n",
      "\n",
      "\n",
      "\n",
      "Any questions, comments I am at your service.\n",
      "\n",
      "I wish you an excellent day, Thank you very much for your attention.\n",
      "\n",
      " \n",
      "\n",
      "David Vargas\n"
     ]
    }
   ],
   "source": [
    "for k,a in df_sm.sample(5).payload.iteritems():\n",
    "    print(k,a,sep='\\n'+10*'*'+'\\n')"
   ]
  },
  {
   "cell_type": "markdown",
   "metadata": {},
   "source": [
    "### Wendy"
   ]
  },
  {
   "cell_type": "code",
   "execution_count": 110,
   "metadata": {},
   "outputs": [],
   "source": [
    "WENDY_FILE = path.join(data_dir,'wendy.txt')\n",
    "assert path.isfile(WENDY_FILE)"
   ]
  },
  {
   "cell_type": "code",
   "execution_count": 111,
   "metadata": {},
   "outputs": [],
   "source": [
    "SENTIMENTS = ['-POSITIVE', '-NEUTRAL', '-NEGATIVE']\n",
    "\n",
    "\n",
    "def text_between_strings(text, string1, string2):\n",
    "    pos1 = text.find(string1) + len(string1)\n",
    "    pos2 = text.find(string2)\n",
    "    return text[pos1:pos2]\n",
    "\n",
    "\n",
    "assert text_between_strings('Hi this is Enrique', 'this', 'Enrique') == ' is '\n",
    "\n",
    "\n",
    "def texts_between_strings_in_array(text, arr):\n",
    "    i_arr = iter(arr)\n",
    "    string1 = next(i_arr)\n",
    "    result = {}\n",
    "    for string2 in i_arr:\n",
    "        result[string1] = text_between_strings(text, string1, string2)\n",
    "        string1 = string2\n",
    "    result[string1] = text[text.find(string1) + len(string1):]\n",
    "    return result\n",
    "\n",
    "\n",
    "assert texts_between_strings_in_array(' a b c d f g h i j',\n",
    "                                      ['a', 'c', 'i']) == {\n",
    "                                          'a': ' b ',\n",
    "                                          'c': ' d f g h ',\n",
    "                                          'i': ' j'\n",
    "                                      }\n",
    "\n",
    "gen_rows = lambda: (\n",
    "    {\n",
    "        'payload': payload,\n",
    "        'sentiment': sent.split('-')[1].lower(),\n",
    "        'mocker': 'Wendy'\n",
    "    } for sent, text in\n",
    "    texts_between_strings_in_array(open(WENDY_FILE).read(), SENTIMENTS).items()\n",
    "    for payload in text.split('-')\n",
    ")\n",
    "\n",
    "\n",
    "df_we = pd.DataFrame(gen_rows()).sample(frac=1.0)"
   ]
  },
  {
   "cell_type": "code",
   "execution_count": 112,
   "metadata": {},
   "outputs": [
    {
     "data": {
      "text/plain": [
       "positive    15\n",
       "neutral     10\n",
       "negative     8\n",
       "Name: sentiment, dtype: int64"
      ]
     },
     "execution_count": 112,
     "metadata": {},
     "output_type": "execute_result"
    }
   ],
   "source": [
    "df_we.sentiment.value_counts()"
   ]
  },
  {
   "cell_type": "code",
   "execution_count": 113,
   "metadata": {},
   "outputs": [
    {
     "name": "stdout",
     "output_type": "stream",
     "text": [
      "1\n",
      "**********\n",
      "I am a graduate of CICESE in the area of ​​telecommunications and digital signal processing, I am looking for a job, if you have any attached CV vacancy.\n",
      "13\n",
      "**********\n",
      "My name is Manuel Combarro Simón, we spoke a little while ago, I am sending you my updated CV, I have not worked as such in artificial intelligence, but I have seen some courses and made simple classifiers.\n",
      "\n",
      "Cheers,\n",
      "9\n",
      "**********\n",
      "PLS. Call this number xxxxxxx I’ll like to work in the US.\n",
      "0\n",
      "**********\n",
      "I am writing to you because of the vacancy \"IT consultation Firm\". I have a PhD in Materials Science and Engineering, with extensive experience in C ++. I attach my CV in case the vacancy is still valid.\n",
      "14\n",
      "**********\n",
      "I’m interested Here’s my CV\n",
      "7\n",
      "**********\n",
      "Wendy! \n",
      "\n",
      "My current contract is done, I’m ready to interview whenever you like.\n",
      "12\n",
      "**********\n",
      "Greetings,\n",
      "\n",
      "Thank you. I attached my CV\n",
      "11\n",
      "**********\n",
      "Dear Wendy,\n",
      "\n",
      "I inform you that I have spoken with my girlfriend, we have reached some agreements. I inform you that I will be able to accept the job offer\n",
      "3\n",
      "**********\n",
      "I am interested in this position\n",
      "2\n",
      "**********\n",
      "I send my CV. I hope my profile suits the needs of the company. I must emphasize that I programmed a prototype of the particle detector of the V0 + of the Alice network in Mexico using C ++\n",
      "4\n",
      "**********\n",
      "My name is Karla Ramírez and I saw the vacancy \"Master in Physical Sciences\" posted on the site.\n",
      "\n",
      "I want to be considered for the selection process. I attach my CV in English; I already sent my data in Spanish through the website.\n",
      "\n",
      "I meet the requirements listed. In addition, I have extensive experience in serving international clients and I have a high sense of responsibility.\n",
      "\n",
      "I appreciate you confirm received. Awaiting your comments.\n",
      "10\n",
      "**********\n",
      "Either way, I'm writing to ask you about your latest post on\n",
      "LinkedIn about new corresponding AI positions; I even consider\n",
      "my profile is more suited to that than web or mobile software development.\n",
      "6\n",
      "**********\n",
      "Greetings Wendy Barajas,\n",
      "\n",
      "I want to know if there are currently job openings in Tekmexico,\n",
      "\n",
      "Thanks in advance,\n",
      "5\n",
      "**********\n",
      "Hi wendy barajas, i received your email, im interested in a developer position. i wait for your comments. Regards.\n",
      "8\n",
      "**********\n",
      "HI! \n",
      "\n",
      "Recently graduated in Computer Science , I’ll like to apply for this job offer\n"
     ]
    }
   ],
   "source": [
    "for k, a in df_we[df_we.sentiment == 'positive'].payload.iteritems():\n",
    "    print(k, a.strip(), sep='\\n' + 10 * '*' + '\\n')"
   ]
  },
  {
   "cell_type": "code",
   "execution_count": 76,
   "metadata": {},
   "outputs": [
    {
     "name": "stdout",
     "output_type": "stream",
     "text": [
      "18\n",
      "**********\n",
      "\n",
      "I want to know more about the benefits\n",
      "\n",
      "20\n",
      "**********\n",
      "\n",
      "It sounds tempting what time can I call you to know more about the training\n",
      "\n",
      "4\n",
      "**********\n",
      "\n",
      "\n",
      "My name is Karla Ramírez and I saw the vacancy \"Master in Physical Sciences\" posted on the site.\n",
      "\n",
      "I want to be considered for the selection process. I attach my CV in English; I already sent my data in Spanish through the website.\n",
      "\n",
      "I meet the requirements listed. In addition, I have extensive experience in serving international clients and I have a high sense of responsibility.\n",
      "\n",
      "I appreciate you confirm received. Awaiting your comments.\n",
      "\n",
      "31\n",
      "**********\n",
      "\n",
      "\n",
      "My English is not good enough \n",
      "\n",
      "10\n",
      "**********\n",
      "\n",
      "\n",
      "\n",
      "Either way, I'm writing to ask you about your latest post on\n",
      "LinkedIn about new corresponding AI positions; I even consider\n",
      "my profile is more suited to that than web or mobile software development.\n",
      "\n"
     ]
    }
   ],
   "source": [
    "for k,a in df_we.sample(5).payload.iteritems():\n",
    "    print(k,a,sep='\\n'+10*'*'+'\\n')"
   ]
  },
  {
   "cell_type": "markdown",
   "metadata": {},
   "source": [
    "### Join Mocks"
   ]
  },
  {
   "cell_type": "code",
   "execution_count": 77,
   "metadata": {},
   "outputs": [],
   "source": [
    "df = pd.concat([df_iv,df_so,df_sa,df_sm,df_we],ignore_index=True).sample(frac=1.0)"
   ]
  },
  {
   "cell_type": "code",
   "execution_count": 78,
   "metadata": {},
   "outputs": [
    {
     "data": {
      "text/plain": [
       "(146, 3)"
      ]
     },
     "execution_count": 78,
     "metadata": {},
     "output_type": "execute_result"
    }
   ],
   "source": [
    "df.shape"
   ]
  },
  {
   "cell_type": "code",
   "execution_count": 79,
   "metadata": {},
   "outputs": [
    {
     "data": {
      "text/html": [
       "<div>\n",
       "<style scoped>\n",
       "    .dataframe tbody tr th:only-of-type {\n",
       "        vertical-align: middle;\n",
       "    }\n",
       "\n",
       "    .dataframe tbody tr th {\n",
       "        vertical-align: top;\n",
       "    }\n",
       "\n",
       "    .dataframe thead th {\n",
       "        text-align: right;\n",
       "    }\n",
       "</style>\n",
       "<table border=\"1\" class=\"dataframe\">\n",
       "  <thead>\n",
       "    <tr style=\"text-align: right;\">\n",
       "      <th></th>\n",
       "      <th>payload</th>\n",
       "      <th>sentiment</th>\n",
       "      <th>mocker</th>\n",
       "    </tr>\n",
       "  </thead>\n",
       "  <tbody>\n",
       "    <tr>\n",
       "      <th>44</th>\n",
       "      <td>\\n\\nThank you for your email.\\nshould I quali...</td>\n",
       "      <td>positive</td>\n",
       "      <td>Sol</td>\n",
       "    </tr>\n",
       "    <tr>\n",
       "      <th>50</th>\n",
       "      <td>\\nDear recruiter\\n\\nthank you for getting in ...</td>\n",
       "      <td>negative</td>\n",
       "      <td>Sol</td>\n",
       "    </tr>\n",
       "  </tbody>\n",
       "</table>\n",
       "</div>"
      ],
      "text/plain": [
       "                                              payload sentiment mocker\n",
       "44   \\n\\nThank you for your email.\\nshould I quali...  positive    Sol\n",
       "50   \\nDear recruiter\\n\\nthank you for getting in ...  negative    Sol"
      ]
     },
     "execution_count": 79,
     "metadata": {},
     "output_type": "execute_result"
    }
   ],
   "source": [
    "df.sample(2)"
   ]
  },
  {
   "cell_type": "code",
   "execution_count": 80,
   "metadata": {},
   "outputs": [
    {
     "data": {
      "text/plain": [
       "positive    59\n",
       "neutral     49\n",
       "negative    38\n",
       "Name: sentiment, dtype: int64"
      ]
     },
     "execution_count": 80,
     "metadata": {},
     "output_type": "execute_result"
    }
   ],
   "source": [
    "df.sentiment.value_counts()"
   ]
  },
  {
   "cell_type": "markdown",
   "metadata": {},
   "source": [
    "Convert 'positive' and 'negative' values to 1 and 0 values, respectively."
   ]
  },
  {
   "cell_type": "code",
   "execution_count": 81,
   "metadata": {},
   "outputs": [],
   "source": [
    "#df.sentiment = df.sentiment.apply(lambda s: int(s=='positive'))\n",
    "df.to_csv('../data/interim/intekglobal_employee/emails.csv', index=False)"
   ]
  },
  {
   "cell_type": "markdown",
   "metadata": {},
   "source": [
    "Save dataframe in a file the positive and the negative cases, and the neutral case in another file"
   ]
  },
  {
   "cell_type": "code",
   "execution_count": 82,
   "metadata": {},
   "outputs": [
    {
     "name": "stdout",
     "output_type": "stream",
     "text": [
      " \n",
      "\n",
      "I received gladly this email, please find attached my cv  \n",
      "\n",
      "\n",
      "Sentiment:\n",
      "positive\n"
     ]
    }
   ],
   "source": [
    "ex = df.sample().iloc[0]\n",
    "print(ex.payload)\n",
    "print(f'Sentiment:\\n{ex.sentiment}')"
   ]
  }
 ],
 "metadata": {
  "kernelspec": {
   "display_name": "Python 3",
   "language": "python",
   "name": "python3"
  },
  "language_info": {
   "codemirror_mode": {
    "name": "ipython",
    "version": 3
   },
   "file_extension": ".py",
   "mimetype": "text/x-python",
   "name": "python",
   "nbconvert_exporter": "python",
   "pygments_lexer": "ipython3",
   "version": "3.7.6"
  }
 },
 "nbformat": 4,
 "nbformat_minor": 4
}
