{
 "cells": [
  {
   "cell_type": "code",
   "execution_count": 27,
   "metadata": {},
   "outputs": [
    {
     "name": "stdout",
     "output_type": "stream",
     "text": [
      "The autoreload extension is already loaded. To reload it, use:\n",
      "  %reload_ext autoreload\n"
     ]
    }
   ],
   "source": [
    "%load_ext autoreload\n",
    "%autoreload 2"
   ]
  },
  {
   "cell_type": "code",
   "execution_count": 28,
   "metadata": {},
   "outputs": [],
   "source": [
    "# default "
   ]
  },
  {
   "cell_type": "code",
   "execution_count": 29,
   "metadata": {},
   "outputs": [],
   "source": [
    "from os import path,listdir\n",
    "from shutil import rmtree\n",
    "import pandas as pd\n",
    "import numpy as np"
   ]
  },
  {
   "cell_type": "markdown",
   "metadata": {},
   "source": [
    "job_offer_classifier.__version__"
   ]
  },
  {
   "cell_type": "code",
   "execution_count": 30,
   "metadata": {},
   "outputs": [],
   "source": [
    "# Shutdown TF info logging\n",
    "import tensorflow as tf\n",
    "tf.compat.v1.logging.set_verbosity(tf.compat.v1.logging.ERROR)"
   ]
  },
  {
   "cell_type": "markdown",
   "metadata": {},
   "source": [
    "## Preprocess the Mocks"
   ]
  },
  {
   "cell_type": "code",
   "execution_count": 31,
   "metadata": {},
   "outputs": [],
   "source": [
    "data_dir = '../data/raw/mock_email_sentiments/'"
   ]
  },
  {
   "cell_type": "markdown",
   "metadata": {},
   "source": [
    "### Ivan"
   ]
  },
  {
   "cell_type": "code",
   "execution_count": 32,
   "metadata": {},
   "outputs": [],
   "source": [
    "IVAN_DIR = path.join(data_dir, 'ivan')\n",
    "assert path.isdir(IVAN_DIR)"
   ]
  },
  {
   "cell_type": "code",
   "execution_count": 33,
   "metadata": {},
   "outputs": [],
   "source": [
    "gen_rows = lambda direc, sentiment: (\n",
    "    {\n",
    "        'payload': open(path.join(direc, file)).read(),\n",
    "        'sentiment': sentiment,\n",
    "        'mocker': 'Ivan'\n",
    "    } for file in listdir(direc) if file[0] != '.'\n",
    ")\n",
    "\n",
    "df_iv = pd.concat(\n",
    "    pd.DataFrame(gen_rows(path.join(IVAN_DIR, sent), sent))\n",
    "    for sent in ('negative', 'positive', 'neutral')\n",
    ").sample(frac=1.0)"
   ]
  },
  {
   "cell_type": "code",
   "execution_count": 34,
   "metadata": {},
   "outputs": [
    {
     "data": {
      "text/plain": [
       "(30, 3)"
      ]
     },
     "execution_count": 34,
     "metadata": {},
     "output_type": "execute_result"
    }
   ],
   "source": [
    "df_iv.shape"
   ]
  },
  {
   "cell_type": "code",
   "execution_count": 35,
   "metadata": {},
   "outputs": [
    {
     "name": "stdout",
     "output_type": "stream",
     "text": [
      "0\n",
      "**********\n",
      "Greetings,\n",
      "\n",
      "I saw the description for the job you sent me and I think it could be\n",
      "a good change for me. It's a bit different from my usual roles but\n",
      "I'm certainly up to the challenge. \n",
      "\n",
      "Regards. \n",
      "\n",
      "6\n",
      "**********\n",
      "Hi,\n",
      "\n",
      "The position matches my profile and the location \n",
      "is ideal. Unfortunately it does not meet my current\n",
      "financial requirements. If the salary is not negotiable \n",
      "then I cannot accept. \n",
      "9\n",
      "**********\n",
      "Greetings,\n",
      "\n",
      "The job position would be great for me if only I could choose my own work location.\n",
      "Due to personal reasons I currently cannot be away too ofter or for too long. \n",
      "\n",
      "Does the job offer remote work options?\n",
      "Is it possible to take sick days/personal days?\n",
      "\n",
      "Regards\n",
      "\n",
      "\n",
      "8\n",
      "**********\n",
      "Greetings,\n",
      "\n",
      "The job seems to fit my profile but compared to my current\n",
      "employment it looks like more of the same for me. I'm not interested\n",
      "in a lateral move but if anything should come up in the future be\n",
      "sure to keep me in mind.\n",
      "0\n",
      "**********\n",
      "Hi,\n",
      "\n",
      "Regarding the job opening, I don't think it would be a great fit for me at this time.\n",
      "I'm still getting familiar with some of the requirements but perhaps in the future.\n",
      "\n",
      "Regards.\n",
      "\n"
     ]
    }
   ],
   "source": [
    "for k,a in df_iv.sample(5).payload.iteritems():\n",
    "    print(k,a,sep='\\n'+10*'*'+'\\n')"
   ]
  },
  {
   "cell_type": "code",
   "execution_count": 36,
   "metadata": {},
   "outputs": [
    {
     "name": "stdout",
     "output_type": "stream",
     "text": [
      "hello,\n",
      "\n",
      "The job description you sent seems interesting. If the offer still stands\n",
      "I would like to interview for it.\n",
      "\n",
      "Sentiment: positive\n"
     ]
    }
   ],
   "source": [
    "ex = df_iv.sample().iloc[0]\n",
    "print(ex.payload.strip(), ex.sentiment, sep='\\n\\nSentiment: ')"
   ]
  },
  {
   "cell_type": "markdown",
   "metadata": {},
   "source": [
    "### Sol"
   ]
  },
  {
   "cell_type": "code",
   "execution_count": 37,
   "metadata": {},
   "outputs": [],
   "source": [
    "SOL_DIR = path.join(data_dir,'sol')\n",
    "assert path.isdir(SOL_DIR)"
   ]
  },
  {
   "cell_type": "code",
   "execution_count": 38,
   "metadata": {},
   "outputs": [],
   "source": [
    "sep_rule = {'negative': 109 * '-', 'neutral': 109 * '-', 'positive': 109 * '-'}\n",
    "gen_rows = lambda sentiment: (\n",
    "    {\n",
    "        'payload': text,\n",
    "        'sentiment': sentiment,\n",
    "        'mocker': 'Sol'\n",
    "    } for text in open(path.join(SOL_DIR, sentiment + '.txt')).read().\n",
    "    split(sep_rule[sentiment])\n",
    ")\n",
    "\n",
    "df_so = pd.concat(\n",
    "    pd.DataFrame(gen_rows(sent))\n",
    "    for sent in ('neutral', 'negative', 'positive')\n",
    ").sample(frac=1.0)"
   ]
  },
  {
   "cell_type": "code",
   "execution_count": 39,
   "metadata": {},
   "outputs": [
    {
     "data": {
      "text/plain": [
       "(30, 3)"
      ]
     },
     "execution_count": 39,
     "metadata": {},
     "output_type": "execute_result"
    }
   ],
   "source": [
    "df_so.shape"
   ]
  },
  {
   "cell_type": "code",
   "execution_count": 40,
   "metadata": {},
   "outputs": [
    {
     "name": "stdout",
     "output_type": "stream",
     "text": [
      "1\n",
      "**********\n",
      " \n",
      "\n",
      "I am available for working only from home, if the job position is flexible with this I am happy to be considered for an interview.\n",
      "\n",
      "Mrs, House\n",
      "\n",
      "\n",
      "9\n",
      "**********\n",
      " \n",
      "I have just enrolled in a PhD program and can not apply for this job.\n",
      "I will be glad to work with you in the future and look forward to meet with you in another ocassion.\n",
      "\n",
      "Gabriela Romero\n",
      "\n",
      "1\n",
      "**********\n",
      " \n",
      "\n",
      "thank you for considering me for this position,  I am sorry to inform you that I have taken a job in south lake city and will be moving next week.\n",
      "\n",
      "\n",
      "7\n",
      "**********\n",
      " \n",
      "Dear recruiter\n",
      "\n",
      "thank you for getting in touch with me. I am interested in this job position. But  I haven't finished my bachelor's program and can not meet the arrival day. \n",
      "\n",
      "Many thanks,\n",
      "S.\n",
      "\n",
      "6\n",
      "**********\n",
      " \n",
      "\n",
      "to whom it may concern,\n",
      "\n",
      "I am interested and would like to get an interview for this job as soon as possible. BU first I want to know more about the benefits the job offers. \n",
      "\n",
      "Mr. P\n",
      "\n",
      "\n"
     ]
    }
   ],
   "source": [
    "for k,a in df_so.sample(5).payload.iteritems():\n",
    "    print(k,a,sep='\\n'+10*'*'+'\\n')"
   ]
  },
  {
   "cell_type": "markdown",
   "metadata": {},
   "source": [
    "### Salvador"
   ]
  },
  {
   "cell_type": "code",
   "execution_count": 41,
   "metadata": {},
   "outputs": [],
   "source": [
    "SALVADOR_FILE = '../data/raw/mock_email_sentiments/salvador.txt'\n",
    "assert path.isfile(SALVADOR_FILE)"
   ]
  },
  {
   "cell_type": "code",
   "execution_count": 42,
   "metadata": {},
   "outputs": [],
   "source": [
    "label_map = {\n",
    "    'considering': 'neutral',\n",
    "    'acceptance': 'positive',\n",
    "    'decline': 'negative'\n",
    "}\n",
    "\n",
    "\n",
    "def proc_text(text):\n",
    "    init = text.lower().find('label:')\n",
    "    end = text[init:].find('\\n')\n",
    "    return [(text[end+2:].strip(), text[init + len('label:'):end+2].strip())]\n",
    "\n",
    "gen_rows = lambda: (\n",
    "    {\n",
    "        'payload': payload,\n",
    "        'sentiment': label_map[label.lower()],\n",
    "        'mocker': 'Salvador'\n",
    "    } for text in open(SALVADOR_FILE).read().split(32 * '-')\n",
    "    for payload,label in proc_text(text)\n",
    ")\n",
    "\n",
    "df_sa = pd.DataFrame(gen_rows()).sample(frac=1.0)"
   ]
  },
  {
   "cell_type": "code",
   "execution_count": 43,
   "metadata": {},
   "outputs": [
    {
     "data": {
      "text/plain": [
       "(12, 3)"
      ]
     },
     "execution_count": 43,
     "metadata": {},
     "output_type": "execute_result"
    }
   ],
   "source": [
    "df_sa.shape"
   ]
  },
  {
   "cell_type": "code",
   "execution_count": 44,
   "metadata": {},
   "outputs": [
    {
     "name": "stdout",
     "output_type": "stream",
     "text": [
      "7\n",
      "**********\n",
      "Dear Mr. Jones,\n",
      "\n",
      "I sincerely appreciate your consideration for the account manager position with your firm. I regret to inform you that I must withdraw my application for the job. My wife has received an attractive promotion with her company that will require relocation to another state, and we will be moving at the end of the summer.\n",
      "\n",
      "Thank you for the time you spent reviewing my qualifications and meeting with me.\n",
      "\n",
      "Best regards,\n",
      "Shaun Murphy\n",
      "555-862-15756\n",
      "shaun_mur@mymail.com\n",
      "6\n",
      "**********\n",
      "Dear Randy Johnson:\n",
      "\n",
      "I very much appreciate your consideration for the DevOps Engineer with Zalando. After further thought, I have decided to withdraw my application for the position.\n",
      "\n",
      "It was a pleasure meeting you. I appreciate the time you spent discussing the opportunity with me, as well as the information you shared on the job and the company.\n",
      "\n",
      "Thank you for your time and consideration. I wish you success in finding the perfect candidate to fill this position.\n",
      "\n",
      "Best regards,\n",
      "David Ortiz\n",
      "0\n",
      "**********\n",
      "Dear Dr. Prof. Weismann,  \n",
      "\n",
      "I would like to thank you for extending me the soft professor teaching position at the Mathematical Analysis department at Technical University Wien. I am pleased to officially accept the offer and begin working with the team.\n",
      "\n",
      "As discussed, I agreed with the teaching hours scheduled for the coming semesters and the research activities I will conduct. I will send all documentation to begin the hiring procedure.\n",
      "\n",
      "Please let me know if there is anything I can provide before my start date on January 23, 2019. \n",
      "\n",
      "Thanks again!\n",
      "Dra. Sarah Martinez\n",
      "9\n",
      "**********\n",
      "Dear Dr. Eva Braun,\n",
      "\n",
      "Thank you for your offer of the position of Technical Specialist for the Witten Solutions Company. I am positively impressed with the depth of knowledge of your development team and believe that my experience will contribute to maximizing the profitability of the department.\n",
      "\n",
      "I would like to talk with you regarding the salary and benefits you have offered before I could make a final decision. I feel that with the skills, experience, and contacts in the industry that I would bring to Witten, further discussion of my compensation would be appropriate.\n",
      "\n",
      "Sincerely,\n",
      "Adolf Gitler\n",
      "8\n",
      "**********\n",
      "Dear Mrs. Robinson:\n",
      " \n",
      "Thank you for meeting with me last week to discuss the role of the marketing department. I enjoyed our conversation and was so intrigued by the projects that are in the works at Ku-bot company. \n",
      "\n",
      "I am writing today to withdraw myself from consideration for the position, however, since I was offered a role at another company and accepted the job offer. \n",
      "\n",
      "Thank you again for your time and consideration. \n",
      "Best,\n",
      "Joe Black\n"
     ]
    }
   ],
   "source": [
    "for k,a in df_sa.sample(5).payload.iteritems():\n",
    "    print(k,a,sep='\\n'+10*'*'+'\\n')"
   ]
  },
  {
   "cell_type": "code",
   "execution_count": 45,
   "metadata": {},
   "outputs": [
    {
     "name": "stdout",
     "output_type": "stream",
     "text": [
      "Dear Mr. Andrews,\n",
      "\n",
      "Accept this email as my formal acceptance of the offered position as Cloud Architect. I thank you for the opportunity, and I look forward to applying my talents to the position.\n",
      "\n",
      "As the offer letter displays and as we previously discussed on the phone, I accept the starting salary of $68,000 with in-lieu work after three months.\n",
      "\n",
      "I will be meeting the team on July 1, 2020. If you require any additional information from me before then, please let me know. You can reach me at (556) 896-6302 or better by email at sjackson@cloudservices.com.\n",
      "\n",
      "Thank you again for allowing me to demonstrate my value.\n",
      "Sincerely,\n",
      "Samuel L. Jackson\n",
      "\n",
      "Sentiment: positive\n"
     ]
    }
   ],
   "source": [
    "ex = df_sa.sample().iloc[0]\n",
    "print(ex.payload.strip(), ex.sentiment, sep='\\n\\nSentiment: ')"
   ]
  },
  {
   "cell_type": "markdown",
   "metadata": {},
   "source": [
    "### Join Mocks"
   ]
  },
  {
   "cell_type": "code",
   "execution_count": 46,
   "metadata": {},
   "outputs": [],
   "source": [
    "df = pd.concat([df_iv,df_so,df_sa],ignore_index=True)"
   ]
  },
  {
   "cell_type": "code",
   "execution_count": 47,
   "metadata": {},
   "outputs": [
    {
     "data": {
      "text/plain": [
       "(72, 3)"
      ]
     },
     "execution_count": 47,
     "metadata": {},
     "output_type": "execute_result"
    }
   ],
   "source": [
    "df.shape"
   ]
  },
  {
   "cell_type": "code",
   "execution_count": 48,
   "metadata": {},
   "outputs": [
    {
     "data": {
      "text/html": [
       "<div>\n",
       "<style scoped>\n",
       "    .dataframe tbody tr th:only-of-type {\n",
       "        vertical-align: middle;\n",
       "    }\n",
       "\n",
       "    .dataframe tbody tr th {\n",
       "        vertical-align: top;\n",
       "    }\n",
       "\n",
       "    .dataframe thead th {\n",
       "        text-align: right;\n",
       "    }\n",
       "</style>\n",
       "<table border=\"1\" class=\"dataframe\">\n",
       "  <thead>\n",
       "    <tr style=\"text-align: right;\">\n",
       "      <th></th>\n",
       "      <th>payload</th>\n",
       "      <th>sentiment</th>\n",
       "      <th>mocker</th>\n",
       "    </tr>\n",
       "  </thead>\n",
       "  <tbody>\n",
       "    <tr>\n",
       "      <th>15</th>\n",
       "      <td>Hello,\\n\\nI appreciate the consideration you h...</td>\n",
       "      <td>negative</td>\n",
       "      <td>Ivan</td>\n",
       "    </tr>\n",
       "    <tr>\n",
       "      <th>18</th>\n",
       "      <td>Hello,\\n\\nI'm not interested in this position ...</td>\n",
       "      <td>negative</td>\n",
       "      <td>Ivan</td>\n",
       "    </tr>\n",
       "  </tbody>\n",
       "</table>\n",
       "</div>"
      ],
      "text/plain": [
       "                                              payload sentiment mocker\n",
       "15  Hello,\\n\\nI appreciate the consideration you h...  negative   Ivan\n",
       "18  Hello,\\n\\nI'm not interested in this position ...  negative   Ivan"
      ]
     },
     "execution_count": 48,
     "metadata": {},
     "output_type": "execute_result"
    }
   ],
   "source": [
    "df.sample(2)"
   ]
  },
  {
   "cell_type": "markdown",
   "metadata": {},
   "source": [
    "Convert 'positive' and 'negative' values to 1 and 0 values, respectively."
   ]
  },
  {
   "cell_type": "code",
   "execution_count": 49,
   "metadata": {},
   "outputs": [],
   "source": [
    "df.sentiment = df.sentiment.apply(lambda s: int(s=='positive'))"
   ]
  },
  {
   "cell_type": "markdown",
   "metadata": {},
   "source": [
    "Save dataframe in a file the positive and the negative cases, and the neutral case in another file"
   ]
  },
  {
   "cell_type": "code",
   "execution_count": 50,
   "metadata": {},
   "outputs": [
    {
     "name": "stderr",
     "output_type": "stream",
     "text": [
      "/opt/conda/lib/python3.7/site-packages/pandas/core/ops/array_ops.py:253: FutureWarning: elementwise comparison failed; returning scalar instead, but in the future will perform elementwise comparison\n",
      "  res_values = method(rvalues)\n"
     ]
    }
   ],
   "source": [
    "df[df.sentiment != 'neutral'].to_csv('../data/interim/mocks_pos_neg.csv',index=False)\n",
    "df[df.sentiment == 'neutral'].to_csv('../data/interim/mocks_neutral.csv',index=False)\n",
    "#assert np.all((df.sentiment !='neutral').values)"
   ]
  },
  {
   "cell_type": "code",
   "execution_count": 51,
   "metadata": {},
   "outputs": [
    {
     "name": "stdout",
     "output_type": "stream",
     "text": [
      " \n",
      "Dear recruiter\n",
      "\n",
      "thank you for getting in touch with me. I am interested in this job position. But  I haven't finished my bachelor's program and can not meet the arrival day. \n",
      "\n",
      "Many thanks,\n",
      "S.\n",
      "\n",
      "Sentiment:\n",
      "0\n"
     ]
    }
   ],
   "source": [
    "ex = df.sample().iloc[0]\n",
    "print(ex.payload)\n",
    "print(f'Sentiment:\\n{ex.sentiment}')"
   ]
  },
  {
   "cell_type": "markdown",
   "metadata": {},
   "source": [
    "## Enrique"
   ]
  }
 ],
 "metadata": {
  "kernelspec": {
   "display_name": "Python 3",
   "language": "python",
   "name": "python3"
  },
  "language_info": {
   "codemirror_mode": {
    "name": "ipython",
    "version": 3
   },
   "file_extension": ".py",
   "mimetype": "text/x-python",
   "name": "python",
   "nbconvert_exporter": "python",
   "pygments_lexer": "ipython3",
   "version": "3.7.6"
  }
 },
 "nbformat": 4,
 "nbformat_minor": 4
}
