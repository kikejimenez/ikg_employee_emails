{
  "nbformat": 4,
  "nbformat_minor": 0,
  "metadata": {
    "kernelspec": {
      "display_name": "Python 3",
      "language": "python",
      "name": "python3"
    },
    "language_info": {
      "codemirror_mode": {
        "name": "ipython",
        "version": 3
      },
      "file_extension": ".py",
      "mimetype": "text/x-python",
      "name": "python",
      "nbconvert_exporter": "python",
      "pygments_lexer": "ipython3",
      "version": "3.7.6"
    },
    "colab": {
      "name": "all_cases.ipynb",
      "provenance": []
    }
  },
  "cells": [
    {
      "cell_type": "markdown",
      "metadata": {
        "id": "e4SPhpl5Akz-",
        "colab_type": "text"
      },
      "source": [
        "## Positive and Negative Sentiments in Job Candidate Emails\n",
        "> Using the library job-offer-classifier"
      ]
    },
    {
      "cell_type": "code",
      "metadata": {
        "id": "-rMs2k2y57LE",
        "colab_type": "code",
        "colab": {}
      },
      "source": [
        "pip install job-offer-classifier --upgrade > /dev/null"
      ],
      "execution_count": 0,
      "outputs": []
    },
    {
      "cell_type": "code",
      "metadata": {
        "id": "x9z0hdC357LJ",
        "colab_type": "code",
        "colab": {
          "base_uri": "https://localhost:8080/",
          "height": 52
        },
        "outputId": "cf1b3859-5815-4713-b38b-bb85a7614ba2"
      },
      "source": [
        "%load_ext autoreload\n",
        "%autoreload 2"
      ],
      "execution_count": 114,
      "outputs": [
        {
          "output_type": "stream",
          "text": [
            "The autoreload extension is already loaded. To reload it, use:\n",
            "  %reload_ext autoreload\n"
          ],
          "name": "stdout"
        }
      ]
    },
    {
      "cell_type": "code",
      "metadata": {
        "id": "xJL3iSoh57LN",
        "colab_type": "code",
        "colab": {}
      },
      "source": [
        "# default "
      ],
      "execution_count": 0,
      "outputs": []
    },
    {
      "cell_type": "code",
      "metadata": {
        "id": "TlGbmvs857LR",
        "colab_type": "code",
        "colab": {}
      },
      "source": [
        "from os import path,listdir\n",
        "from shutil import rmtree\n",
        "import pandas as pd\n",
        "import numpy as np\n",
        "import job_offer_classifier\n",
        "from job_offer_classifier.pipeline_classifier import Pipeline\n",
        "from job_offer_classifier.validations import KFoldPipe\n",
        "from job_offer_classifier.pipeline_classifier import plot_confusion_matrix"
      ],
      "execution_count": 0,
      "outputs": []
    },
    {
      "cell_type": "code",
      "metadata": {
        "id": "4y3eHzAo57LV",
        "colab_type": "code",
        "colab": {
          "base_uri": "https://localhost:8080/",
          "height": 34
        },
        "outputId": "59efc75c-e729-4ba5-856d-a355ddcacdc4"
      },
      "source": [
        "job_offer_classifier.__version__"
      ],
      "execution_count": 117,
      "outputs": [
        {
          "output_type": "execute_result",
          "data": {
            "text/plain": [
              "'0.0.5'"
            ]
          },
          "metadata": {
            "tags": []
          },
          "execution_count": 117
        }
      ]
    },
    {
      "cell_type": "code",
      "metadata": {
        "id": "yiD15wCL57La",
        "colab_type": "code",
        "colab": {}
      },
      "source": [
        "# Shutdown TF info logging\n",
        "import tensorflow as tf\n",
        "tf.compat.v1.logging.set_verbosity(tf.compat.v1.logging.ERROR)"
      ],
      "execution_count": 0,
      "outputs": []
    },
    {
      "cell_type": "markdown",
      "metadata": {
        "id": "2NTBo-2457Lf",
        "colab_type": "text"
      },
      "source": [
        "## Data Processing"
      ]
    },
    {
      "cell_type": "code",
      "metadata": {
        "id": "mS-7DtLt6KTH",
        "colab_type": "code",
        "colab": {}
      },
      "source": [
        "intekglobal_data = 'https://raw.githubusercontent.com/kikejimenez/ikg_employee_emails/master/data/interim/intekglobal_employee/emails.csv'\n",
        "sibatel_web_data = 'https://raw.githubusercontent.com/kikejimenez/ikg_employee_emails/master/data/raw/sibatel_and_webpage.csv'\n",
        "processed_data_file = './sibatel_web_intekglobal_emails/emails.csv'\n",
        "models_dir = './sibatel_web_intekglobal_emails/estimator/'"
      ],
      "execution_count": 0,
      "outputs": []
    },
    {
      "cell_type": "code",
      "metadata": {
        "id": "2BKfCrWG-aFO",
        "colab_type": "code",
        "colab": {
          "base_uri": "https://localhost:8080/",
          "height": 34
        },
        "outputId": "dcc255fd-6c8c-4bee-f6ec-f7d012c91489"
      },
      "source": [
        "path.isdir('sibatel_web_intekglobal_emails')"
      ],
      "execution_count": 120,
      "outputs": [
        {
          "output_type": "execute_result",
          "data": {
            "text/plain": [
              "True"
            ]
          },
          "metadata": {
            "tags": []
          },
          "execution_count": 120
        }
      ]
    },
    {
      "cell_type": "markdown",
      "metadata": {
        "id": "KUmUBbA-57Lh",
        "colab_type": "text"
      },
      "source": [
        "Cibatel+webpage"
      ]
    },
    {
      "cell_type": "code",
      "metadata": {
        "id": "6Zs26VCw57Li",
        "colab_type": "code",
        "colab": {}
      },
      "source": [
        "df = pd.read_csv(sibatel_web_data)\n",
        "nb_cases = min([min(df.sentiment.value_counts().values),50])\n",
        "df_pos = df[df.sentiment == 1].sample(nb_cases)\n",
        "df_neg = df[df.sentiment == 0].sample(nb_cases)\n",
        "\n",
        "df_sibatel_web = pd.concat([df_pos,df_neg]).sample(frac = 1)"
      ],
      "execution_count": 0,
      "outputs": []
    },
    {
      "cell_type": "markdown",
      "metadata": {
        "id": "KJULxg6E57Ln",
        "colab_type": "text"
      },
      "source": [
        "Intekglobal"
      ]
    },
    {
      "cell_type": "code",
      "metadata": {
        "id": "e_mnrb-d57Lo",
        "colab_type": "code",
        "colab": {}
      },
      "source": [
        "df = pd.read_csv(intekglobal_data)\n",
        "df = df[(df.sentiment == 'positive') | (df.sentiment == 'negative')]\n",
        "df.sentiment = df.sentiment.apply(lambda s: int(s == 'positive'))\n",
        "df_intekglobal = df\n",
        "del df"
      ],
      "execution_count": 0,
      "outputs": []
    },
    {
      "cell_type": "markdown",
      "metadata": {
        "id": "Sr_F8JZk57Lr",
        "colab_type": "text"
      },
      "source": [
        "All"
      ]
    },
    {
      "cell_type": "code",
      "metadata": {
        "id": "lD63y95b57Lw",
        "colab_type": "code",
        "colab": {}
      },
      "source": [
        "df = pd.concat([df_sibatel_web,df_intekglobal.drop('mocker',axis=1)]).sample(frac=1)\n",
        "df.to_csv(processed_data_file)"
      ],
      "execution_count": 0,
      "outputs": []
    },
    {
      "cell_type": "code",
      "metadata": {
        "id": "7aJx_4s-57L3",
        "colab_type": "code",
        "colab": {
          "base_uri": "https://localhost:8080/",
          "height": 70
        },
        "outputId": "befc6162-9556-478c-8ee7-9ac73507abab"
      },
      "source": [
        "df.sentiment.value_counts()"
      ],
      "execution_count": 124,
      "outputs": [
        {
          "output_type": "execute_result",
          "data": {
            "text/plain": [
              "1    94\n",
              "0    80\n",
              "Name: sentiment, dtype: int64"
            ]
          },
          "metadata": {
            "tags": []
          },
          "execution_count": 124
        }
      ]
    },
    {
      "cell_type": "markdown",
      "metadata": {
        "id": "_uh3jWD3BHSw",
        "colab_type": "text"
      },
      "source": [
        "## Train the Model"
      ]
    },
    {
      "cell_type": "code",
      "metadata": {
        "id": "RoM-y5P157L8",
        "colab_type": "code",
        "colab": {}
      },
      "source": [
        "kfp = KFoldPipe(n_splits = 4,src_file=processed_data_file)\n",
        "kfp.train_steps = 1000"
      ],
      "execution_count": 0,
      "outputs": []
    },
    {
      "cell_type": "code",
      "metadata": {
        "id": "TK7Szxz557L_",
        "colab_type": "code",
        "colab": {}
      },
      "source": [
        "kfp.k_fold_validation()"
      ],
      "execution_count": 0,
      "outputs": []
    },
    {
      "cell_type": "code",
      "metadata": {
        "id": "u7AJuzIV57MH",
        "colab_type": "code",
        "colab": {
          "base_uri": "https://localhost:8080/",
          "height": 34
        },
        "outputId": "45bbd4af-c31e-4abd-a478-daaf0c666fbb"
      },
      "source": [
        "kfp.best_seed"
      ],
      "execution_count": 127,
      "outputs": [
        {
          "output_type": "execute_result",
          "data": {
            "text/plain": [
              "518738169"
            ]
          },
          "metadata": {
            "tags": []
          },
          "execution_count": 127
        }
      ]
    },
    {
      "cell_type": "code",
      "metadata": {
        "id": "hzTXqQMW57ML",
        "colab_type": "code",
        "colab": {}
      },
      "source": [
        "kfp.random_state = kfp.best_seed\n",
        "kfp.pipeline()"
      ],
      "execution_count": 0,
      "outputs": []
    },
    {
      "cell_type": "code",
      "metadata": {
        "id": "Fx_F__-457MT",
        "colab_type": "code",
        "colab": {}
      },
      "source": [
        "rmtree(models_dir,ignore_errors=True)\n",
        "kfp.export_estimator(models_dir)"
      ],
      "execution_count": 0,
      "outputs": []
    },
    {
      "cell_type": "markdown",
      "metadata": {
        "id": "5QXs3n7rBTPy",
        "colab_type": "text"
      },
      "source": [
        "## Predictions"
      ]
    },
    {
      "cell_type": "code",
      "metadata": {
        "id": "F1T7ypWn57MW",
        "colab_type": "code",
        "colab": {}
      },
      "source": [
        "kfp = KFoldPipe(n_splits =1,src_file=processed_data_file,estimator_dir=models_dir)\n",
        "kfp.load_estimator()\n",
        "kfp.input_fns()"
      ],
      "execution_count": 0,
      "outputs": []
    },
    {
      "cell_type": "code",
      "metadata": {
        "id": "egYT8wBB57Ma",
        "colab_type": "code",
        "colab": {
          "base_uri": "https://localhost:8080/",
          "height": 294
        },
        "outputId": "8250c175-2015-424f-df7f-151d377113b2"
      },
      "source": [
        "kfp.plot_confusion_matrix('train')"
      ],
      "execution_count": 131,
      "outputs": [
        {
          "output_type": "display_data",
          "data": {
            "image/png": "[encoded data removed]",
            "text/plain": [
              "<Figure size 432x288 with 2 Axes>"
            ]
          },
          "metadata": {
            "tags": [],
            "needs_background": "light"
          }
        }
      ]
    },
    {
      "cell_type": "code",
      "metadata": {
        "id": "jFECM5Xg57Md",
        "colab_type": "code",
        "colab": {
          "base_uri": "https://localhost:8080/",
          "height": 294
        },
        "outputId": "1c8396bb-c681-4e75-b8fb-a1b7dae9d7bc"
      },
      "source": [
        "kfp.plot_confusion_matrix('test')"
      ],
      "execution_count": 132,
      "outputs": [
        {
          "output_type": "display_data",
          "data": {
            "image/png": "[encoded data removed]",
            "text/plain": [
              "<Figure size 432x288 with 2 Axes>"
            ]
          },
          "metadata": {
            "tags": [],
            "needs_background": "light"
          }
        }
      ]
    },
    {
      "cell_type": "code",
      "metadata": {
        "id": "Cmg0psLjDQHR",
        "colab_type": "code",
        "colab": {
          "base_uri": "https://localhost:8080/",
          "height": 230
        },
        "outputId": "bd1562b8-2967-41ed-e9b7-8e7e73ee989e"
      },
      "source": [
        "kfp.evaluate()\n",
        "kfp.evaluation['train']"
      ],
      "execution_count": 136,
      "outputs": [
        {
          "output_type": "execute_result",
          "data": {
            "text/plain": [
              "{'accuracy': 0.97115386,\n",
              " 'accuracy_baseline': 0.53846157,\n",
              " 'auc': 0.9940476,\n",
              " 'auc_precision_recall': 0.995502,\n",
              " 'average_loss': 0.12028722,\n",
              " 'f1_score': 0.972972990156294,\n",
              " 'global_step': 5000,\n",
              " 'label/mean': 0.53846157,\n",
              " 'loss': 0.12028722,\n",
              " 'precision': 0.9818182,\n",
              " 'prediction/mean': 0.5277839,\n",
              " 'recall': 0.96428573}"
            ]
          },
          "metadata": {
            "tags": []
          },
          "execution_count": 136
        }
      ]
    },
    {
      "cell_type": "code",
      "metadata": {
        "id": "5S92LDmsDhRI",
        "colab_type": "code",
        "colab": {
          "base_uri": "https://localhost:8080/",
          "height": 230
        },
        "outputId": "92108c4f-6a8c-4f2c-d926-58bb273f0d94"
      },
      "source": [
        "kfp.evaluation['test']"
      ],
      "execution_count": 137,
      "outputs": [
        {
          "output_type": "execute_result",
          "data": {
            "text/plain": [
              "{'accuracy': 0.95714283,\n",
              " 'accuracy_baseline': 0.54285717,\n",
              " 'auc': 0.99835527,\n",
              " 'auc_precision_recall': 0.9986675,\n",
              " 'average_loss': 0.1066091,\n",
              " 'f1_score': 0.9610389534388409,\n",
              " 'global_step': 5000,\n",
              " 'label/mean': 0.54285717,\n",
              " 'loss': 0.1066091,\n",
              " 'precision': 0.94871795,\n",
              " 'prediction/mean': 0.56569976,\n",
              " 'recall': 0.9736842}"
            ]
          },
          "metadata": {
            "tags": []
          },
          "execution_count": 137
        }
      ]
    },
    {
      "cell_type": "code",
      "metadata": {
        "id": "N70VhFYB57Mg",
        "colab_type": "code",
        "colab": {
          "base_uri": "https://localhost:8080/",
          "height": 1000
        },
        "outputId": "3ecaaa86-2c53-44c9-b56f-db5b9ecaf50e"
      },
      "source": [
        "df_ex = kfp.dfs['test'].sample(5)\n",
        "df_ex['prediction'] = kfp.predict(df_ex)\n",
        "\n",
        "for k, r in df_ex.iterrows():\n",
        "    print(k, sep='\\n')\n",
        "    print(\n",
        "        r.payload.strip(),\n",
        "        f'Expected: {r.sentiment}',\n",
        "        f'Predicted: {r.prediction}',\n",
        "        sep='\\n'\n",
        "    )"
      ],
      "execution_count": 133,
      "outputs": [
        {
          "output_type": "stream",
          "text": [
            "66\n",
            "thank you again for oﬀering me the opportunity to\n",
            "work at Jones-Lopez.\n",
            "as i told you over the phone i regret that i must\n",
            "decline the job oﬀer.\n",
            "after considerable thought i\n",
            "have determined that the position is not the best fit\n",
            "for me at this time.\n",
            "i enjoyed meeting you and learning about your\n",
            "company and i wish you every success in the\n",
            "future.\n",
            "Expected: 0\n",
            "Predicted: 0\n",
            "22\n",
            "Hello good afternoon\n",
            "\n",
            "\n",
            "My name is José Antonio Martínez,\n",
            "I'm 29 years old, I'm single,\n",
            "I live in Montemorelos NL, and I would like\n",
            "participate for the job position available, \n",
            "I am available, for learning and traveling.\n",
            "I am here for any other information you need.\n",
            "My cell number is 4432178324\n",
            "I attach my resume.\n",
            "\n",
            "I would like to work in the United States\n",
            "I'd like to meet that country\n",
            "\n",
            "I do not speak English but I can learn over time.\n",
            "I just want to work. 😔\n",
            "Expected: 0\n",
            "Predicted: 1\n",
            "126\n",
            "Dear recruiter\n",
            "\n",
            "thank you for getting in touch with me. I am interested in this job position. But  I haven't finished my bachelor's program and can not meet the arrival day. \n",
            "\n",
            "Many thanks,\n",
            "S.\n",
            "Expected: 0\n",
            "Predicted: 0\n",
            "120\n",
            "please accept this letter as confirmation of my resignation from the position of Community arts worker\n",
            "at Wright Inc, effective from one month from today’s date, January 15, 1984.\n",
            "i am very thankful for the opportunities, guidance and ongoing support you have provided me.\n",
            "thank you again, and i wish you and Wright Inc all the best for the future.\n",
            "Expected: 0\n",
            "Predicted: 0\n",
            "115\n",
            "Dear Sir,\n",
            "\n",
            "I am very pleased to hear from you and I am interested in the position that your company is offering. I am available and gladly send you any information you require.\n",
            "\n",
            "Kind regards,\n",
            "\n",
            "Federico Coyne\n",
            "Expected: 1\n",
            "Predicted: 1\n"
          ],
          "name": "stdout"
        }
      ]
    },
    {
      "cell_type": "code",
      "metadata": {
        "id": "hwC7Z7fP-o-x",
        "colab_type": "code",
        "colab": {}
      },
      "source": [
        ""
      ],
      "execution_count": 0,
      "outputs": []
    }
  ]
}