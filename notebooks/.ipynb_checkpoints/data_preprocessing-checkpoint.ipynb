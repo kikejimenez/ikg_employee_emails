{
 "cells": [
  {
   "cell_type": "code",
   "execution_count": 1,
   "metadata": {},
   "outputs": [],
   "source": [
    "%load_ext autoreload\n",
    "%autoreload 2"
   ]
  },
  {
   "cell_type": "code",
   "execution_count": 2,
   "metadata": {},
   "outputs": [],
   "source": [
    "# default "
   ]
  },
  {
   "cell_type": "code",
   "execution_count": 3,
   "metadata": {},
   "outputs": [],
   "source": [
    "from os import path,listdir\n",
    "from shutil import rmtree\n",
    "import pandas as pd\n",
    "import numpy as np"
   ]
  },
  {
   "cell_type": "markdown",
   "metadata": {},
   "source": [
    "job_offer_classifier.__version__"
   ]
  },
  {
   "cell_type": "code",
   "execution_count": 4,
   "metadata": {},
   "outputs": [],
   "source": [
    "# Shutdown TF info logging\n",
    "import tensorflow as tf\n",
    "tf.compat.v1.logging.set_verbosity(tf.compat.v1.logging.ERROR)"
   ]
  },
  {
   "cell_type": "markdown",
   "metadata": {},
   "source": [
    "## Preprocess the Mocks"
   ]
  },
  {
   "cell_type": "code",
   "execution_count": 5,
   "metadata": {},
   "outputs": [],
   "source": [
    "data_dir = '../data/raw/mock_email_sentiments/'"
   ]
  },
  {
   "cell_type": "markdown",
   "metadata": {},
   "source": [
    "### Ivan"
   ]
  },
  {
   "cell_type": "code",
   "execution_count": 6,
   "metadata": {},
   "outputs": [],
   "source": [
    "IVAN_DIR = path.join(data_dir, 'ivan')\n",
    "assert path.isdir(IVAN_DIR)"
   ]
  },
  {
   "cell_type": "code",
   "execution_count": 7,
   "metadata": {},
   "outputs": [],
   "source": [
    "gen_rows = lambda direc, sentiment: (\n",
    "    {\n",
    "        'payload': open(path.join(direc, file)).read(),\n",
    "        'sentiment': sentiment,\n",
    "        'mocker': 'Ivan'\n",
    "    } for file in listdir(direc) if file[0] != '.'\n",
    ")\n",
    "\n",
    "df_iv = pd.concat(\n",
    "    pd.DataFrame(gen_rows(path.join(IVAN_DIR, sent), sent))\n",
    "    for sent in ('negative', 'positive', 'neutral')\n",
    ").sample(frac=1.0)"
   ]
  },
  {
   "cell_type": "code",
   "execution_count": 8,
   "metadata": {},
   "outputs": [
    {
     "data": {
      "text/plain": [
       "(30, 3)"
      ]
     },
     "execution_count": 8,
     "metadata": {},
     "output_type": "execute_result"
    }
   ],
   "source": [
    "df_iv.shape"
   ]
  },
  {
   "cell_type": "code",
   "execution_count": 9,
   "metadata": {},
   "outputs": [
    {
     "name": "stdout",
     "output_type": "stream",
     "text": [
      "9\n",
      "**********\n",
      "Greetings,\n",
      "\n",
      "The job position would be great for me if only I could choose my own work location.\n",
      "Due to personal reasons I currently cannot be away too ofter or for too long. \n",
      "\n",
      "Does the job offer remote work options?\n",
      "Is it possible to take sick days/personal days?\n",
      "\n",
      "Regards\n",
      "\n",
      "\n",
      "7\n",
      "**********\n",
      "Hello,\n",
      "\n",
      "Regarding the job position, I would be interested in interviewing for this role \n",
      "as it matches my profile and I believe my strengths can be put to good use.\n",
      "\n",
      "Regards.\n",
      "5\n",
      "**********\n",
      "Hi,\n",
      "\n",
      "The job description looks great but unfortunately\n",
      "due to personal reasons I can't make the move at this time.\n",
      "Perhaps some time in the future I will be available so I would still\n",
      "like to be considered for a future position. I can also refer some \n",
      "colleagues who would be interested in this position if you'd like.\n",
      "8\n",
      "**********\n",
      "Greetings,\n",
      "\n",
      "The job seems to fit my profile but compared to my current\n",
      "employment it looks like more of the same for me. I'm not interested\n",
      "in a lateral move but if anything should come up in the future be\n",
      "sure to keep me in mind.\n",
      "8\n",
      "**********\n",
      "Hi,\n",
      "\n",
      "I've read the job position and it looks interesting but I have a few doubts. \n",
      "Does this position allow for remote work?\n",
      "Will there be a lot of travel?\n",
      "Does it provide certification courses?\n",
      "\n",
      "I would love to get an answer to these question.\n"
     ]
    }
   ],
   "source": [
    "for k,a in df_iv.sample(5).payload.iteritems():\n",
    "    print(k,a,sep='\\n'+10*'*'+'\\n')"
   ]
  },
  {
   "cell_type": "code",
   "execution_count": 10,
   "metadata": {},
   "outputs": [
    {
     "name": "stdout",
     "output_type": "stream",
     "text": [
      "Greetings, \n",
      "\n",
      "I've read through the job description and find that\n",
      "it matches my profile perfectly. I would love to try to\n",
      "interview for it if it is still available. I would also\n",
      "be interested in any other such positions should I not be chosen\n",
      "but something comes up in the future.\n",
      "\n",
      "Regards.\n",
      "\n",
      "Sentiment: positive\n"
     ]
    }
   ],
   "source": [
    "ex = df_iv.sample().iloc[0]\n",
    "print(ex.payload.strip(), ex.sentiment, sep='\\n\\nSentiment: ')"
   ]
  },
  {
   "cell_type": "markdown",
   "metadata": {},
   "source": [
    "### Sol"
   ]
  },
  {
   "cell_type": "code",
   "execution_count": 11,
   "metadata": {},
   "outputs": [],
   "source": [
    "SOL_DIR = path.join(data_dir,'sol')\n",
    "assert path.isdir(SOL_DIR)"
   ]
  },
  {
   "cell_type": "code",
   "execution_count": 12,
   "metadata": {},
   "outputs": [],
   "source": [
    "sep_rule = {'negative': 109 * '-', 'neutral': 109 * '-', 'positive': 109 * '-'}\n",
    "gen_rows = lambda sentiment: (\n",
    "    {\n",
    "        'payload': text,\n",
    "        'sentiment': sentiment,\n",
    "        'mocker': 'Sol'\n",
    "    } for text in open(path.join(SOL_DIR, sentiment + '.txt')).read().\n",
    "    split(sep_rule[sentiment])\n",
    ")\n",
    "\n",
    "df_so = pd.concat(\n",
    "    pd.DataFrame(gen_rows(sent))\n",
    "    for sent in ('neutral', 'negative', 'positive')\n",
    ").sample(frac=1.0)"
   ]
  },
  {
   "cell_type": "code",
   "execution_count": 13,
   "metadata": {},
   "outputs": [
    {
     "data": {
      "text/plain": [
       "(30, 3)"
      ]
     },
     "execution_count": 13,
     "metadata": {},
     "output_type": "execute_result"
    }
   ],
   "source": [
    "df_so.shape"
   ]
  },
  {
   "cell_type": "code",
   "execution_count": 14,
   "metadata": {},
   "outputs": [
    {
     "name": "stdout",
     "output_type": "stream",
     "text": [
      "9\n",
      "**********\n",
      " \n",
      "I have just enrolled in a PhD program and can not apply for this job.\n",
      "I will be glad to work with you in the future and look forward to meet with you in another ocassion.\n",
      "\n",
      "Gabriela Romero\n",
      "\n",
      "9\n",
      "**********\n",
      " \n",
      "to whom it might concern,\n",
      "\n",
      "today  I am working in a company located in Arizona. I am interested in the job position and would like to apply given that if in case I get the position I could start in September instead of July.\n",
      "\n",
      "kind regards,\n",
      "\n",
      "Summer Sanchez\n",
      "\n",
      "0\n",
      "**********\n",
      "\n",
      "I would like to know more about the process of application and the job activities this job requires.\n",
      "\n",
      "\n",
      "1\n",
      "**********\n",
      " \n",
      "\n",
      "Thank you for your email.\n",
      "should I qualify for this job, I'll be glad to schedule an interview.\n",
      "\n",
      "Marry S.\n",
      "\n",
      "\n",
      "5\n",
      "**********\n",
      " \n",
      "\n",
      "I am interested in this job position and would like to be considered for an interview.\n",
      "Thank you,\n",
      "Y.\n",
      "\n"
     ]
    }
   ],
   "source": [
    "for k,a in df_so.sample(5).payload.iteritems():\n",
    "    print(k,a,sep='\\n'+10*'*'+'\\n')"
   ]
  },
  {
   "cell_type": "markdown",
   "metadata": {},
   "source": [
    "### Salvador"
   ]
  },
  {
   "cell_type": "code",
   "execution_count": 15,
   "metadata": {},
   "outputs": [],
   "source": [
    "SALVADOR_FILE = '../data/raw/mock_email_sentiments/salvador.txt'\n",
    "assert path.isfile(SALVADOR_FILE)"
   ]
  },
  {
   "cell_type": "code",
   "execution_count": 16,
   "metadata": {},
   "outputs": [],
   "source": [
    "label_map = {\n",
    "    'considering': 'neutral',\n",
    "    'acceptance': 'positive',\n",
    "    'decline': 'negative'\n",
    "}\n",
    "\n",
    "\n",
    "def proc_text(text):\n",
    "    init = text.lower().find('label:')\n",
    "    end = text[init:].find('\\n')\n",
    "    return [(text[end+2:].strip(), text[init + len('label:'):end+2].strip())]\n",
    "\n",
    "gen_rows = lambda: (\n",
    "    {\n",
    "        'payload': payload,\n",
    "        'sentiment': label_map[label.lower()],\n",
    "        'mocker': 'Salvador'\n",
    "    } for text in open(SALVADOR_FILE).read().split(32 * '-')\n",
    "    for payload,label in proc_text(text)\n",
    ")\n",
    "\n",
    "df_sa = pd.DataFrame(gen_rows()).sample(frac=1.0)"
   ]
  },
  {
   "cell_type": "code",
   "execution_count": 17,
   "metadata": {},
   "outputs": [
    {
     "data": {
      "text/plain": [
       "(12, 3)"
      ]
     },
     "execution_count": 17,
     "metadata": {},
     "output_type": "execute_result"
    }
   ],
   "source": [
    "df_sa.shape"
   ]
  },
  {
   "cell_type": "code",
   "execution_count": 18,
   "metadata": {},
   "outputs": [
    {
     "name": "stdout",
     "output_type": "stream",
     "text": [
      "11\n",
      "**********\n",
      "Dear Joe,\n",
      "\n",
      "Thank you for offering me the position of Web Developer. I will take the job offer. I am willing to contribute to the company's growing ambitions.\n",
      "\n",
      "As we discuss previously, I agree with the monthly income of $ 9,500 and all the benefits after 2 months. Additionally, I need assistance with relocation as we both agreed.\n",
      "\n",
      "Please, feel free to contact me if I need to send further documentation. I look forward to meeting you and the team on July 6, 2021.\n",
      "\n",
      "Best regards,\n",
      "Salvatore Falconi\n",
      "10\n",
      "**********\n",
      "Dear Ms. Montagne,\n",
      "\n",
      "Thank you very much for offering me the position of Network Administrator at The Spiderweb. The opportunity looks very interesting, and I am sure that I would find the position rewarding.\n",
      "\n",
      "Before I come with my final decision, I am hoping that we can discuss the possibility of adding an 8% commission to my base salary, as my 15-year track record and agenda of contacts will enable me to bring additional revenue to the company. Please let me know if we can discuss this.\n",
      "\n",
      "Thank you for your consideration.\n",
      "\n",
      "Respectfully yours,\n",
      "Suzanne Pavilion\n",
      "1\n",
      "**********\n",
      "Dear Ing. Smith,  \n",
      "\n",
      "I thank you for drawing my attention to the Front-end developer position at your company. I considered this as a great opportunity and hereby I confirm my acceptance of the position.\n",
      "\n",
      "As mentioned during the interviews, I still have a contract to meet that closes the next month. I am joining the company on March 4, 2020. Therefore, I would ask you for the relocation aids your company provides before the starting date.\n",
      "\n",
      "Please, let me know if I need to take further action during this time.\n",
      "\n",
      "Best regards!\n",
      "Daniel Baumtree\n",
      "3\n",
      "**********\n",
      "Dear Mrs. Cecilia Cole,\n",
      "\n",
      "I was amazed to get your phone call yesterday. I am writing to formally accept your employment offer for the Social Media Manager position at Cloudy Company. Thank you for the opportunity.\n",
      "\n",
      "As we agreed, my starting salary will be $52,800 per year with two weeks of paid time off. I understand that health and dental benefits will be available after ninety days of employment.\n",
      "\n",
      "If there’s anything you need from me prior to that start date, or any documents I should bring on my first day, just let me know. I’m eager to dig in and get started on November 6, 2017.\n",
      "Thanks again,\n",
      "\n",
      "Paul LeMahiue\n",
      "0\n",
      "**********\n",
      "Dear Dr. Prof. Weismann,  \n",
      "\n",
      "I would like to thank you for extending me the soft professor teaching position at the Mathematical Analysis department at Technical University Wien. I am pleased to officially accept the offer and begin working with the team.\n",
      "\n",
      "As discussed, I agreed with the teaching hours scheduled for the coming semesters and the research activities I will conduct. I will send all documentation to begin the hiring procedure.\n",
      "\n",
      "Please let me know if there is anything I can provide before my start date on January 23, 2019. \n",
      "\n",
      "Thanks again!\n",
      "Dra. Sarah Martinez\n"
     ]
    }
   ],
   "source": [
    "for k,a in df_sa.sample(5).payload.iteritems():\n",
    "    print(k,a,sep='\\n'+10*'*'+'\\n')"
   ]
  },
  {
   "cell_type": "code",
   "execution_count": 19,
   "metadata": {},
   "outputs": [
    {
     "name": "stdout",
     "output_type": "stream",
     "text": [
      "Dear Ing. Smith,  \n",
      "\n",
      "I thank you for drawing my attention to the Front-end developer position at your company. I considered this as a great opportunity and hereby I confirm my acceptance of the position.\n",
      "\n",
      "As mentioned during the interviews, I still have a contract to meet that closes the next month. I am joining the company on March 4, 2020. Therefore, I would ask you for the relocation aids your company provides before the starting date.\n",
      "\n",
      "Please, let me know if I need to take further action during this time.\n",
      "\n",
      "Best regards!\n",
      "Daniel Baumtree\n",
      "\n",
      "Sentiment: positive\n"
     ]
    }
   ],
   "source": [
    "ex = df_sa.sample().iloc[0]\n",
    "print(ex.payload.strip(), ex.sentiment, sep='\\n\\nSentiment: ')"
   ]
  },
  {
   "cell_type": "markdown",
   "metadata": {},
   "source": [
    "### Join Mocks"
   ]
  },
  {
   "cell_type": "code",
   "execution_count": 20,
   "metadata": {},
   "outputs": [],
   "source": [
    "df = pd.concat([df_iv,df_so,df_sa],ignore_index=True)"
   ]
  },
  {
   "cell_type": "code",
   "execution_count": 21,
   "metadata": {},
   "outputs": [
    {
     "data": {
      "text/plain": [
       "(72, 3)"
      ]
     },
     "execution_count": 21,
     "metadata": {},
     "output_type": "execute_result"
    }
   ],
   "source": [
    "df.shape"
   ]
  },
  {
   "cell_type": "code",
   "execution_count": 22,
   "metadata": {},
   "outputs": [
    {
     "data": {
      "text/html": [
       "<div>\n",
       "<style scoped>\n",
       "    .dataframe tbody tr th:only-of-type {\n",
       "        vertical-align: middle;\n",
       "    }\n",
       "\n",
       "    .dataframe tbody tr th {\n",
       "        vertical-align: top;\n",
       "    }\n",
       "\n",
       "    .dataframe thead th {\n",
       "        text-align: right;\n",
       "    }\n",
       "</style>\n",
       "<table border=\"1\" class=\"dataframe\">\n",
       "  <thead>\n",
       "    <tr style=\"text-align: right;\">\n",
       "      <th></th>\n",
       "      <th>payload</th>\n",
       "      <th>sentiment</th>\n",
       "      <th>mocker</th>\n",
       "    </tr>\n",
       "  </thead>\n",
       "  <tbody>\n",
       "    <tr>\n",
       "      <th>69</th>\n",
       "      <td>Dear Mr. Jones,\\n\\nI sincerely appreciate your...</td>\n",
       "      <td>negative</td>\n",
       "      <td>Salvador</td>\n",
       "    </tr>\n",
       "    <tr>\n",
       "      <th>58</th>\n",
       "      <td>\\nHi,\\nThank you for your email.\\nI have alre...</td>\n",
       "      <td>negative</td>\n",
       "      <td>Sol</td>\n",
       "    </tr>\n",
       "  </tbody>\n",
       "</table>\n",
       "</div>"
      ],
      "text/plain": [
       "                                              payload sentiment    mocker\n",
       "69  Dear Mr. Jones,\\n\\nI sincerely appreciate your...  negative  Salvador\n",
       "58   \\nHi,\\nThank you for your email.\\nI have alre...  negative       Sol"
      ]
     },
     "execution_count": 22,
     "metadata": {},
     "output_type": "execute_result"
    }
   ],
   "source": [
    "df.sample(2)"
   ]
  },
  {
   "cell_type": "markdown",
   "metadata": {},
   "source": [
    "Convert 'positive' and 'negative' values to 1 and 0 values, respectively."
   ]
  },
  {
   "cell_type": "code",
   "execution_count": 24,
   "metadata": {},
   "outputs": [],
   "source": [
    "df.sentiment = df.sentiment.apply(lambda s: int(s=='positive'))"
   ]
  },
  {
   "cell_type": "markdown",
   "metadata": {},
   "source": [
    "Save dataframe in a file the positive and the negative cases, and the neutral case in another file"
   ]
  },
  {
   "cell_type": "code",
   "execution_count": 23,
   "metadata": {},
   "outputs": [],
   "source": [
    "df[df.sentiment != 'neutral'].to_csv('../data/interim/mocks_pos_neg.csv',index=False)\n",
    "df[df.sentiment == 'neutral'].to_csv('../data/interim/mocks_neutral.csv',index=False)\n",
    "#assert np.all((df.sentiment !='neutral').values)"
   ]
  },
  {
   "cell_type": "code",
   "execution_count": 26,
   "metadata": {},
   "outputs": [
    {
     "name": "stdout",
     "output_type": "stream",
     "text": [
      "\n",
      "I am interested in the job but can not  satisfy the mobility issue, I appreciate the information and look forward to work with you in another time,\n",
      "\n",
      "Sincerely,\n",
      "\n",
      "Mr. Moore\n",
      "\n",
      "\n",
      "Sentiment:\n",
      "0\n"
     ]
    }
   ],
   "source": [
    "ex = df.sample().iloc[0]\n",
    "print(ex.payload)\n",
    "print(f'Sentiment:\\n{ex.sentiment}')"
   ]
  },
  {
   "cell_type": "markdown",
   "metadata": {},
   "source": [
    "## Enrique"
   ]
  }
 ],
 "metadata": {
  "kernelspec": {
   "display_name": "Python 3",
   "language": "python",
   "name": "python3"
  },
  "language_info": {
   "codemirror_mode": {
    "name": "ipython",
    "version": 3
   },
   "file_extension": ".py",
   "mimetype": "text/x-python",
   "name": "python",
   "nbconvert_exporter": "python",
   "pygments_lexer": "ipython3",
   "version": "3.7.6"
  }
 },
 "nbformat": 4,
 "nbformat_minor": 4
}
