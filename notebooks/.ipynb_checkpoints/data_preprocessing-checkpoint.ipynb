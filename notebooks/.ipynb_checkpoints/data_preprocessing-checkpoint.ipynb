{
 "cells": [
  {
   "cell_type": "code",
   "execution_count": 1,
   "metadata": {},
   "outputs": [],
   "source": [
    "%load_ext autoreload\n",
    "%autoreload 2"
   ]
  },
  {
   "cell_type": "code",
   "execution_count": 2,
   "metadata": {},
   "outputs": [],
   "source": [
    "# default "
   ]
  },
  {
   "cell_type": "code",
   "execution_count": 3,
   "metadata": {},
   "outputs": [],
   "source": [
    "from os import path,listdir\n",
    "from shutil import rmtree\n",
    "import pandas as pd\n",
    "import numpy as np"
   ]
  },
  {
   "cell_type": "markdown",
   "metadata": {},
   "source": [
    "job_offer_classifier.__version__"
   ]
  },
  {
   "cell_type": "code",
   "execution_count": 4,
   "metadata": {},
   "outputs": [],
   "source": [
    "# Shutdown TF info logging\n",
    "#import tensorflow as tf\n",
    "#tf.compat.v1.logging.set_verbosity(tf.compat.v1.logging.ERROR)"
   ]
  },
  {
   "cell_type": "markdown",
   "metadata": {},
   "source": [
    "## Preprocess the Mocks"
   ]
  },
  {
   "cell_type": "code",
   "execution_count": 5,
   "metadata": {},
   "outputs": [],
   "source": [
    "data_dir = '../data/raw/intekglobal_employee/'"
   ]
  },
  {
   "cell_type": "markdown",
   "metadata": {},
   "source": [
    "### Ivan"
   ]
  },
  {
   "cell_type": "code",
   "execution_count": 6,
   "metadata": {},
   "outputs": [],
   "source": [
    "IVAN_DIR = path.join(data_dir, 'ivan')\n",
    "assert path.isdir(IVAN_DIR)"
   ]
  },
  {
   "cell_type": "code",
   "execution_count": 7,
   "metadata": {},
   "outputs": [],
   "source": [
    "gen_rows = lambda direc, sentiment: (\n",
    "    {\n",
    "        'payload': open(path.join(direc, file)).read(),\n",
    "        'sentiment': sentiment,\n",
    "        'mocker': 'Ivan'\n",
    "    } for file in listdir(direc) if file[0] != '.'\n",
    ")\n",
    "\n",
    "df_iv = pd.concat(\n",
    "    pd.DataFrame(gen_rows(path.join(IVAN_DIR, sent), sent))\n",
    "    for sent in ('negative', 'positive', 'neutral')\n",
    ").sample(frac=1.0)"
   ]
  },
  {
   "cell_type": "code",
   "execution_count": 8,
   "metadata": {},
   "outputs": [
    {
     "data": {
      "text/plain": [
       "(30, 3)"
      ]
     },
     "execution_count": 8,
     "metadata": {},
     "output_type": "execute_result"
    }
   ],
   "source": [
    "df_iv.shape"
   ]
  },
  {
   "cell_type": "code",
   "execution_count": 9,
   "metadata": {},
   "outputs": [
    {
     "name": "stdout",
     "output_type": "stream",
     "text": [
      "4\n",
      "**********\n",
      "Greetings, \n",
      "\n",
      "I've read through the job description and find that\n",
      "it matches my profile perfectly. I would love to try to\n",
      "interview for it if it is still available. I would also\n",
      "be interested in any other such positions should I not be chosen\n",
      "but something comes up in the future.\n",
      "\n",
      "Regards.\n",
      "7\n",
      "**********\n",
      "Greetings,\n",
      "\n",
      "The job opportunity looks great and I would normally jump at it but at\n",
      "this time it would be difficult to make the change. I would love\n",
      "to hear about other openings in the future if you would consider me again. \n",
      "3\n",
      "**********\n",
      "Greetings,\n",
      "\n",
      "I saw the description for the job you sent me and I think it could be\n",
      "a good change for me. It's a bit different from my usual roles but\n",
      "I'm certainly up to the challenge. \n",
      "\n",
      "Regards. \n",
      "\n",
      "3\n",
      "**********\n",
      "Hi,\n",
      "\n",
      "The job description looks great but unfortunately\n",
      "due to personal reasons I can't make the move at this time.\n",
      "Perhaps some time in the future I will be available so I would still\n",
      "like to be considered for a future position. I can also refer some \n",
      "colleagues who would be interested in this position if you'd like.\n",
      "6\n",
      "**********\n",
      "Hello,\n",
      "\n",
      "The job position looks great but it seems that the contract if only for a few months.\n",
      "Would it be possible to get an extension or a permanent contract after the time ends?\n",
      "\n",
      "regards.\n"
     ]
    }
   ],
   "source": [
    "for k,a in df_iv.sample(5).payload.iteritems():\n",
    "    print(k,a,sep='\\n'+10*'*'+'\\n')"
   ]
  },
  {
   "cell_type": "code",
   "execution_count": 10,
   "metadata": {},
   "outputs": [
    {
     "name": "stdout",
     "output_type": "stream",
     "text": [
      "Hello,\n",
      "\n",
      "Regarding the job profile, my expertise are not exactly what are being asked\n",
      "but they are very related. Competing technologies in fact. I'm a quick learner\n",
      "and if the company can provide training I can quickly get up to speed.\n",
      "\n",
      "I would love to hear back with any details regarding this position.\n",
      "\n",
      "Sentiment: neutral\n"
     ]
    }
   ],
   "source": [
    "ex = df_iv.sample().iloc[0]\n",
    "print(ex.payload.strip(), ex.sentiment, sep='\\n\\nSentiment: ')"
   ]
  },
  {
   "cell_type": "markdown",
   "metadata": {},
   "source": [
    "### Sol"
   ]
  },
  {
   "cell_type": "code",
   "execution_count": 11,
   "metadata": {},
   "outputs": [],
   "source": [
    "SOL_DIR = path.join(data_dir,'sol')\n",
    "assert path.isdir(SOL_DIR)"
   ]
  },
  {
   "cell_type": "code",
   "execution_count": 12,
   "metadata": {},
   "outputs": [],
   "source": [
    "sep_rule = {'negative': 109 * '-', 'neutral': 109 * '-', 'positive': 109 * '-'}\n",
    "gen_rows = lambda sentiment: (\n",
    "    {\n",
    "        'payload': text,\n",
    "        'sentiment': sentiment,\n",
    "        'mocker': 'Sol'\n",
    "    } for text in open(path.join(SOL_DIR, sentiment + '.txt')).read().\n",
    "    split(sep_rule[sentiment])\n",
    ")\n",
    "\n",
    "df_so = pd.concat(\n",
    "    pd.DataFrame(gen_rows(sent))\n",
    "    for sent in ('neutral', 'negative', 'positive')\n",
    ").sample(frac=1.0)"
   ]
  },
  {
   "cell_type": "code",
   "execution_count": 13,
   "metadata": {},
   "outputs": [
    {
     "data": {
      "text/plain": [
       "(30, 3)"
      ]
     },
     "execution_count": 13,
     "metadata": {},
     "output_type": "execute_result"
    }
   ],
   "source": [
    "df_so.shape"
   ]
  },
  {
   "cell_type": "code",
   "execution_count": 14,
   "metadata": {},
   "outputs": [
    {
     "name": "stdout",
     "output_type": "stream",
     "text": [
      "3\n",
      "**********\n",
      " \n",
      "Dear X,\n",
      "\n",
      "I would like to consider to apply for his job offer, please find attached my cv.\n",
      "Let me know if you have further inquiries about my professional background.\n",
      "\n",
      "Kind regards,\n",
      "Mark Ruffalo\n",
      "\n",
      "5\n",
      "**********\n",
      " \n",
      "\n",
      "thank you for your email. At this moment I am no interested in this particular job.\n",
      "Many thanks,\n",
      "Mr. Lopez\n",
      "\n",
      "\n",
      "3\n",
      "**********\n",
      " \n",
      "\n",
      " I am not interested, please stop sending emails or will be forced to act against you legally.\n",
      "\n",
      "\n",
      "8\n",
      "**********\n",
      " \n",
      "\n",
      "Dear recruiter,\n",
      "\n",
      "I had severe flu and was not able to reply earlier. I am aware that the deadline is already past but if the position is still available please consider my cv.\n",
      "I am available for an interview.\n",
      "\n",
      "Best regards,\n",
      "Mr. M\n",
      "\n",
      "3\n",
      "**********\n",
      " \n",
      "\n",
      "Dear recruiter,\n",
      "\n",
      "I am very thankful for your email, unfortunately, I am considering another job. \n",
      "Could you elaborate on the benefits of this job?\n",
      "\n",
      "Best regards.\n",
      "\n",
      "Martha D.\n",
      "\n",
      "\n"
     ]
    }
   ],
   "source": [
    "for k,a in df_so.sample(5).payload.iteritems():\n",
    "    print(k,a,sep='\\n'+10*'*'+'\\n')"
   ]
  },
  {
   "cell_type": "markdown",
   "metadata": {},
   "source": [
    "### Salvador"
   ]
  },
  {
   "cell_type": "code",
   "execution_count": 15,
   "metadata": {},
   "outputs": [],
   "source": [
    "SALVADOR_FILE = path.join(data_dir,'salvador.txt')\n",
    "assert path.isfile(SALVADOR_FILE)"
   ]
  },
  {
   "cell_type": "code",
   "execution_count": 16,
   "metadata": {},
   "outputs": [],
   "source": [
    "label_map = {\n",
    "    'considering': 'neutral',\n",
    "    'acceptance': 'positive',\n",
    "    'decline': 'negative'\n",
    "}\n",
    "\n",
    "\n",
    "def proc_text(text):\n",
    "    init = text.lower().find('label:')\n",
    "    end = text[init:].find('\\n')\n",
    "    return [(text[end+2:].strip(), text[init + len('label:'):end+2].strip())]\n",
    "\n",
    "gen_rows = lambda: (\n",
    "    {\n",
    "        'payload': payload,\n",
    "        'sentiment': label_map[label.lower()],\n",
    "        'mocker': 'Salvador'\n",
    "    } for text in open(SALVADOR_FILE).read().split(32 * '-')\n",
    "    for payload,label in proc_text(text)\n",
    ")\n",
    "\n",
    "df_sa = pd.DataFrame(gen_rows()).sample(frac=1.0)"
   ]
  },
  {
   "cell_type": "code",
   "execution_count": 17,
   "metadata": {},
   "outputs": [
    {
     "data": {
      "text/plain": [
       "(12, 3)"
      ]
     },
     "execution_count": 17,
     "metadata": {},
     "output_type": "execute_result"
    }
   ],
   "source": [
    "df_sa.shape"
   ]
  },
  {
   "cell_type": "code",
   "execution_count": 18,
   "metadata": {},
   "outputs": [
    {
     "name": "stdout",
     "output_type": "stream",
     "text": [
      "1\n",
      "**********\n",
      "Dear Ing. Smith,  \n",
      "\n",
      "I thank you for drawing my attention to the Front-end developer position at your company. I considered this as a great opportunity and hereby I confirm my acceptance of the position.\n",
      "\n",
      "As mentioned during the interviews, I still have a contract to meet that closes the next month. I am joining the company on March 4, 2020. Therefore, I would ask you for the relocation aids your company provides before the starting date.\n",
      "\n",
      "Please, let me know if I need to take further action during this time.\n",
      "\n",
      "Best regards!\n",
      "Daniel Baumtree\n",
      "2\n",
      "**********\n",
      "Dear Mr. Andrews,\n",
      "\n",
      "Accept this email as my formal acceptance of the offered position as Cloud Architect. I thank you for the opportunity, and I look forward to applying my talents to the position.\n",
      "\n",
      "As the offer letter displays and as we previously discussed on the phone, I accept the starting salary of $68,000 with in-lieu work after three months.\n",
      "\n",
      "I will be meeting the team on July 1, 2020. If you require any additional information from me before then, please let me know. You can reach me at (556) 896-6302 or better by email at sjackson@cloudservices.com.\n",
      "\n",
      "Thank you again for allowing me to demonstrate my value.\n",
      "Sincerely,\n",
      "Samuel L. Jackson\n",
      "6\n",
      "**********\n",
      "Dear Randy Johnson:\n",
      "\n",
      "I very much appreciate your consideration for the DevOps Engineer with Zalando. After further thought, I have decided to withdraw my application for the position.\n",
      "\n",
      "It was a pleasure meeting you. I appreciate the time you spent discussing the opportunity with me, as well as the information you shared on the job and the company.\n",
      "\n",
      "Thank you for your time and consideration. I wish you success in finding the perfect candidate to fill this position.\n",
      "\n",
      "Best regards,\n",
      "David Ortiz\n",
      "7\n",
      "**********\n",
      "Dear Mr. Jones,\n",
      "\n",
      "I sincerely appreciate your consideration for the account manager position with your firm. I regret to inform you that I must withdraw my application for the job. My wife has received an attractive promotion with her company that will require relocation to another state, and we will be moving at the end of the summer.\n",
      "\n",
      "Thank you for the time you spent reviewing my qualifications and meeting with me.\n",
      "\n",
      "Best regards,\n",
      "Shaun Murphy\n",
      "555-862-15756\n",
      "shaun_mur@mymail.com\n",
      "8\n",
      "**********\n",
      "Dear Mrs. Robinson:\n",
      " \n",
      "Thank you for meeting with me last week to discuss the role of the marketing department. I enjoyed our conversation and was so intrigued by the projects that are in the works at Ku-bot company. \n",
      "\n",
      "I am writing today to withdraw myself from consideration for the position, however, since I was offered a role at another company and accepted the job offer. \n",
      "\n",
      "Thank you again for your time and consideration. \n",
      "Best,\n",
      "Joe Black\n"
     ]
    }
   ],
   "source": [
    "for k,a in df_sa.sample(5).payload.iteritems():\n",
    "    print(k,a,sep='\\n'+10*'*'+'\\n')"
   ]
  },
  {
   "cell_type": "code",
   "execution_count": 19,
   "metadata": {},
   "outputs": [
    {
     "name": "stdout",
     "output_type": "stream",
     "text": [
      "Dear Ing. Smith,  \n",
      "\n",
      "I thank you for drawing my attention to the Front-end developer position at your company. I considered this as a great opportunity and hereby I confirm my acceptance of the position.\n",
      "\n",
      "As mentioned during the interviews, I still have a contract to meet that closes the next month. I am joining the company on March 4, 2020. Therefore, I would ask you for the relocation aids your company provides before the starting date.\n",
      "\n",
      "Please, let me know if I need to take further action during this time.\n",
      "\n",
      "Best regards!\n",
      "Daniel Baumtree\n",
      "\n",
      "Sentiment: positive\n"
     ]
    }
   ],
   "source": [
    "ex = df_sa.sample().iloc[0]\n",
    "print(ex.payload.strip(), ex.sentiment, sep='\\n\\nSentiment: ')"
   ]
  },
  {
   "cell_type": "markdown",
   "metadata": {},
   "source": [
    "### Samantha"
   ]
  },
  {
   "cell_type": "code",
   "execution_count": 20,
   "metadata": {},
   "outputs": [],
   "source": [
    "SAM_DIR = path.join(data_dir, 'samantha')\n",
    "assert path.isdir(SAM_DIR)"
   ]
  },
  {
   "cell_type": "code",
   "execution_count": 21,
   "metadata": {},
   "outputs": [],
   "source": [
    "gen_rows = lambda direc, sentiment: (\n",
    "    {\n",
    "        'payload': open(path.join(direc, file)).read(),\n",
    "        'sentiment': sentiment,\n",
    "        'mocker': 'sam'\n",
    "    } for file in listdir(direc) if file[0] != '.'\n",
    ")\n",
    "\n",
    "df_sm = pd.concat(\n",
    "    pd.DataFrame(gen_rows(path.join(SAM_DIR, sent), sent))\n",
    "    for sent in ('negative', 'positive', 'neutral')\n",
    ").sample(frac=1.0)"
   ]
  },
  {
   "cell_type": "code",
   "execution_count": 22,
   "metadata": {},
   "outputs": [],
   "source": [
    "!pip install googletrans > /dev/null\n",
    "!pip install pycld3 > /dev/null"
   ]
  },
  {
   "cell_type": "code",
   "execution_count": 23,
   "metadata": {},
   "outputs": [],
   "source": [
    "import cld3\n",
    "from googletrans import Translator\n",
    "translator = Translator()\n",
    "translate = lambda contents: translator.translate(contents,src='es',dest='en')"
   ]
  },
  {
   "cell_type": "code",
   "execution_count": 24,
   "metadata": {},
   "outputs": [
    {
     "data": {
      "text/plain": [
       "True     40\n",
       "False     1\n",
       "Name: english, dtype: int64"
      ]
     },
     "execution_count": 24,
     "metadata": {},
     "output_type": "execute_result"
    }
   ],
   "source": [
    "df_sm['english'] = df_sm.payload.apply(\n",
    "    lambda p: cld3.get_language(p)[0] == 'en'\n",
    ")\n",
    "df_sm.english.value_counts()"
   ]
  },
  {
   "cell_type": "code",
   "execution_count": 25,
   "metadata": {},
   "outputs": [],
   "source": [
    "df_sm.payload = df_sm.apply(\n",
    "    lambda r: r.payload if r.english else translate(r.payload).text, axis=1\n",
    ")\n",
    "del df_sm['english']"
   ]
  },
  {
   "cell_type": "code",
   "execution_count": 26,
   "metadata": {},
   "outputs": [
    {
     "data": {
      "text/plain": [
       "Index(['payload', 'sentiment', 'mocker'], dtype='object')"
      ]
     },
     "execution_count": 26,
     "metadata": {},
     "output_type": "execute_result"
    }
   ],
   "source": [
    "df_sm.columns "
   ]
  },
  {
   "cell_type": "code",
   "execution_count": 27,
   "metadata": {},
   "outputs": [
    {
     "name": "stdout",
     "output_type": "stream",
     "text": [
      "11\n",
      "**********\n",
      "Good day,\n",
      "\n",
      "I am writing to you for the vacancy\n",
      "that they have published, currently\n",
      "  I reside in Querétaro with a\n",
      "  Master in Artificial Intelligence,\n",
      "  which I did at the University\n",
      "Autonomous of Querétaro.\n",
      "I am open to any contact\n",
      "  if they so desire. I attach my CV.\n",
      "Best regards\n",
      "12\n",
      "**********\n",
      "Dear Miss Medina:\n",
      "\n",
      "My name is Guillermo López Hinojosa.\n",
      "\n",
      "I recently found the job offer for\n",
      " \"Physico-Mathematical with\n",
      "  Master / Bilingual \",\n",
      "and I consider that my experience and\n",
      "  background meet the\n",
      "requirements stipulated for the position.\n",
      "\n",
      "Find attached my CV.\n",
      "7\n",
      "**********\n",
      "My name is Brayan Cuevas Arteaga\n",
      "  I am an Electronic Engineer with\n",
      "Master in Electrical Engineering\n",
      "(instrumentation and digital systems),\n",
      "  my last job was as Mr. Engineer\n",
      "  at Motorola Solutions Inc, I hope and\n",
      "  you have a chance to check my\n",
      "resume annex in Spanish and English.\n",
      "  Thank you very much in advance!\n",
      "6\n",
      "**********\n",
      "Hello good afternoon\n",
      "\n",
      "\n",
      "My name is José Antonio Martínez,\n",
      "I'm 29 years old, I'm single,\n",
      "I live in Montemorelos NL, and I would like\n",
      "participate for the job position available, \n",
      "I am available, for learning and traveling.\n",
      "I am here for any other information you need.\n",
      "My cell number is 4432178324\n",
      "I attach my resume.\n",
      "\n",
      "I would like to work in the United States\n",
      "I'd like to meet that country\n",
      "\n",
      "I do not speak English but I can learn over time.\n",
      "I just want to work. 😔\n",
      "2\n",
      "**********\n",
      "Greetings,\n",
      "\n",
      "I attached my CV to apply \n",
      "for the software developer position\n",
      "\n",
      "Thanks in advance,\n"
     ]
    }
   ],
   "source": [
    "for k,a in df_sm.sample(5).payload.iteritems():\n",
    "    print(k,a,sep='\\n'+10*'*'+'\\n')"
   ]
  },
  {
   "cell_type": "markdown",
   "metadata": {},
   "source": [
    "### Wendy"
   ]
  },
  {
   "cell_type": "code",
   "execution_count": 28,
   "metadata": {},
   "outputs": [],
   "source": [
    "WENDY_FILE = path.join(data_dir,'wendy.txt')\n",
    "assert path.isfile(WENDY_FILE)"
   ]
  },
  {
   "cell_type": "code",
   "execution_count": 29,
   "metadata": {},
   "outputs": [],
   "source": [
    "SENTIMENTS = ['-POSITIVE', '-NEUTRAL', '-NEGATIVE']\n",
    "\n",
    "\n",
    "def text_between_strings(text, string1, string2):\n",
    "    pos1 = text.find(string1) + len(string1)\n",
    "    pos2 = text.find(string2)\n",
    "    return text[pos1:pos2]\n",
    "\n",
    "\n",
    "assert text_between_strings('Hi this is Enrique', 'this', 'Enrique') == ' is '\n",
    "\n",
    "\n",
    "def texts_between_strings_in_array(text, arr):\n",
    "    i_arr = iter(arr)\n",
    "    string1 = next(i_arr)\n",
    "    result = {}\n",
    "    for string2 in i_arr:\n",
    "        result[string1] = text_between_strings(text, string1, string2)\n",
    "        string1 = string2\n",
    "    result[string1] = text[text.find(string1) + len(string1):]\n",
    "    return result\n",
    "\n",
    "\n",
    "assert texts_between_strings_in_array(' a b c d f g h i j',\n",
    "                                      ['a', 'c', 'i']) == {\n",
    "                                          'a': ' b ',\n",
    "                                          'c': ' d f g h ',\n",
    "                                          'i': ' j'\n",
    "                                      }\n",
    "\n",
    "gen_rows = lambda: (\n",
    "    {\n",
    "        'payload': payload,\n",
    "        'sentiment': sent.split('-')[1].lower(),\n",
    "        'mocker': 'Wendy'\n",
    "    } for sent, text in\n",
    "    texts_between_strings_in_array(open(WENDY_FILE).read(), SENTIMENTS).items()\n",
    "    for payload in text.split('-')\n",
    ")\n",
    "\n",
    "\n",
    "df_we = pd.DataFrame(gen_rows()).sample(frac=1.0)"
   ]
  },
  {
   "cell_type": "code",
   "execution_count": 30,
   "metadata": {},
   "outputs": [
    {
     "data": {
      "text/plain": [
       "positive    15\n",
       "neutral     10\n",
       "negative     8\n",
       "Name: sentiment, dtype: int64"
      ]
     },
     "execution_count": 30,
     "metadata": {},
     "output_type": "execute_result"
    }
   ],
   "source": [
    "df_we.sentiment.value_counts()"
   ]
  },
  {
   "cell_type": "code",
   "execution_count": 43,
   "metadata": {},
   "outputs": [
    {
     "name": "stdout",
     "output_type": "stream",
     "text": [
      "6\n",
      "**********\n",
      "Greetings Wendy Barajas,\n",
      "\n",
      "I want to know if there are currently job openings in Tekmexico,\n",
      "\n",
      "Thanks in advance,\n",
      "1\n",
      "**********\n",
      "I am a graduate of CICESE in the area of ​​telecommunications and digital signal processing, I am looking for a job, if you have any attached CV vacancy.\n",
      "11\n",
      "**********\n",
      "Dear Wendy,\n",
      "\n",
      "I inform you that I have spoken with my girlfriend, we have reached some agreements. I inform you that I will be able to accept the job offer\n",
      "4\n",
      "**********\n",
      "My name is Karla Ramírez and I saw the vacancy \"Master in Physical Sciences\" posted on the site.\n",
      "\n",
      "I want to be considered for the selection process. I attach my CV in English; I already sent my data in Spanish through the website.\n",
      "\n",
      "I meet the requirements listed. In addition, I have extensive experience in serving international clients and I have a high sense of responsibility.\n",
      "\n",
      "I appreciate you confirm received. Awaiting your comments.\n",
      "7\n",
      "**********\n",
      "Wendy! \n",
      "\n",
      "My current contract is done, I’m ready to interview whenever you like.\n",
      "2\n",
      "**********\n",
      "I send my CV. I hope my profile suits the needs of the company. I must emphasize that I programmed a prototype of the particle detector of the V0 + of the Alice network in Mexico using C ++\n",
      "5\n",
      "**********\n",
      "Hi wendy barajas, i received your email, im interested in a developer position. i wait for your comments. Regards.\n",
      "12\n",
      "**********\n",
      "Greetings,\n",
      "\n",
      "Thank you. I attached my CV\n",
      "13\n",
      "**********\n",
      "My name is Manuel Combarro Simón, we spoke a little while ago, I am sending you my updated CV, I have not worked as such in artificial intelligence, but I have seen some courses and made simple classifiers.\n",
      "\n",
      "Cheers,\n",
      "3\n",
      "**********\n",
      "I am interested in this position\n",
      "0\n",
      "**********\n",
      "I am writing to you because of the vacancy \"IT consultation Firm\". I have a PhD in Materials Science and Engineering, with extensive experience in C ++. I attach my CV in case the vacancy is still valid.\n",
      "14\n",
      "**********\n",
      "I’m interested Here’s my CV\n",
      "10\n",
      "**********\n",
      "Either way, I'm writing to ask you about your latest post on\n",
      "LinkedIn about new corresponding AI positions; I even consider\n",
      "my profile is more suited to that than web or mobile software development.\n",
      "9\n",
      "**********\n",
      "PLS. Call this number xxxxxxx I’ll like to work in the US.\n",
      "8\n",
      "**********\n",
      "HI! \n",
      "\n",
      "Recently graduated in Computer Science , I’ll like to apply for this job offer\n"
     ]
    }
   ],
   "source": [
    "for k, a in df_we[df_we.sentiment == 'positive'].payload.iteritems():\n",
    "    print(k, a.strip(), sep='\\n' + 10 * '*' + '\\n')"
   ]
  },
  {
   "cell_type": "code",
   "execution_count": 44,
   "metadata": {},
   "outputs": [
    {
     "name": "stdout",
     "output_type": "stream",
     "text": [
      "8\n",
      "**********\n",
      "\n",
      "HI! \n",
      "\n",
      "Recently graduated in Computer Science , I’ll like to apply for this job offer \n",
      "\n",
      "24\n",
      "**********\n",
      "\n",
      "I like the idea we can talk in April\n",
      "\n",
      "\n",
      "\n",
      "\n",
      "25\n",
      "**********\n",
      " \n",
      "\n",
      "Thank you very much for sharing this opportunity with me, but I was recently hired as an analyst in Mexico City. However, I do not close afterwards to the possibility of working in the United States later. I hope to keep in touch.\n",
      "\n",
      "11\n",
      "**********\n",
      "\n",
      "\n",
      "Dear Wendy,\n",
      "\n",
      "I inform you that I have spoken with my girlfriend, we have reached some agreements. I inform you that I will be able to accept the job offer\n",
      "\n",
      "26\n",
      "**********\n",
      "\n",
      "\n",
      "I'm not looking for a job\n",
      "\n"
     ]
    }
   ],
   "source": [
    "for k,a in df_we.sample(5).payload.iteritems():\n",
    "    print(k,a,sep='\\n'+10*'*'+'\\n')"
   ]
  },
  {
   "cell_type": "markdown",
   "metadata": {},
   "source": [
    "### Join Mocks"
   ]
  },
  {
   "cell_type": "code",
   "execution_count": 32,
   "metadata": {},
   "outputs": [],
   "source": [
    "df = pd.concat([df_iv,df_so,df_sa,df_sm,df_we],ignore_index=True).sample(frac=1.0)"
   ]
  },
  {
   "cell_type": "code",
   "execution_count": 33,
   "metadata": {},
   "outputs": [
    {
     "data": {
      "text/plain": [
       "(146, 3)"
      ]
     },
     "execution_count": 33,
     "metadata": {},
     "output_type": "execute_result"
    }
   ],
   "source": [
    "df.shape"
   ]
  },
  {
   "cell_type": "code",
   "execution_count": 34,
   "metadata": {},
   "outputs": [
    {
     "data": {
      "text/html": [
       "<div>\n",
       "<style scoped>\n",
       "    .dataframe tbody tr th:only-of-type {\n",
       "        vertical-align: middle;\n",
       "    }\n",
       "\n",
       "    .dataframe tbody tr th {\n",
       "        vertical-align: top;\n",
       "    }\n",
       "\n",
       "    .dataframe thead th {\n",
       "        text-align: right;\n",
       "    }\n",
       "</style>\n",
       "<table border=\"1\" class=\"dataframe\">\n",
       "  <thead>\n",
       "    <tr style=\"text-align: right;\">\n",
       "      <th></th>\n",
       "      <th>payload</th>\n",
       "      <th>sentiment</th>\n",
       "      <th>mocker</th>\n",
       "    </tr>\n",
       "  </thead>\n",
       "  <tbody>\n",
       "    <tr>\n",
       "      <th>2</th>\n",
       "      <td>Hi,\\n\\nRegarding the job opening, I don't thin...</td>\n",
       "      <td>negative</td>\n",
       "      <td>Ivan</td>\n",
       "    </tr>\n",
       "    <tr>\n",
       "      <th>41</th>\n",
       "      <td>\\nDear recruiter\\n\\nthank you for getting in ...</td>\n",
       "      <td>negative</td>\n",
       "      <td>Sol</td>\n",
       "    </tr>\n",
       "  </tbody>\n",
       "</table>\n",
       "</div>"
      ],
      "text/plain": [
       "                                              payload sentiment mocker\n",
       "2   Hi,\\n\\nRegarding the job opening, I don't thin...  negative   Ivan\n",
       "41   \\nDear recruiter\\n\\nthank you for getting in ...  negative    Sol"
      ]
     },
     "execution_count": 34,
     "metadata": {},
     "output_type": "execute_result"
    }
   ],
   "source": [
    "df.sample(2)"
   ]
  },
  {
   "cell_type": "code",
   "execution_count": 35,
   "metadata": {},
   "outputs": [
    {
     "data": {
      "text/plain": [
       "positive    59\n",
       "neutral     49\n",
       "negative    38\n",
       "Name: sentiment, dtype: int64"
      ]
     },
     "execution_count": 35,
     "metadata": {},
     "output_type": "execute_result"
    }
   ],
   "source": [
    "df.sentiment.value_counts()"
   ]
  },
  {
   "cell_type": "markdown",
   "metadata": {},
   "source": [
    "Convert 'positive' and 'negative' values to 1 and 0 values, respectively."
   ]
  },
  {
   "cell_type": "code",
   "execution_count": 36,
   "metadata": {},
   "outputs": [],
   "source": [
    "#df.sentiment = df.sentiment.apply(lambda s: int(s=='positive'))\n",
    "df.to_csv('../data/interim/intekglobal_employee/emails.csv', index=False)"
   ]
  },
  {
   "cell_type": "markdown",
   "metadata": {},
   "source": [
    "Save dataframe in a file the positive and the negative cases, and the neutral case in another file"
   ]
  },
  {
   "cell_type": "code",
   "execution_count": 37,
   "metadata": {},
   "outputs": [
    {
     "name": "stdout",
     "output_type": "stream",
     "text": [
      "Dear Dr. Kobain,\n",
      " \n",
      "Thank you so much for offering me the position Software Engineer at Data Verde company. I am enthusiastic about the possibility of working with your team.\n",
      "\n",
      "I noticed the signing salary is lower than what we previously discussed Are you available for a phone call in the coming days to discuss?  \n",
      "\n",
      "Thanks again,\n",
      "Mickey Mantle\n",
      "Sentiment:\n",
      "neutral\n"
     ]
    }
   ],
   "source": [
    "ex = df.sample().iloc[0]\n",
    "print(ex.payload)\n",
    "print(f'Sentiment:\\n{ex.sentiment}')"
   ]
  }
 ],
 "metadata": {
  "kernelspec": {
   "display_name": "Python 3",
   "language": "python",
   "name": "python3"
  },
  "language_info": {
   "codemirror_mode": {
    "name": "ipython",
    "version": 3
   },
   "file_extension": ".py",
   "mimetype": "text/x-python",
   "name": "python",
   "nbconvert_exporter": "python",
   "pygments_lexer": "ipython3",
   "version": "3.7.6"
  }
 },
 "nbformat": 4,
 "nbformat_minor": 4
}
