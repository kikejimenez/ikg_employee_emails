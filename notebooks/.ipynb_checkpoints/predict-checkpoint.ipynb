{
 "cells": [
  {
   "cell_type": "code",
   "execution_count": 28,
   "metadata": {},
   "outputs": [
    {
     "name": "stdout",
     "output_type": "stream",
     "text": [
      "Note: you may need to restart the kernel to use updated packages.\n"
     ]
    }
   ],
   "source": [
    "pip install job-offer-classifier --upgrade > /dev/null"
   ]
  },
  {
   "cell_type": "code",
   "execution_count": 29,
   "metadata": {},
   "outputs": [
    {
     "name": "stdout",
     "output_type": "stream",
     "text": [
      "The autoreload extension is already loaded. To reload it, use:\n",
      "  %reload_ext autoreload\n"
     ]
    }
   ],
   "source": [
    "%load_ext autoreload\n",
    "%autoreload 2"
   ]
  },
  {
   "cell_type": "code",
   "execution_count": 30,
   "metadata": {},
   "outputs": [],
   "source": [
    "# default "
   ]
  },
  {
   "cell_type": "code",
   "execution_count": 31,
   "metadata": {},
   "outputs": [],
   "source": [
    "from os import path,listdir\n",
    "from shutil import rmtree\n",
    "import pandas as pd\n",
    "import numpy as np\n",
    "import job_offer_classifier\n",
    "from job_offer_classifier.pipeline_classifier import Pipeline\n",
    "from job_offer_classifier.validations import KFoldPipe\n",
    "from job_offer_classifier.pipeline_classifier import plot_confusion_matrix"
   ]
  },
  {
   "cell_type": "code",
   "execution_count": 32,
   "metadata": {},
   "outputs": [
    {
     "data": {
      "text/plain": [
       "'0.0.5'"
      ]
     },
     "execution_count": 32,
     "metadata": {},
     "output_type": "execute_result"
    }
   ],
   "source": [
    "job_offer_classifier.__version__"
   ]
  },
  {
   "cell_type": "code",
   "execution_count": 33,
   "metadata": {},
   "outputs": [],
   "source": [
    "# Shutdown TF info logging\n",
    "import tensorflow as tf\n",
    "tf.compat.v1.logging.set_verbosity(tf.compat.v1.logging.ERROR)"
   ]
  },
  {
   "cell_type": "code",
   "execution_count": 34,
   "metadata": {},
   "outputs": [],
   "source": [
    "#pl.evaluate()"
   ]
  },
  {
   "cell_type": "markdown",
   "metadata": {},
   "source": [
    "## Load the dataset"
   ]
  },
  {
   "cell_type": "markdown",
   "metadata": {},
   "source": [
    "The dataset consists of mock emails by the Intekglobal employees. "
   ]
  },
  {
   "cell_type": "code",
   "execution_count": 35,
   "metadata": {},
   "outputs": [],
   "source": [
    "pos_neg_file = '../data/interim/mocks_pos_neg.csv'"
   ]
  },
  {
   "cell_type": "code",
   "execution_count": 36,
   "metadata": {},
   "outputs": [],
   "source": [
    "df = pd.read_csv(pos_neg_file)"
   ]
  },
  {
   "cell_type": "markdown",
   "metadata": {},
   "source": [
    "The original data consisted of folders with the information provided by each employee. The preprocessing of can be found below in the **Preprocess the Mocks** section."
   ]
  },
  {
   "cell_type": "markdown",
   "metadata": {},
   "source": [
    "**The dataframe has the following structure:**"
   ]
  },
  {
   "cell_type": "code",
   "execution_count": 37,
   "metadata": {},
   "outputs": [
    {
     "data": {
      "text/html": [
       "<div>\n",
       "<style scoped>\n",
       "    .dataframe tbody tr th:only-of-type {\n",
       "        vertical-align: middle;\n",
       "    }\n",
       "\n",
       "    .dataframe tbody tr th {\n",
       "        vertical-align: top;\n",
       "    }\n",
       "\n",
       "    .dataframe thead th {\n",
       "        text-align: right;\n",
       "    }\n",
       "</style>\n",
       "<table border=\"1\" class=\"dataframe\">\n",
       "  <thead>\n",
       "    <tr style=\"text-align: right;\">\n",
       "      <th></th>\n",
       "      <th>payload</th>\n",
       "      <th>sentiment</th>\n",
       "      <th>mocker</th>\n",
       "    </tr>\n",
       "  </thead>\n",
       "  <tbody>\n",
       "    <tr>\n",
       "      <th>47</th>\n",
       "      <td>\\nto whom it might concern,\\n\\ntoday  I am wo...</td>\n",
       "      <td>0</td>\n",
       "      <td>Sol</td>\n",
       "    </tr>\n",
       "    <tr>\n",
       "      <th>53</th>\n",
       "      <td>\\nI would like to know more about the process ...</td>\n",
       "      <td>0</td>\n",
       "      <td>Sol</td>\n",
       "    </tr>\n",
       "  </tbody>\n",
       "</table>\n",
       "</div>"
      ],
      "text/plain": [
       "                                              payload  sentiment mocker\n",
       "47   \\nto whom it might concern,\\n\\ntoday  I am wo...          0    Sol\n",
       "53  \\nI would like to know more about the process ...          0    Sol"
      ]
     },
     "execution_count": 37,
     "metadata": {},
     "output_type": "execute_result"
    }
   ],
   "source": [
    "df.sample(2,random_state=200)"
   ]
  },
  {
   "cell_type": "code",
   "execution_count": 38,
   "metadata": {},
   "outputs": [
    {
     "name": "stdout",
     "output_type": "stream",
     "text": [
      "Total number of mocks: 72\n"
     ]
    }
   ],
   "source": [
    "print(f'Total number of mocks: {df.shape[0]}')"
   ]
  },
  {
   "cell_type": "code",
   "execution_count": 39,
   "metadata": {},
   "outputs": [
    {
     "name": "stdout",
     "output_type": "stream",
     "text": [
      "Number of mocks per mocker: \n",
      "Ivan        30\n",
      "Sol         30\n",
      "Salvador    12\n",
      "Name: mocker, dtype: int64\n"
     ]
    }
   ],
   "source": [
    "print(f'Number of mocks per mocker: \\n{df.mocker.value_counts()}')"
   ]
  },
  {
   "cell_type": "code",
   "execution_count": 40,
   "metadata": {},
   "outputs": [
    {
     "name": "stdout",
     "output_type": "stream",
     "text": [
      "Number of different sentiments: \n",
      "0    47\n",
      "1    25\n",
      "Name: sentiment, dtype: int64\n"
     ]
    }
   ],
   "source": [
    "print(f'Number of different sentiments: \\n{df.sentiment.value_counts()}')"
   ]
  },
  {
   "cell_type": "code",
   "execution_count": 41,
   "metadata": {},
   "outputs": [
    {
     "name": "stdout",
     "output_type": "stream",
     "text": [
      " \n",
      "\n",
      "Thank you for your email.\n",
      "should I qualify for this job, I'll be glad to schedule an interview.\n",
      "\n",
      "Marry S.\n",
      "\n",
      "\n",
      "\n",
      "sentiment: 1\n"
     ]
    }
   ],
   "source": [
    "ex = df.sample().iloc[0]\n",
    "print(ex.payload)\n",
    "print(f'\\nsentiment: {ex.sentiment}')"
   ]
  },
  {
   "cell_type": "markdown",
   "metadata": {},
   "source": [
    "## Predict Sentiments"
   ]
  },
  {
   "cell_type": "markdown",
   "metadata": {},
   "source": [
    "### Approach 1"
   ]
  },
  {
   "cell_type": "markdown",
   "metadata": {},
   "source": [
    "Initiate the `Pipeline` passing the estimator directory name, the dataset file arguments. Also, set the fraction of the training data equal to zero."
   ]
  },
  {
   "cell_type": "code",
   "execution_count": 42,
   "metadata": {},
   "outputs": [],
   "source": [
    "estimator_dir ='../models/balanced_estimator'\n",
    "assert path.isdir(estimator_dir)"
   ]
  },
  {
   "cell_type": "code",
   "execution_count": 43,
   "metadata": {},
   "outputs": [],
   "source": [
    "pl = Pipeline(\n",
    "    src_file=pos_neg_file,\n",
    "    estimator_dir=estimator_dir,\n",
    "    frac=0.0\n",
    ")"
   ]
  },
  {
   "cell_type": "markdown",
   "metadata": {},
   "source": [
    "The estimator has been trained in the **Load and Train the Estimator** section (see below). Next, load the estimator and the TF functions:"
   ]
  },
  {
   "cell_type": "code",
   "execution_count": 44,
   "metadata": {},
   "outputs": [],
   "source": [
    "pl.load_estimator()\n",
    "pl.input_fns()"
   ]
  },
  {
   "cell_type": "markdown",
   "metadata": {},
   "source": [
    "The resulting functions are stored in the `input` dictionary."
   ]
  },
  {
   "cell_type": "code",
   "execution_count": 45,
   "metadata": {},
   "outputs": [],
   "source": [
    "assert pl.dfs['test'].shape == df.shape"
   ]
  },
  {
   "cell_type": "markdown",
   "metadata": {},
   "source": [
    " [To prevent an evaluation over an empty set](https://github.com/kikejimenez/job_offer_classifier/issues/7), eliminate the TF function corresponding to the training set:"
   ]
  },
  {
   "cell_type": "code",
   "execution_count": 46,
   "metadata": {},
   "outputs": [
    {
     "data": {
      "text/plain": [
       "{'test': {'accuracy': 0.5277778,\n",
       "  'accuracy_baseline': 0.6527778,\n",
       "  'auc': 0.67999995,\n",
       "  'auc_precision_recall': 0.5300014,\n",
       "  'average_loss': 0.83660495,\n",
       "  'label/mean': 0.3472222,\n",
       "  'loss': 0.83660495,\n",
       "  'precision': 0.40816328,\n",
       "  'prediction/mean': 0.615813,\n",
       "  'recall': 0.8,\n",
       "  'global_step': 2400,\n",
       "  'f1_score': 0.5405405688625434}}"
      ]
     },
     "execution_count": 46,
     "metadata": {},
     "output_type": "execute_result"
    }
   ],
   "source": [
    "pl.evaluate()\n",
    "pl.evaluation"
   ]
  },
  {
   "cell_type": "code",
   "execution_count": 47,
   "metadata": {},
   "outputs": [
    {
     "data": {
      "image/png": "[encoded data removed]",
      "text/plain": [
       "<Figure size 432x288 with 2 Axes>"
      ]
     },
     "metadata": {
      "needs_background": "light"
     },
     "output_type": "display_data"
    }
   ],
   "source": [
    "pl.plot_confusion_matrix('test')"
   ]
  },
  {
   "cell_type": "markdown",
   "metadata": {},
   "source": [
    "Since the dataset has been passed to the `Pipeline` instance with zero fraction of train samples, the whole data is contained in the 'test' part:"
   ]
  },
  {
   "cell_type": "markdown",
   "metadata": {},
   "source": [
    "### Ivan"
   ]
  },
  {
   "cell_type": "code",
   "execution_count": 48,
   "metadata": {},
   "outputs": [
    {
     "data": {
      "image/png": "[encoded data removed]",
      "text/plain": [
       "<Figure size 432x288 with 2 Axes>"
      ]
     },
     "metadata": {
      "needs_background": "light"
     },
     "output_type": "display_data"
    }
   ],
   "source": [
    "ivan_file = '../data/interim/ivan_mocks.csv'\n",
    "df = pd.read_csv(pos_neg_file)\n",
    "df[df.mocker =='Ivan'].to_csv(ivan_file,index=False)\n",
    "\n",
    "pl = Pipeline(\n",
    "    src_file=ivan_file,\n",
    "    estimator_dir=estimator_dir,\n",
    "    frac=0.0\n",
    ")\n",
    "\n",
    "pl.load_estimator()\n",
    "pl.input_fns()\n",
    "pl.plot_confusion_matrix('test')"
   ]
  },
  {
   "cell_type": "markdown",
   "metadata": {},
   "source": [
    "## Sol"
   ]
  },
  {
   "cell_type": "code",
   "execution_count": 49,
   "metadata": {},
   "outputs": [],
   "source": [
    "#sol = pd.read_csv(sol_file)\n",
    "#for k,s in sol.iterrows():\n",
    "#    print(s.payload,s.sentiment, sep = '\\nSentiment\\n\\n')\n",
    "#    print('\\n'+50*'*'+'\\n')"
   ]
  },
  {
   "cell_type": "code",
   "execution_count": 50,
   "metadata": {},
   "outputs": [
    {
     "data": {
      "image/png": "[encoded data removed]",
      "text/plain": [
       "<Figure size 432x288 with 2 Axes>"
      ]
     },
     "metadata": {
      "needs_background": "light"
     },
     "output_type": "display_data"
    }
   ],
   "source": [
    "mocks_file ='../data/interim/mocks.csv'\n",
    "sol_file = '../data/interim/sol_mocks.csv'\n",
    "df = pd.read_csv(pos_neg_file)\n",
    "df[df.mocker =='Sol'].to_csv(sol_file,index=False)\n",
    "\n",
    "pl = Pipeline(\n",
    "    src_file=sol_file,\n",
    "    estimator_dir=estimator_dir,\n",
    "    frac=0.0\n",
    ")\n",
    "\n",
    "pl.load_estimator()\n",
    "pl.input_fns()\n",
    "pl.plot_confusion_matrix('test')"
   ]
  },
  {
   "cell_type": "code",
   "execution_count": 51,
   "metadata": {},
   "outputs": [],
   "source": [
    "## Salvador "
   ]
  },
  {
   "cell_type": "code",
   "execution_count": 52,
   "metadata": {},
   "outputs": [
    {
     "data": {
      "text/plain": [
       "Ivan        30\n",
       "Sol         30\n",
       "Salvador    12\n",
       "Name: mocker, dtype: int64"
      ]
     },
     "execution_count": 52,
     "metadata": {},
     "output_type": "execute_result"
    }
   ],
   "source": [
    "df.mocker.value_counts()"
   ]
  },
  {
   "cell_type": "code",
   "execution_count": 53,
   "metadata": {},
   "outputs": [],
   "source": [
    "#chava = pd.read_csv(salvador_file)\n",
    "#for k,s in chava.iterrows():\n",
    "#    print(s.payload,s.sentiment, sep = '\\nSentiment\\n\\n')\n",
    "#    print('\\n'+50*'*'+'\\n')"
   ]
  },
  {
   "cell_type": "code",
   "execution_count": 54,
   "metadata": {},
   "outputs": [
    {
     "data": {
      "image/png": "[encoded data removed]",
      "text/plain": [
       "<Figure size 432x288 with 2 Axes>"
      ]
     },
     "metadata": {
      "needs_background": "light"
     },
     "output_type": "display_data"
    }
   ],
   "source": [
    "salvador_file = '../data/interim/salvador_mocks.csv'\n",
    "df = pd.read_csv(pos_neg_file)\n",
    "df[df.mocker =='Salvador'].to_csv(salvador_file,index=False)\n",
    "\n",
    "pl = Pipeline(\n",
    "    src_file=salvador_file,\n",
    "    estimator_dir=estimator_dir,\n",
    "    frac=0.0\n",
    ")\n",
    "\n",
    "pl.load_estimator()\n",
    "pl.input_fns()\n",
    "pl.plot_confusion_matrix('test')"
   ]
  }
 ],
 "metadata": {
  "kernelspec": {
   "display_name": "Python 3",
   "language": "python",
   "name": "python3"
  },
  "language_info": {
   "codemirror_mode": {
    "name": "ipython",
    "version": 3
   },
   "file_extension": ".py",
   "mimetype": "text/x-python",
   "name": "python",
   "nbconvert_exporter": "python",
   "pygments_lexer": "ipython3",
   "version": "3.7.6"
  }
 },
 "nbformat": 4,
 "nbformat_minor": 4
}
