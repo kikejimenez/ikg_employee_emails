{
 "cells": [
  {
   "cell_type": "code",
   "execution_count": 76,
   "metadata": {},
   "outputs": [
    {
     "name": "stdout",
     "output_type": "stream",
     "text": [
      "Note: you may need to restart the kernel to use updated packages.\n"
     ]
    }
   ],
   "source": [
    "pip install -r ../requirements.txt > /dev/null"
   ]
  },
  {
   "cell_type": "code",
   "execution_count": 77,
   "metadata": {},
   "outputs": [
    {
     "name": "stdout",
     "output_type": "stream",
     "text": [
      "Note: you may need to restart the kernel to use updated packages.\n"
     ]
    }
   ],
   "source": [
    "pip install job-offer-classifier --upgrade > /dev/null"
   ]
  },
  {
   "cell_type": "code",
   "execution_count": 78,
   "metadata": {},
   "outputs": [
    {
     "name": "stdout",
     "output_type": "stream",
     "text": [
      "The autoreload extension is already loaded. To reload it, use:\n",
      "  %reload_ext autoreload\n"
     ]
    }
   ],
   "source": [
    "%load_ext autoreload\n",
    "%autoreload 2"
   ]
  },
  {
   "cell_type": "code",
   "execution_count": 79,
   "metadata": {},
   "outputs": [],
   "source": [
    "# default "
   ]
  },
  {
   "cell_type": "code",
   "execution_count": 80,
   "metadata": {},
   "outputs": [],
   "source": [
    "from os import path,listdir\n",
    "from shutil import rmtree\n",
    "import pandas as pd\n",
    "import numpy as np\n",
    "import job_offer_classifier\n",
    "from job_offer_classifier.pipeline_classifier import Pipeline\n",
    "from job_offer_classifier.validations import KFoldPipe\n",
    "from job_offer_classifier.pipeline_classifier import plot_confusion_matrix"
   ]
  },
  {
   "cell_type": "code",
   "execution_count": 81,
   "metadata": {},
   "outputs": [
    {
     "data": {
      "text/plain": [
       "'0.0.5'"
      ]
     },
     "execution_count": 81,
     "metadata": {},
     "output_type": "execute_result"
    }
   ],
   "source": [
    "job_offer_classifier.__version__"
   ]
  },
  {
   "cell_type": "code",
   "execution_count": 82,
   "metadata": {},
   "outputs": [],
   "source": [
    "# Shutdown TF info logging\n",
    "import tensorflow as tf\n",
    "tf.compat.v1.logging.set_verbosity(tf.compat.v1.logging.ERROR)"
   ]
  },
  {
   "cell_type": "markdown",
   "metadata": {},
   "source": [
    "## Balance the dataset"
   ]
  },
  {
   "cell_type": "markdown",
   "metadata": {},
   "source": [
    "Cibatel+webpage"
   ]
  },
  {
   "cell_type": "code",
   "execution_count": 83,
   "metadata": {},
   "outputs": [],
   "source": [
    "df = pd.read_csv('../data/raw/training_payloads.csv')\n",
    "nb_cases = min([min(df.sentiment.value_counts().values),50])\n",
    "df_pos = df[df.sentiment == 1].sample(nb_cases)\n",
    "df_neg = df[df.sentiment == 0].sample(nb_cases)\n",
    "\n",
    "df_balanced = pd.concat([df_pos,df_neg]).sample(frac = 1)"
   ]
  },
  {
   "cell_type": "markdown",
   "metadata": {},
   "source": [
    "mocks"
   ]
  },
  {
   "cell_type": "code",
   "execution_count": 84,
   "metadata": {},
   "outputs": [],
   "source": [
    "df_mocks_pos_neg = pd.read_csv('../data/interim/mocks_pos_neg.csv')"
   ]
  },
  {
   "cell_type": "markdown",
   "metadata": {},
   "source": [
    "All"
   ]
  },
  {
   "cell_type": "code",
   "execution_count": 85,
   "metadata": {},
   "outputs": [],
   "source": [
    "df = pd.concat([df_balanced,df_mocks_pos_neg.drop('mocker',axis=1)])\n",
    "df.to_csv('../data/cibatel_.csv')"
   ]
  },
  {
   "cell_type": "code",
   "execution_count": 86,
   "metadata": {},
   "outputs": [
    {
     "data": {
      "text/plain": [
       "0    97\n",
       "1    75\n",
       "Name: sentiment, dtype: int64"
      ]
     },
     "execution_count": 86,
     "metadata": {},
     "output_type": "execute_result"
    }
   ],
   "source": [
    "df.sentiment.value_counts()"
   ]
  },
  {
   "cell_type": "code",
   "execution_count": 87,
   "metadata": {},
   "outputs": [],
   "source": [
    "kfp = KFoldPipe(n_splits = 4,src_file=balanced_file)\n",
    "kfp.train_steps = 600"
   ]
  },
  {
   "cell_type": "code",
   "execution_count": null,
   "metadata": {},
   "outputs": [],
   "source": [
    "kfp.k_fold_validation()"
   ]
  },
  {
   "cell_type": "code",
   "execution_count": null,
   "metadata": {},
   "outputs": [],
   "source": [
    "kfp.best_seed"
   ]
  },
  {
   "cell_type": "code",
   "execution_count": 57,
   "metadata": {},
   "outputs": [],
   "source": [
    "kfp.random_state = kfp.best_seed\n",
    "kfp.pipeline()"
   ]
  },
  {
   "cell_type": "code",
   "execution_count": 58,
   "metadata": {},
   "outputs": [],
   "source": [
    "rmtree('../models/all_estimator',ignore_errors=True)\n",
    "kfp.export_estimator('../models/all_estimator')"
   ]
  },
  {
   "cell_type": "code",
   "execution_count": 59,
   "metadata": {},
   "outputs": [],
   "source": [
    "del kfp"
   ]
  },
  {
   "cell_type": "code",
   "execution_count": 63,
   "metadata": {},
   "outputs": [],
   "source": [
    "kfp = KFoldPipe(n_splits =1,src_file=balanced_file,estimator_dir='../models/all_estimator')\n",
    "kfp.load_estimator()\n",
    "kfp.input_fns()"
   ]
  },
  {
   "cell_type": "code",
   "execution_count": 61,
   "metadata": {},
   "outputs": [
    {
     "data": {
      "image/png": "[encoded data removed]",
      "text/plain": [
       "<Figure size 432x288 with 2 Axes>"
      ]
     },
     "metadata": {
      "needs_background": "light"
     },
     "output_type": "display_data"
    }
   ],
   "source": [
    "kfp.plot_confusion_matrix('train')"
   ]
  },
  {
   "cell_type": "code",
   "execution_count": 62,
   "metadata": {},
   "outputs": [
    {
     "data": {
      "image/png": "[encoded data removed]",
      "text/plain": [
       "<Figure size 432x288 with 2 Axes>"
      ]
     },
     "metadata": {
      "needs_background": "light"
     },
     "output_type": "display_data"
    }
   ],
   "source": [
    "kfp.plot_confusion_matrix('test')"
   ]
  },
  {
   "cell_type": "code",
   "execution_count": 70,
   "metadata": {},
   "outputs": [
    {
     "name": "stdout",
     "output_type": "stream",
     "text": [
      "27\n",
      "thanks for your email.\n",
      "iam  interested in this position.\n",
      "Expected: 1\n",
      "Predicted: 1\n",
      "31\n",
      "this is with reference to your job offer that you placed for the position of Commercial horticulturist.\n",
      "after careful consideration of my\n",
      "responsibilities and the kind of role i need to perform, i would like to rescind my acceptance for the said post.\n",
      "i understand that i would miss the opportunity of working with a reputed company, backed with friendly and warm colleagues, but i have a\n",
      "better offer as Commercial horticulturist in a small company.\n",
      "it was a tough call making the decision as the reputation your company has is\n",
      "incomparable.\n",
      "i hope i should not regret my decision in the near future.\n",
      "Expected: 0\n",
      "Predicted: 0\n",
      "23\n",
      "i am very much interested for this position.\n",
      "please find the attached\n",
      "resume.\n",
      "Expected: 1\n",
      "Predicted: 1\n",
      "78\n",
      "thank you so much for the offer to work as a Ophthalmologist at Fitzgerald, Mcbride and Lee.\n",
      "i very much appreciate your time and consideration, and your effort in\n",
      "answering my questions and helping me navigate the application process.\n",
      "i was very happy to meet you and Dean Guzman on\n",
      "February 17, 1985.\n",
      "while working with you as Fitzgerald, Mcbride and Lee sounds like a tremendous\n",
      "opportunity, i have decided to take a different position.\n",
      "i’ve enjoyed getting to know you and everyone at Fitzgerald, Mcbride and Lee, and hope\n",
      "we have the chance to meet in the future.\n",
      "again, thank you for your\n",
      "consideration and the generous offer.\n",
      "i wish you all the best.\n",
      "Expected: 0\n",
      "Predicted: 0\n",
      "20\n",
      "thank you so much for offering me the position of marketing manager at Gonzalez-Johnson.\n",
      "it has been a\n",
      "pleasure speaking with you and learning more about your company.\n",
      "unfortunately, after giving a great deal of thought to this career opportunity, i have decided that it is in my\n",
      "best interest, as well as the company’s, to turn down your gracious job offer.\n",
      "i have recently decided to\n",
      "accept another position that i believe is a better fit for my abilities and skill set.\n",
      "i am truly sorry for any inconvenience this decision may cause.\n",
      "i continue to be impressed with Gonzalez-Johnson growth and standing in the marketplace.\n",
      "i wish you all the best in your future endeavors.\n",
      "i hope to see you at the upcoming marketing conference\n",
      "in june.\n",
      "Expected: 0\n",
      "Predicted: 0\n"
     ]
    }
   ],
   "source": [
    "df_ex =  kfp.dfs['test'].sample(5)\n",
    "df_ex['prediction'] = kfp.predict(df_ex)\n",
    "\n",
    "for k,r in df_ex.iterrows():\n",
    "    print(k,sep='\\n')\n",
    "    print(r.payload.strip(), f'Expected: {r.sentiment}',f'Predicted: {r.prediction}',sep='\\n')\n",
    " "
   ]
  },
  {
   "cell_type": "markdown",
   "metadata": {},
   "source": [
    "The dataset consists of mock emails by the Intekglobal employees. "
   ]
  },
  {
   "cell_type": "markdown",
   "metadata": {},
   "source": [
    "Convert 'positive' and 'negative' values to 1 and 0 values, respectively."
   ]
  }
 ],
 "metadata": {
  "kernelspec": {
   "display_name": "Python 3",
   "language": "python",
   "name": "python3"
  },
  "language_info": {
   "codemirror_mode": {
    "name": "ipython",
    "version": 3
   },
   "file_extension": ".py",
   "mimetype": "text/x-python",
   "name": "python",
   "nbconvert_exporter": "python",
   "pygments_lexer": "ipython3",
   "version": "3.7.6"
  }
 },
 "nbformat": 4,
 "nbformat_minor": 4
}
